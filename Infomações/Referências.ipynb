{
 "cells": [
  {
   "cell_type": "markdown",
   "id": "f222bb5f",
   "metadata": {
    "slideshow": {
     "slide_type": "slide"
    }
   },
   "source": [
    "\n",
    "# Uma breve introdução ao Machine Learning"
   ]
  },
  {
   "cell_type": "markdown",
   "id": "bf5b1f2d",
   "metadata": {
    "slideshow": {
     "slide_type": "-"
    }
   },
   "source": [
    "Gabriel Wendell Celestino Rocha"
   ]
  },
  {
   "cell_type": "markdown",
   "id": "1698e0ea",
   "metadata": {
    "slideshow": {
     "slide_type": "skip"
    }
   },
   "source": [
    "Material de um minicurso de introdução ao Machine Learning oferecido pelo [PET - Física](https://petfisica.home.blog)."
   ]
  },
  {
   "cell_type": "markdown",
   "id": "bcf710cc",
   "metadata": {
    "slideshow": {
     "slide_type": "skip"
    }
   },
   "source": [
    "O conteúdo é mantido no [GitHub]() e distribuídos sob uma [licença BSD3](https://opensource.org/licenses/BSD-3-Clause)."
   ]
  },
  {
   "cell_type": "markdown",
   "id": "29321f88",
   "metadata": {
    "slideshow": {
     "slide_type": "skip"
    }
   },
   "source": [
    "- [Veja a tabela de conteúdos]()"
   ]
  },
  {
   "cell_type": "markdown",
   "id": "79be8e30",
   "metadata": {
    "slideshow": {
     "slide_type": "skip"
    }
   },
   "source": [
    "Este `Notebook` pode, opcionalmente, ser visto como uma [apresentação de slides](https://medium.com/learning-machine-learning/present-your-data-science-projects-with-jupyter-slides-75f20735eb0f). Clique [aqui]() para ver os slides online ou, para apresentar os slides localmente, use:"
   ]
  },
  {
   "cell_type": "markdown",
   "id": "d899a334",
   "metadata": {
    "slideshow": {
     "slide_type": "skip"
    }
   },
   "source": [
    "```Python\n",
    "$ jupyter nbconvert Dia2.ipynb --to slides --post serve\n",
    "```"
   ]
  },
  {
   "cell_type": "markdown",
   "id": "bff047a9",
   "metadata": {
    "slideshow": {
     "slide_type": "-"
    }
   },
   "source": [
    "---"
   ]
  },
  {
   "cell_type": "markdown",
   "id": "742dd37b",
   "metadata": {
    "slideshow": {
     "slide_type": "slide"
    }
   },
   "source": [
    "## Preparação"
   ]
  },
  {
   "cell_type": "markdown",
   "id": "77f11825",
   "metadata": {
    "slideshow": {
     "slide_type": "-"
    }
   },
   "source": [
    "Este curso pressupõe uma familiaridade básica com a linguagem python principal. Se você está enferrujado ou ainda aprendendo, eu recomendo:"
   ]
  },
  {
   "cell_type": "markdown",
   "id": "b362d425",
   "metadata": {
    "slideshow": {
     "slide_type": "-"
    }
   },
   "source": [
    "- *A Whirlwind Tour of Python*, Jake VanderPlas: [GitHub](https://jakevdp.github.io/WhirlwindTourOfPython/), [Notebook online](https://nbviewer.org/github/jakevdp/WhirlwindTourOfPython/blob/master/Index.ipynb)"
   ]
  },
  {
   "cell_type": "markdown",
   "id": "a26bfd07",
   "metadata": {
    "slideshow": {
     "slide_type": "-"
    }
   },
   "source": [
    "Também assumimos uma base sólida de álgebra linear, neste nível:"
   ]
  },
  {
   "cell_type": "markdown",
   "id": "340aa1e3",
   "metadata": {
    "slideshow": {
     "slide_type": "-"
    }
   },
   "source": [
    "- *Linear Algebra Review and Reference*, Stanford CS229: [PDF](http://cs229.stanford.edu/section/cs229-linalg.pdf)"
   ]
  },
  {
   "cell_type": "markdown",
   "id": "792b2972",
   "metadata": {
    "slideshow": {
     "slide_type": "slide"
    }
   },
   "source": [
    "## Leitura recomendada"
   ]
  },
  {
   "cell_type": "markdown",
   "id": "9356d077",
   "metadata": {
    "slideshow": {
     "slide_type": "-"
    }
   },
   "source": [
    "Aqui estão algumas referências gerais de estilo de livro didático que são mais diretamente relevantes para este curso:"
   ]
  },
  {
   "cell_type": "markdown",
   "id": "7d95abbd",
   "metadata": {
    "slideshow": {
     "slide_type": "-"
    }
   },
   "source": [
    "- *Python Data Science Handbook*, Jake VanderPlas: [Leitura adicional](https://jakevdp.github.io/PythonDataScienceHandbook/index.html)\n",
    "\n",
    "- *Statistics, Data Mining, and Machine Learning in Astronomy*, Zeljko Ivezic et al: [Amazon](https://www.amazon.com.br/Statistics-Mining-Machine-Learning-Astronomy/dp/0691151687)\n",
    "\n",
    "- *Think Bayes*, Allen Downey: [PDF](https://greenteapress.com/wp/think-bayes/)"
   ]
  },
  {
   "cell_type": "markdown",
   "id": "e8316ba1",
   "metadata": {
    "slideshow": {
     "slide_type": "-"
    }
   },
   "source": [
    "Há muitas referências adicionais para tópicos específicos nos cadernos desse mini-curso."
   ]
  },
  {
   "cell_type": "markdown",
   "id": "a5be1bfa",
   "metadata": {
    "slideshow": {
     "slide_type": "slide"
    }
   },
   "source": [
    "## Leitura adicional"
   ]
  },
  {
   "cell_type": "markdown",
   "id": "6ba955f8",
   "metadata": {
    "slideshow": {
     "slide_type": "-"
    }
   },
   "source": [
    "Aqui estão algumas referências adicionais que achei úteis, mas que vão um pouco além do escopo deste mini-curso:"
   ]
  },
  {
   "cell_type": "markdown",
   "id": "2afa9a0e",
   "metadata": {
    "slideshow": {
     "slide_type": "-"
    }
   },
   "source": [
    "- *Information Theory, Inference, and Learning Algorithms*, David MacKay: [PDF](http://www.inference.org.uk/itprnn/book.pdf)\n",
    "\n",
    "- *Elements of Statistical Learning*, Trevor Hastie et al: [PDF](https://hastie.su.domains/Papers/ESLII.pdf)\n",
    "\n",
    "- *Deep Learning*, Ian Goodfellow et al: [PDF](https://www.deeplearningbook.org)\n",
    "\n",
    "- *Practical Deep Learning for Coders*: [fast.ai online course](https://course.fast.ai)"
   ]
  },
  {
   "cell_type": "markdown",
   "id": "73c40345",
   "metadata": {
    "slideshow": {
     "slide_type": "-"
    }
   },
   "source": [
    "---"
   ]
  }
 ],
 "metadata": {
  "celltoolbar": "Slideshow",
  "kernelspec": {
   "display_name": "Python 3 (ipykernel)",
   "language": "python",
   "name": "python3"
  },
  "language_info": {
   "codemirror_mode": {
    "name": "ipython",
    "version": 3
   },
   "file_extension": ".py",
   "mimetype": "text/x-python",
   "name": "python",
   "nbconvert_exporter": "python",
   "pygments_lexer": "ipython3",
   "version": "3.9.8"
  }
 },
 "nbformat": 4,
 "nbformat_minor": 5
}
