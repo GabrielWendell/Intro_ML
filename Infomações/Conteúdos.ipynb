{
 "cells": [
  {
   "cell_type": "markdown",
   "id": "f29e7ae9",
   "metadata": {},
   "source": [
    "# Minicurso: Uma breve introdução ao Machine Learning"
   ]
  },
  {
   "cell_type": "markdown",
   "id": "71a9b7c7",
   "metadata": {},
   "source": [
    "Material de um minicurso de introdução ao Machine Learning oferecido pelo [PET - Física](https://petfisica.home.blog)."
   ]
  },
  {
   "cell_type": "markdown",
   "id": "26c739fc",
   "metadata": {},
   "source": [
    "O conteúdo é mantido no [GitHub](https://github.com/GabrielWendell/Intro_ML) e distribuídos sob uma [licença BSD3](https://opensource.org/licenses/BSD-3-Clause)."
   ]
  },
  {
   "cell_type": "markdown",
   "id": "57c46c88",
   "metadata": {},
   "source": [
    "## Conteúdos"
   ]
  },
  {
   "cell_type": "markdown",
   "id": "1427d6e5",
   "metadata": {},
   "source": [
    "- Dia 1: [O que é o Machine Learning](https://github.com/GabrielWendell/Intro_ML/blob/main/Notebooks/Dia1.ipynb)"
   ]
  },
  {
   "cell_type": "markdown",
   "id": "7097cf7e",
   "metadata": {},
   "source": [
    "- Dia 2: [Computação tensorial](https://github.com/GabrielWendell/Intro_ML/blob/main/Notebooks/Dia2.ipynb)"
   ]
  },
  {
   "cell_type": "markdown",
   "id": "2c2510ff",
   "metadata": {},
   "source": [
    "- Dia 3: [Localizando estruturas em dados.](https://github.com/GabrielWendell/Intro_ML/blob/main/Notebooks/Dia3.ipynb)"
   ]
  },
  {
   "cell_type": "markdown",
   "id": "737effb0",
   "metadata": {},
   "source": [
    "- Dia 4: [Medição e redução de dimensionalidade.](https://github.com/GabrielWendell/Intro_ML/blob/main/Notebooks/Dia4.ipynb)"
   ]
  },
  {
   "cell_type": "markdown",
   "id": "d6769e43",
   "metadata": {},
   "source": [
    "- Dia 5: [Adaptação de métodos lineares para problemas não lineares](https://github.com/GabrielWendell/Intro_ML/blob/main/Notebooks/Dia5.ipynb)"
   ]
  },
  {
   "cell_type": "markdown",
   "id": "aac61a44",
   "metadata": {},
   "source": [
    "---"
   ]
  }
 ],
 "metadata": {
  "kernelspec": {
   "display_name": "Python 3 (ipykernel)",
   "language": "python",
   "name": "python3"
  },
  "language_info": {
   "codemirror_mode": {
    "name": "ipython",
    "version": 3
   },
   "file_extension": ".py",
   "mimetype": "text/x-python",
   "name": "python",
   "nbconvert_exporter": "python",
   "pygments_lexer": "ipython3",
   "version": "3.9.8"
  }
 },
 "nbformat": 4,
 "nbformat_minor": 5
}
