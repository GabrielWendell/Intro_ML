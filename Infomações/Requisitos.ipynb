{
 "cells": [
  {
   "cell_type": "markdown",
   "id": "f67817dc",
   "metadata": {
    "slideshow": {
     "slide_type": "slide"
    }
   },
   "source": [
    "\n",
    "# Uma breve introdução ao Machine Learning"
   ]
  },
  {
   "cell_type": "markdown",
   "id": "9bff705d",
   "metadata": {
    "slideshow": {
     "slide_type": "-"
    }
   },
   "source": [
    "Gabriel Wendell Celestino Rocha"
   ]
  },
  {
   "cell_type": "markdown",
   "id": "fc83df1f",
   "metadata": {
    "slideshow": {
     "slide_type": "skip"
    }
   },
   "source": [
    "Material de um minicurso de introdução ao Machine Learning oferecido pelo [PET - Física](https://petfisica.home.blog)."
   ]
  },
  {
   "cell_type": "markdown",
   "id": "f0de6eb1",
   "metadata": {
    "slideshow": {
     "slide_type": "skip"
    }
   },
   "source": [
    "O conteúdo é mantido no [GitHub]() e distribuídos sob uma [licença BSD3](https://opensource.org/licenses/BSD-3-Clause)."
   ]
  },
  {
   "cell_type": "markdown",
   "id": "ed07d746",
   "metadata": {
    "slideshow": {
     "slide_type": "skip"
    }
   },
   "source": [
    "- [Veja a tabela de conteúdos]()"
   ]
  },
  {
   "cell_type": "markdown",
   "id": "ec6b1fb1",
   "metadata": {
    "slideshow": {
     "slide_type": "skip"
    }
   },
   "source": [
    "Este `Notebook` pode, opcionalmente, ser visto como uma [apresentação de slides](https://medium.com/learning-machine-learning/present-your-data-science-projects-with-jupyter-slides-75f20735eb0f). Clique [aqui]() para ver os slides online ou, para apresentar os slides localmente, use:"
   ]
  },
  {
   "cell_type": "markdown",
   "id": "43b5ec15",
   "metadata": {
    "slideshow": {
     "slide_type": "skip"
    }
   },
   "source": [
    "```Python\n",
    "$ jupyter nbconvert Dia2.ipynb --to slides --post serve\n",
    "```"
   ]
  },
  {
   "cell_type": "markdown",
   "id": "e4119d18",
   "metadata": {
    "slideshow": {
     "slide_type": "-"
    }
   },
   "source": [
    "---"
   ]
  },
  {
   "cell_type": "markdown",
   "id": "9096c44d",
   "metadata": {
    "slideshow": {
     "slide_type": "slide"
    }
   },
   "source": [
    "## Pré-requisitos"
   ]
  },
  {
   "cell_type": "markdown",
   "id": "cad5dbe1",
   "metadata": {
    "slideshow": {
     "slide_type": "-"
    }
   },
   "source": [
    "- Crie uma conta no [GitHub](https://github.com) se você ainda não tiver uma.\n",
    "\n",
    "- [Baixe](https://git-scm.com/downloads) e instale as ferramentas de linha de comando git em seu computador, se necessário.\n",
    "\n",
    "- [Baixe](https://www.anaconda.com/products/distribution) e instale a versão atual do python 3.x da [distribuição anaconda](https://www.anaconda.com/products/distribution) em seu computador, se necessário.\n",
    "\n",
    "> As notas recuadas assim fornecem detalhes adicionais sobre tópicos mais avançados.\n",
    "\n",
    "> Se você já possui uma versão mais antiga do anaconda instalada que deseja manter, as instruções abaixo criam um novo ambiente que não deve atrapalhar seu trabalho anterior e você provavelmente pode continuar com as instruções abaixo após a execução:\n",
    "\n",
    "> `$ conda update conda`"
   ]
  },
  {
   "cell_type": "markdown",
   "id": "213a4851",
   "metadata": {
    "slideshow": {
     "slide_type": "subslide"
    }
   },
   "source": [
    "Este curso pressupõe uma familiaridade básica com a linguagem python principal. Se você está enferrujado ou ainda aprendendo, recomendo o ebook gratuito [A Whirlwind Tour of Python](https://nbviewer.org/github/jakevdp/WhirlwindTourOfPython/blob/master/Index.ipynb), que é \"*uma introdução rápida aos componentes essenciais da linguagem Python para pesquisadores e desenvolvedores que já estão familiarizados com programação em outra linguagem*\".\n",
    "\n",
    "> Se você estiver usando o python 2.xe relutante em mudar para o python 3, leia [isto](https://wiki.python.org/moin/Python2orPython3) e [isto](https://python3statement.org)."
   ]
  },
  {
   "cell_type": "markdown",
   "id": "076e876f",
   "metadata": {
    "slideshow": {
     "slide_type": "-"
    }
   },
   "source": [
    "Nenhuma experiência anterior com git ou github é necessária para este curso (mas eles são ferramentas de pesquisa úteis, então vale a pena aprender - [aqui](https://docs.github.com/pt/get-started/using-git/about-git) está um bom ponto de partida). Se você está achando que a curva de aprendizado do git é íngreme, você [não está sozinho](https://explainxkcd.com/wiki/index.php/1597:_Git)."
   ]
  },
  {
   "cell_type": "markdown",
   "id": "adbf9ed2",
   "metadata": {
    "slideshow": {
     "slide_type": "slide"
    }
   },
   "source": [
    "## Instale o material do mini-curso"
   ]
  },
  {
   "cell_type": "markdown",
   "id": "5e7f5ffe",
   "metadata": {
    "slideshow": {
     "slide_type": "-"
    }
   },
   "source": [
    "Clone o material do curso do GitHub com o seguinte comando, que criará um subdiretório chamado :"
   ]
  },
  {
   "cell_type": "markdown",
   "id": "7a34a33c",
   "metadata": {},
   "source": [
    "[https://github.com/dkirkby/MachineLearningStatistics/blob/3aa7385e1fd0b1572013bdf1f1c823806b744b2d/notebooks/Setup.ipynb](https://github.com/dkirkby/MachineLearningStatistics/blob/3aa7385e1fd0b1572013bdf1f1c823806b744b2d/notebooks/Setup.ipynb)"
   ]
  },
  {
   "cell_type": "code",
   "execution_count": null,
   "id": "c79563b2",
   "metadata": {},
   "outputs": [],
   "source": []
  }
 ],
 "metadata": {
  "celltoolbar": "Slideshow",
  "kernelspec": {
   "display_name": "Python 3 (ipykernel)",
   "language": "python",
   "name": "python3"
  },
  "language_info": {
   "codemirror_mode": {
    "name": "ipython",
    "version": 3
   },
   "file_extension": ".py",
   "mimetype": "text/x-python",
   "name": "python",
   "nbconvert_exporter": "python",
   "pygments_lexer": "ipython3",
   "version": "3.9.8"
  }
 },
 "nbformat": 4,
 "nbformat_minor": 5
}
