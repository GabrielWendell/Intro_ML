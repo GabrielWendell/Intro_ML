{
 "cells": [
  {
   "cell_type": "markdown",
   "id": "2b2fe8d4",
   "metadata": {},
   "source": [
    "\n",
    "# Uma breve introdução ao Machine Learning\n",
    "## Problemas propostos #02"
   ]
  },
  {
   "cell_type": "markdown",
   "id": "e1caf928",
   "metadata": {},
   "source": [
    "- **Dia 2**: [Computação Tensorial]()"
   ]
  },
  {
   "cell_type": "markdown",
   "id": "1a889dba",
   "metadata": {},
   "source": [
    "---"
   ]
  },
  {
   "cell_type": "markdown",
   "id": "2d7ebc77",
   "metadata": {},
   "source": [
    "## Problema 1 "
   ]
  },
  {
   "cell_type": "markdown",
   "id": "afd39c95",
   "metadata": {},
   "source": [
    "**a)** Use `np.einsum` para avaliar a expressão do tensor $g^{i\\ell}\\Gamma_{ki}^{m}x^{k}$ que surge em [derivadas contravariantes na Relatividade Geral](https://en.wikipedia.org/wiki/Christoffel_symbols#Covariant_derivatives_of_tensors). Observe que estamos usando a convenção GR de que índices repetidos $(k,\\ell)$ são somados."
   ]
  },
  {
   "cell_type": "code",
   "execution_count": null,
   "id": "49421ade",
   "metadata": {},
   "outputs": [],
   "source": [
    "def tensor_expr(g, Gamma, x, D = 4):\n",
    "    \"\"\"Avalie a expressão tensorial acima.\n",
    "    \n",
    "    Parâmetros\n",
    "    ----------\n",
    "    g : array\n",
    "        Numpy array de shape (D, D)\n",
    "    Gamma : array\n",
    "        Numpy array de shape (D, D, D)\n",
    "    x : array\n",
    "        Numpy array de shape (D,)\n",
    "    D : int\n",
    "       Dimensão dos tensores de entrada.\n",
    "        \n",
    "    Retorna\n",
    "    -------\n",
    "    array\n",
    "        Numpy array de shape (D, D) que avalia a expressão tensorial.\n",
    "    \"\"\"\n",
    "    assert g.shape == (D, D)\n",
    "    assert Gamma.shape == (D, D, D)\n",
    "    assert x.shape == (D,)\n",
    "    \n",
    "    # SEU CÓDIGO AQUI\n",
    "    \n",
    "    raise NotImplementedError()"
   ]
  },
  {
   "cell_type": "markdown",
   "id": "a2011170",
   "metadata": {},
   "source": [
    "**b)** Submeta seu código a uma série de testes (os chamados *sanity tests*):"
   ]
  },
  {
   "cell_type": "code",
   "execution_count": null,
   "id": "8f443b16",
   "metadata": {},
   "outputs": [],
   "source": [
    "g = np.arange(4 ** 2).reshape(4, 4)\n",
    "Gamma = np.arange(4 ** 3).reshape(4, 4, 4)\n",
    "x = np.arange(4)\n",
    "y = tensor_expr(g, Gamma, x)\n",
    "\n",
    "assert np.array_equal(\n",
    "    y,\n",
    "    [[ 1680,  3984,  6288,  8592], [ 1940,  4628,  7316, 10004],\n",
    "     [ 2200,  5272,  8344, 11416], [ 2460,  5916,  9372, 12828]]"
   ]
  },
  {
   "cell_type": "markdown",
   "id": "7168344a",
   "metadata": {},
   "source": [
    "---"
   ]
  },
  {
   "cell_type": "markdown",
   "id": "d3bb8870",
   "metadata": {},
   "source": [
    "## Problema 2"
   ]
  },
  {
   "cell_type": "markdown",
   "id": "93fc9152",
   "metadata": {},
   "source": [
    "**a)** Use `np.histogram` para calcular a [densidade de probabilidade](https://en.wikipedia.org/wiki/Probability_density_function) de que os valores em uma matriz de dados de entrada arbitrária estejam dentro dos compartimentos especificados pelo usuário. \n",
    "\n",
    "- **Dica**: `np.histogram` faz todo o trabalho para você com os argumentos corretos."
   ]
  },
  {
   "cell_type": "code",
   "execution_count": null,
   "id": "93187bd6",
   "metadata": {},
   "outputs": [],
   "source": [
    "def estimate_probability_density(data, bins):\n",
    "    \"\"\"Estima a densidade de probabilidade de dados arbitrários.\n",
    "    \n",
    "    Parâmetros\n",
    "    ----------\n",
    "    data : array\n",
    "        1D numpy array de valores aleatórios.\n",
    "    bins : array\n",
    "        1D numpy array of N+1 arestas de bin a serem usadas. \n",
    "        Devem estar aumentando.\n",
    "\n",
    "    Retorna\n",
    "    -------\n",
    "    array\n",
    "        1D numpy array de N densidades de probabilidade.\n",
    "    \"\"\"\n",
    "    assert np.all(np.diff(bins) > 0)\n",
    "\n",
    "    # SEU CÓDIGO AQUI\n",
    "    \n",
    "    raise NotImplementedError()"
   ]
  },
  {
   "cell_type": "markdown",
   "id": "99677d9e",
   "metadata": {},
   "source": [
    "**b)** Submeta seu código aos *sanity tests* abaixo."
   ]
  },
  {
   "cell_type": "code",
   "execution_count": null,
   "id": "6ff8c3d7",
   "metadata": {},
   "outputs": [],
   "source": [
    "generator = np.random.RandomState(seed=123)\n",
    "data = generator.uniform(size=100)\n",
    "bins = np.linspace(0., 1., 11)\n",
    "rho = estimate_probability_density(data, bins)\n",
    "\n",
    "assert np.allclose(rho, [ 0.6,  0.8,  0.7,  1.7,  1.1,  1.3,  1.6,  0.9,  0.8,  0.5])\n",
    "\n",
    "###################################\n",
    "\n",
    "data = generator.uniform(size=1000)\n",
    "bins = np.linspace(0., 1., 101)\n",
    "rho = estimate_probability_density(data, bins)\n",
    "dx = bins[1] - bins[0]\n",
    "\n",
    "assert np.allclose(dx * rho.sum(), 1.)"
   ]
  },
  {
   "cell_type": "markdown",
   "id": "12d8d8a7",
   "metadata": {},
   "source": [
    "---"
   ]
  },
  {
   "cell_type": "markdown",
   "id": "ec218e71",
   "metadata": {},
   "source": [
    "## Problema 3"
   ]
  },
  {
   "cell_type": "markdown",
   "id": "a86ef527",
   "metadata": {},
   "source": [
    "Defina uma função para calcular a [entropia](https://en.wikipedia.org/wiki/Entropy_estimation) $H(\\rho)$ de uma densidade de probabilidade categorizada, definida como:"
   ]
  },
  {
   "cell_type": "code",
   "execution_count": null,
   "id": "db944e15",
   "metadata": {},
   "outputs": [],
   "source": [
    "def binned_entropy(rho, bins):\n",
    "    \"\"\"Calcule a entropia binária.\n",
    "    \n",
    "    Parameters\n",
    "    ----------\n",
    "    rho : array\n",
    "        1D numpy array de densidades, e.g., calculado pela função anterior.\n",
    "    bins : array\n",
    "        1D numpy array of N+1 arestas de bin a serem usadas. \n",
    "        Devem estar aumentando.\n",
    "\n",
    "    Retorna\n",
    "    -------\n",
    "    float\n",
    "        Value of the binned entropy.\n",
    "    \"\"\"\n",
    "    assert np.all(np.diff(bins) > 0)\n",
    "    \n",
    "    # SEU CÓDIGO AQUI\n",
    "    \n",
    "    raise NotImplementedError()"
   ]
  },
  {
   "cell_type": "markdown",
   "id": "1a7b5eb1",
   "metadata": {},
   "source": [
    "**b)** Submeta seu código aos testes abaixo."
   ]
  },
  {
   "cell_type": "code",
   "execution_count": null,
   "id": "2bd37fbc",
   "metadata": {},
   "outputs": [],
   "source": [
    "generator = np.random.RandomState(seed=123)\n",
    "data1 = generator.uniform(size=10000)\n",
    "data2 = generator.uniform(size=10000) ** 4\n",
    "bins = np.linspace(0., 1., 11)\n",
    "rho1 = estimate_probability_density(data1, bins)\n",
    "rho2 = estimate_probability_density(data2, bins)\n",
    "H1 = binned_entropy(rho1, bins)\n",
    "H2 = binned_entropy(rho2, bins)\n",
    "\n",
    "assert np.allclose(H1, -0.000801544)\n",
    "assert np.allclose(H2, -0.699349908)"
   ]
  },
  {
   "cell_type": "markdown",
   "id": "7a4533fd",
   "metadata": {},
   "source": [
    "---"
   ]
  },
  {
   "cell_type": "markdown",
   "id": "6210eabb",
   "metadata": {},
   "source": [
    "## Problema 4"
   ]
  },
  {
   "cell_type": "markdown",
   "id": "7aa1d127",
   "metadata": {},
   "source": [
    "**a)** A distribuição normal (também conhecida como gaussiana) é uma das densidades de probabilidade fundamentais que encontraremos com frequência. Implemente a função abaixo usando `np.random.multivariate_normal` para gerar amostras aleatórias de uma distribuição normal multidimensional arbitrária, para uma semente aleatória especificada."
   ]
  },
  {
   "cell_type": "code",
   "execution_count": null,
   "id": "30e5bc3f",
   "metadata": {},
   "outputs": [],
   "source": [
    "def generate_normal(mu, C, n, seed = 123):\n",
    "    \"\"\"Gere amostras aleatórias de uma distribuição normal.\n",
    "    \n",
    "    Parâmetros\n",
    "    ----------\n",
    "    mu : array\n",
    "        1D array de valores médios de comprimento N.\n",
    "    C : array\n",
    "        2D array de covariâncias de forma (N, N). Deve ser uma matriz positiva-definida.\n",
    "    n : int\n",
    "        Número de amostras aleatórias a serem geradas.\n",
    "    seed : int\n",
    "        Semente de número aleatório a ser usada.\n",
    "        \n",
    "    Retorna\n",
    "    -------\n",
    "    array\n",
    "        2D array de shape (n, N) onde cada linha é uma amostra aleatória N-dimensional.\n",
    "    \"\"\"\n",
    "    assert len(mu.shape) == 1, 'mu deve ser 1D.'\n",
    "    assert C.shape == (len(mu), len(mu)), 'C deve ser N x N.'\n",
    "    assert np.all(np.linalg.eigvals(C) > 0), 'C deve ser definida positiva.\n",
    "    \n",
    "    # SEU CÓDIGO AQUI\n",
    "    \n",
    "    raise NotImplementedError()"
   ]
  },
  {
   "cell_type": "markdown",
   "id": "1ef3fb45",
   "metadata": {},
   "source": [
    "**b)** Submeta seu código aos *sanity tests* abaixo."
   ]
  },
  {
   "cell_type": "code",
   "execution_count": null,
   "id": "0e8bc482",
   "metadata": {},
   "outputs": [],
   "source": [
    "mu = np.array([-1., 0., +1.])\n",
    "C = np.identity(3)\n",
    "C[0, 1] = C[1, 0] = -0.9\n",
    "Xa = generate_normal(mu, C, n=500, seed=1)\n",
    "Xb = generate_normal(mu, C, n=500, seed=1)\n",
    "Xc = generate_normal(mu, C, n=500, seed=2)\n",
    "\n",
    "assert np.array_equal(Xa, Xb)\n",
    "assert not np.array_equal(Xb, Xc)\n",
    "\n",
    "###################################\n",
    "\n",
    "X = generate_normal(mu, C, n=2000, seed=3)\n",
    "\n",
    "assert np.allclose(np.mean(X, axis=0), mu, rtol=0.001, atol=0.1)\n",
    "assert np.allclose(np.cov(X, rowvar=False), C, rtol=0.001, "
   ]
  },
  {
   "cell_type": "markdown",
   "id": "c2e89b34",
   "metadata": {},
   "source": [
    "**c)** Escreva uma função para visualizar um conjunto de dados 3D gerado."
   ]
  },
  {
   "cell_type": "code",
   "execution_count": null,
   "id": "5772efb8",
   "metadata": {},
   "outputs": [],
   "source": [
    "def visualize_3d():\n",
    "    \n",
    "    # SEU CÓDIGO AQUI\n",
    "    \n",
    "visualize_3d()"
   ]
  },
  {
   "cell_type": "markdown",
   "id": "72a0480e",
   "metadata": {},
   "source": [
    "**d)** Leia sobre [correlação e covariância](https://en.wikipedia.org/wiki/Covariance_and_correlation) e, em seguida, implemente a função abaixo para criar uma matriz de covariância 2x2 com valores de $\\sigma_{x}$ e $\\sigma_{y}$ o coeficiente de correlação $\\rho$:"
   ]
  },
  {
   "cell_type": "code",
   "execution_count": null,
   "id": "b5b704e4",
   "metadata": {},
   "outputs": [],
   "source": [
    "def create_2d_covariance(sigma_x, sigma_y, rho):\n",
    "    \"\"\"Crie e retorne a matriz de covariância 2x2 especificada pelos argumentos de entrada.\n",
    "    \"\"\"\n",
    "    assert (sigma_x > 0) and (sigma_y > 0), 'sigmas deve ser > 0.'\n",
    "    \n",
    "    # SEU CÓDIGO AQUI\n",
    "    \n",
    "    raise NotImplementedError()"
   ]
  },
  {
   "cell_type": "markdown",
   "id": "19634637",
   "metadata": {},
   "source": [
    "**e)** Efetue os seguintes testes de validação para a função do item anterior:"
   ]
  },
  {
   "cell_type": "code",
   "execution_count": null,
   "id": "b27e5087",
   "metadata": {},
   "outputs": [],
   "source": [
    "assert np.array_equal(create_2d_covariance(1., 1., 0.0), [[1., 0.], [0., 1.]])\n",
    "assert np.array_equal(create_2d_covariance(2., 1., 0.0), [[4., 0.], [0., 1.]])\n",
    "assert np.array_equal(create_2d_covariance(2., 1., 0.5), [[4., 1.], [1., 1.]])\n",
    "assert np.array_equal(create_2d_covariance(2., 1., -0.5), [[4., -1.], [-1., 1.]])"
   ]
  },
  {
   "cell_type": "markdown",
   "id": "0aad1b54",
   "metadata": {},
   "source": [
    "**e)** Execute a seguinte célula que usa suas funções `create_2d_covariance` e `generate_normal` para comparar as distribuições normais 2D com $\\rho=0$ (azul), $\\rho=+0.9$ (vermelho) e $\\rho=-0.9$ (verde).\n",
    "\n",
    "- Você pode ignorar o inofensivo `FutureWarning`."
   ]
  },
  {
   "cell_type": "code",
   "execution_count": null,
   "id": "f02f364c",
   "metadata": {},
   "outputs": [],
   "source": [
    "def compare_rhos():\n",
    "    mu = np.zeros(2)\n",
    "    sigma_x, sigma_y = 2., 1.\n",
    "    \n",
    "    # SEU CÓDIGO AQUI\n",
    "        \n",
    "    plt.xlim(-4, +4)\n",
    "    plt.ylim(-2, +2)\n",
    "        \n",
    "compare_rhos()"
   ]
  },
  {
   "cell_type": "markdown",
   "id": "897a94bb",
   "metadata": {},
   "source": [
    "---"
   ]
  },
  {
   "cell_type": "markdown",
   "id": "97fa5abb",
   "metadata": {},
   "source": [
    "## Problema 5"
   ]
  },
  {
   "cell_type": "markdown",
   "id": "42bea0b4",
   "metadata": {},
   "source": [
    "**a)** Implemente a seguinte camada de rede neural usando `PyTorch`:"
   ]
  },
  {
   "cell_type": "markdown",
   "id": "b16937e1",
   "metadata": {},
   "source": [
    "$$\\textbf{x}_{\\text{out}}=\\tanh{(W\\textbf{x}_{\\text{in}}+b)},$$"
   ]
  },
  {
   "cell_type": "markdown",
   "id": "63ed4866",
   "metadata": {},
   "source": [
    "Observe que essa camada usa a ativação $\\tanh$ (em termos de elemento) em vez da *ativação relu* do exemplo em classe."
   ]
  },
  {
   "cell_type": "code",
   "execution_count": null,
   "id": "0802af78",
   "metadata": {},
   "outputs": [],
   "source": [
    "import torch\n",
    "\n",
    "def xout(W, xin, b):\n",
    "    \n",
    "    # SEU CÓDIGO AQUI\n",
    "    \n",
    "    raise NotImplementedError()"
   ]
  },
  {
   "cell_type": "markdown",
   "id": "fdc1b05e",
   "metadata": {},
   "source": [
    "**b)** Efetue os seguintes testes de validação para o `PyTorch`:"
   ]
  },
  {
   "cell_type": "code",
   "execution_count": null,
   "id": "7094f077",
   "metadata": {},
   "outputs": [],
   "source": [
    "W = torch.tensor([[1., 2., 3.], [2., -1., 0.]], requires_grad=True)\n",
    "xin = torch.tensor([0.5, -0.5, 1])\n",
    "b = torch.tensor([-1., 1.])\n",
    "\n",
    "assert torch.allclose(xout(W, xin, b), torch.tensor([0.9051, 0.9866]), rtol=1e-4)"
   ]
  },
  {
   "cell_type": "markdown",
   "id": "4030376b",
   "metadata": {},
   "source": [
    "---"
   ]
  }
 ],
 "metadata": {
  "kernelspec": {
   "display_name": "Python 3 (ipykernel)",
   "language": "python",
   "name": "python3"
  },
  "language_info": {
   "codemirror_mode": {
    "name": "ipython",
    "version": 3
   },
   "file_extension": ".py",
   "mimetype": "text/x-python",
   "name": "python",
   "nbconvert_exporter": "python",
   "pygments_lexer": "ipython3",
   "version": "3.9.8"
  }
 },
 "nbformat": 4,
 "nbformat_minor": 5
}
