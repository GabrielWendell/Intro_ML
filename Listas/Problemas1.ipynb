{
 "cells": [
  {
   "cell_type": "markdown",
   "id": "145bc309",
   "metadata": {},
   "source": [
    "\n",
    "# Uma breve introdução ao Machine Learning\n",
    "## Problemas propostos #01"
   ]
  },
  {
   "cell_type": "markdown",
   "id": "cc405b9f",
   "metadata": {},
   "source": [
    "- **Dia 1**: [O que é *Machine Learning*?]()"
   ]
  },
  {
   "cell_type": "markdown",
   "id": "ac79fbe5",
   "metadata": {},
   "source": [
    "---"
   ]
  },
  {
   "cell_type": "markdown",
   "id": "5e1baa6d",
   "metadata": {},
   "source": [
    "## Problema 1 "
   ]
  },
  {
   "cell_type": "markdown",
   "id": "ef34dd29",
   "metadata": {},
   "source": [
    "**a)** Usando os dados dos preços das casas da california (seção 3), remova antecipadamente todas as linhas em que o preço é maior que 5 e avalie se o mesmo modelo tem um desempenho melhor (menor erro absoluto medio).\n",
    "\n",
    "**b)** Mantenha todas as linhas dos dados originais e avalie se há algum efeito no desempenho.\n",
    "\n",
    "**c)** Tente usar diferentes subconjuntos das 8 colunas, procurando encontrar aquelas mais diretamente relacionadas ao preço, ou criar combinações não-lineares delas (ex: produtos) para criar artificialmente novos *features*."
   ]
  },
  {
   "cell_type": "code",
   "execution_count": null,
   "id": "d0e25099",
   "metadata": {},
   "outputs": [],
   "source": [
    "# SEU CÓDIGO AQUI"
   ]
  },
  {
   "cell_type": "markdown",
   "id": "b71f1f20",
   "metadata": {},
   "source": [
    "## Problema 2."
   ]
  },
  {
   "cell_type": "markdown",
   "id": "704310ef",
   "metadata": {},
   "source": [
    "Usando os dados de exoplanetas disponíveis no seaborn (`seaborn.load_dataset('planets')`), crie um modelo que classifique o método utilizado para descobrir um exoplaneta a partir das demais informações numéricas (periodo orbital, massa, distância, etc.).\n",
    "\n",
    "Para isso, siga os seguintes passos:"
   ]
  },
  {
   "cell_type": "markdown",
   "id": "09573ab0",
   "metadata": {},
   "source": [
    "1. Use um `LabelEncoder` (do módulo `sklearn.preprocessing`) para converter a coluna de métodos em um array de inteiros. (Se lembre de usar `fit` e `transform` em vez de `fit` e `predict`!)\n",
    "2. Use um `SimpleImputer` (do módulo `sklearn.impute`) para preencher os NaNs e criar a matriz de features. (Se lembre de usar `fit` e `transform` em vez de `fit` e `predict`!)\n",
    "3. Support Vector Machines é um método muito utilizado em aprendizado supervisionado. Crie um classificador de support vector machines chamado `SVC` (do módulo `sklearn.svm`) e avalie seu desempenho usando validação cruzada (`cross_val_score`).\n",
    "4. Separe conjuntos de treino e validação usando `train_test_split` e avalie a `accuracy_score` das suas classificações no conjunto de validação.\n",
    "5. Plote a matriz de confusão correspondente a essas classificações. O que você observa em termos da distribuição de classes em relação ao exemplo do dataset de dígitos (seção 2.2)? O quanto isso influencia a avaliação do desempenho do seu modelo?\n",
    "6. Volte aos passos 3-5, mas agora use um `RandomForestClassifier`. Qual o impacto dessa decisão no desempenho?"
   ]
  },
  {
   "cell_type": "code",
   "execution_count": null,
   "id": "58c3734e",
   "metadata": {},
   "outputs": [],
   "source": [
    "# SEU CÓDIGO AQUI"
   ]
  },
  {
   "cell_type": "markdown",
   "id": "346d2cd5",
   "metadata": {},
   "source": [
    "## Problema 3."
   ]
  },
  {
   "cell_type": "markdown",
   "id": "13708c5d",
   "metadata": {},
   "source": []
  },
  {
   "cell_type": "code",
   "execution_count": null,
   "id": "1b6d0d14",
   "metadata": {},
   "outputs": [],
   "source": [
    "# SEU CÓDIGO AQUI"
   ]
  },
  {
   "cell_type": "markdown",
   "id": "8f591651",
   "metadata": {},
   "source": [
    "$\\blacksquare$"
   ]
  },
  {
   "cell_type": "markdown",
   "id": "f4770c89",
   "metadata": {},
   "source": [
    "---"
   ]
  }
 ],
 "metadata": {
  "kernelspec": {
   "display_name": "Python 3 (ipykernel)",
   "language": "python",
   "name": "python3"
  },
  "language_info": {
   "codemirror_mode": {
    "name": "ipython",
    "version": 3
   },
   "file_extension": ".py",
   "mimetype": "text/x-python",
   "name": "python",
   "nbconvert_exporter": "python",
   "pygments_lexer": "ipython3",
   "version": "3.9.8"
  }
 },
 "nbformat": 4,
 "nbformat_minor": 5
}
