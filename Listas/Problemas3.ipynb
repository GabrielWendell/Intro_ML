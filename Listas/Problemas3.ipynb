{
 "cells": [
  {
   "cell_type": "markdown",
   "id": "b3315b83",
   "metadata": {},
   "source": [
    "\n",
    "# Uma breve introdução ao Machine Learning\n",
    "## Problemas propostos #03"
   ]
  },
  {
   "cell_type": "markdown",
   "id": "c208b11e",
   "metadata": {},
   "source": [
    "- **Dia 3**: [Localizando estruturas em dados.](https://github.com/GabrielWendell/Intro_ML/blob/main/Notebooks/Dia3.ipynb)"
   ]
  },
  {
   "cell_type": "markdown",
   "id": "3542a72f",
   "metadata": {},
   "source": [
    "---"
   ]
  },
  {
   "cell_type": "markdown",
   "id": "cb2afa2d",
   "metadata": {},
   "source": [
    "## Problema 1 "
   ]
  },
  {
   "cell_type": "code",
   "execution_count": null,
   "id": "70ee0b59",
   "metadata": {},
   "outputs": [],
   "source": []
  }
 ],
 "metadata": {
  "kernelspec": {
   "display_name": "Python 3 (ipykernel)",
   "language": "python",
   "name": "python3"
  },
  "language_info": {
   "codemirror_mode": {
    "name": "ipython",
    "version": 3
   },
   "file_extension": ".py",
   "mimetype": "text/x-python",
   "name": "python",
   "nbconvert_exporter": "python",
   "pygments_lexer": "ipython3",
   "version": "3.9.8"
  }
 },
 "nbformat": 4,
 "nbformat_minor": 5
}
