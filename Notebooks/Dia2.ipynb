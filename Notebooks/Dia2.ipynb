{
 "cells": [
  {
   "cell_type": "markdown",
   "id": "4bc198f7",
   "metadata": {
    "slideshow": {
     "slide_type": "slide"
    }
   },
   "source": [
    "\n",
    "# Uma breve introdução ao Machine Learning: Dia 2"
   ]
  },
  {
   "cell_type": "markdown",
   "id": "3498ccb1",
   "metadata": {
    "slideshow": {
     "slide_type": "-"
    }
   },
   "source": [
    "Gabriel Wendell Celestino Rocha"
   ]
  },
  {
   "cell_type": "markdown",
   "id": "98c9e092",
   "metadata": {
    "slideshow": {
     "slide_type": "skip"
    }
   },
   "source": [
    "Material de um minicurso de introdução ao Machine Learning oferecido pelo [PET - Física](https://petfisica.home.blog)."
   ]
  },
  {
   "cell_type": "markdown",
   "id": "742d5239",
   "metadata": {
    "slideshow": {
     "slide_type": "skip"
    }
   },
   "source": [
    "O conteúdo é mantido no [GitHub]() e distribuídos sob uma [licença BSD3](https://opensource.org/licenses/BSD-3-Clause)."
   ]
  },
  {
   "cell_type": "markdown",
   "id": "1e67f592",
   "metadata": {
    "slideshow": {
     "slide_type": "skip"
    }
   },
   "source": [
    "- [Veja a tabela de conteúdos]()"
   ]
  },
  {
   "cell_type": "markdown",
   "id": "1fd2ba0e",
   "metadata": {
    "slideshow": {
     "slide_type": "skip"
    }
   },
   "source": [
    "Este `Notebook` pode, opcionalmente, ser visto como uma [apresentação de slides](https://medium.com/learning-machine-learning/present-your-data-science-projects-with-jupyter-slides-75f20735eb0f). Clique [aqui]() para ver os slides online ou, para apresentar os slides localmente, use:"
   ]
  },
  {
   "cell_type": "markdown",
   "id": "213a2d5a",
   "metadata": {
    "slideshow": {
     "slide_type": "skip"
    }
   },
   "source": [
    "```Python\n",
    "$ jupyter nbconvert Dia2.ipynb --to slides --post serve\n",
    "```"
   ]
  },
  {
   "cell_type": "markdown",
   "id": "118f1dd5",
   "metadata": {
    "slideshow": {
     "slide_type": "skip"
    }
   },
   "source": [
    "---"
   ]
  },
  {
   "cell_type": "markdown",
   "id": "3684797a",
   "metadata": {
    "slideshow": {
     "slide_type": "slide"
    }
   },
   "source": [
    "### Bibliotecas necessárias"
   ]
  },
  {
   "cell_type": "code",
   "execution_count": 5,
   "id": "f9d10007",
   "metadata": {
    "slideshow": {
     "slide_type": "-"
    }
   },
   "outputs": [],
   "source": [
    "import seaborn as sns; sns.set()\n",
    "import matplotlib.pyplot as plt\n",
    "import pandas as pd\n",
    "import numpy as np\n",
    "\n",
    "%matplotlib notebook\n",
    "\n",
    "def opt_plot():\n",
    "    # plt.style.use('dark_background')\n",
    "    plt.grid(True, linestyle=':', color='0.50')\n",
    "    plt.minorticks_on()\n",
    "    plt.tick_params(axis='both',which='minor', direction = \"in\",\n",
    "                        top = True,right = True, length = 5,width = 1,labelsize = 15)\n",
    "    plt.tick_params(axis='both',which='major', direction = \"in\",\n",
    "                        top = True,right = True, length = 8,width = 1,labelsize = 15)"
   ]
  },
  {
   "cell_type": "markdown",
   "id": "d5559bef",
   "metadata": {
    "slideshow": {
     "slide_type": "subslide"
    }
   },
   "source": [
    "### Versões das bibliotecas"
   ]
  },
  {
   "cell_type": "code",
   "execution_count": 3,
   "id": "8897cda2",
   "metadata": {
    "slideshow": {
     "slide_type": "-"
    }
   },
   "outputs": [
    {
     "data": {
      "application/json": {
       "Software versions": [
        {
         "module": "Python",
         "version": "3.9.8 64bit [MSC v.1929 64 bit (AMD64)]"
        },
        {
         "module": "IPython",
         "version": "8.0.1"
        },
        {
         "module": "OS",
         "version": "Windows 10 10.0.19043"
        },
        {
         "module": "Matplotlib",
         "version": "3.5.1"
        },
        {
         "module": "Numpy",
         "version": "1.22.2"
        },
        {
         "module": "Pandas",
         "version": "1.4.0"
        },
        {
         "module": "Seaborn",
         "version": "0.11.2"
        }
       ]
      },
      "text/html": [
       "<table><tr><th>Software</th><th>Version</th></tr><tr><td>Python</td><td>3.9.8 64bit [MSC v.1929 64 bit (AMD64)]</td></tr><tr><td>IPython</td><td>8.0.1</td></tr><tr><td>OS</td><td>Windows 10 10.0.19043</td></tr><tr><td>Matplotlib</td><td>3.5.1</td></tr><tr><td>Numpy</td><td>1.22.2</td></tr><tr><td>Pandas</td><td>1.4.0</td></tr><tr><td>Seaborn</td><td>0.11.2</td></tr><tr><td colspan='2'>Sat Jun 04 14:40:28 2022 Hora Padrão de Buenos Aires</td></tr></table>"
      ],
      "text/latex": [
       "\\begin{tabular}{|l|l|}\\hline\n",
       "{\\bf Software} & {\\bf Version} \\\\ \\hline\\hline\n",
       "Python & 3.9.8 64bit [MSC v.1929 64 bit (AMD64)] \\\\ \\hline\n",
       "IPython & 8.0.1 \\\\ \\hline\n",
       "OS & Windows 10 10.0.19043 \\\\ \\hline\n",
       "Matplotlib & 3.5.1 \\\\ \\hline\n",
       "Numpy & 1.22.2 \\\\ \\hline\n",
       "Pandas & 1.4.0 \\\\ \\hline\n",
       "Seaborn & 0.11.2 \\\\ \\hline\n",
       "\\hline \\multicolumn{2}{|l|}{Sat Jun 04 14:40:28 2022 Hora Padrão de Buenos Aires} \\\\ \\hline\n",
       "\\end{tabular}\n"
      ],
      "text/plain": [
       "Software versions\n",
       "Python 3.9.8 64bit [MSC v.1929 64 bit (AMD64)]\n",
       "IPython 8.0.1\n",
       "OS Windows 10 10.0.19043\n",
       "Matplotlib 3.5.1\n",
       "Numpy 1.22.2\n",
       "Pandas 1.4.0\n",
       "Seaborn 0.11.2\n",
       "Sat Jun 04 14:40:28 2022 Hora Padrão de Buenos Aires"
      ]
     },
     "execution_count": 3,
     "metadata": {},
     "output_type": "execute_result"
    }
   ],
   "source": [
    "%load_ext version_information\n",
    "%version_information Matplotlib, Numpy, Pandas, Seaborn"
   ]
  },
  {
   "cell_type": "markdown",
   "id": "cfad5b04",
   "metadata": {
    "slideshow": {
     "slide_type": "fragment"
    }
   },
   "source": [
    "#### Instalação:"
   ]
  },
  {
   "cell_type": "markdown",
   "id": "0a7f67d6",
   "metadata": {
    "slideshow": {
     "slide_type": "-"
    }
   },
   "source": [
    "```\n",
    "$ pip install version_information\n",
    "```"
   ]
  },
  {
   "cell_type": "markdown",
   "id": "a3f9a095",
   "metadata": {},
   "source": [
    "---"
   ]
  },
  {
   "cell_type": "markdown",
   "id": "3e95a53e",
   "metadata": {
    "slideshow": {
     "slide_type": "slide"
    }
   },
   "source": [
    "# Computação Tensorial"
   ]
  },
  {
   "cell_type": "markdown",
   "id": "efbfdf0c",
   "metadata": {
    "slideshow": {
     "slide_type": "-"
    }
   },
   "source": [
    "A maioria dos algoritmos práticos de ML podem ser decompostos em pequenos passos onde os cálculos são expressos com álgebra linear, ou seja, combinações lineares de escalares, vetores e matrizes."
   ]
  },
  {
   "cell_type": "markdown",
   "id": "1a36d1d3",
   "metadata": {
    "slideshow": {
     "slide_type": "fragment"
    }
   },
   "source": [
    "Por exemplo, uma rede neural pode ser construída a partir de camadas onde cada uma calcula"
   ]
  },
  {
   "cell_type": "markdown",
   "id": "9812dfd4",
   "metadata": {
    "slideshow": {
     "slide_type": "-"
    }
   },
   "source": [
    "$$\\textbf{x}_{\\text{out}}=\\max{(0,W\\textbf{x}_{\\text{in}}+\\textbf{b})}$$"
   ]
  },
  {
   "cell_type": "markdown",
   "id": "b1e6620a",
   "metadata": {
    "slideshow": {
     "slide_type": "-"
    }
   },
   "source": [
    "onde $W$ é uma matriz e os símbolos em negrito representam vetores. Em aplicações típicas, $\\textbf{x}_{\\text{out}}$ e $\\textbf{x}_{\\text{in}}$ são derivados de **dados** enquanto $W$ e $\\textbf{b}$ são considerados **parâmetros do modelo**. (Essa relação não é estritamente linear: por quê?)"
   ]
  },
  {
   "cell_type": "markdown",
   "id": "cb056818",
   "metadata": {
    "slideshow": {
     "slide_type": "subslide"
    }
   },
   "source": [
    "Os tipos numéricos e de lista python podem representar escalares arbitrários, vetores e matrizes, mas são projetados para flexibilidade em vez de eficiência."
   ]
  },
  {
   "cell_type": "markdown",
   "id": "1f9718fc",
   "metadata": {
    "slideshow": {
     "slide_type": "-"
    }
   },
   "source": [
    "O Numpy é otimizado para o caso especial em que todos os elementos da lista são valores numéricos do mesmo tipo, que podem ser organizados e acessados de forma muito eficiente na memória, com um tipo de array especializado com muitos recursos interessantes. Uma desvantagem dessa abordagem é que a maioria das funções matemáticas internas são duplicadas (por exemplo, `math.sin` e `np.sin`) para trabalhar com matrizes Numpy."
   ]
  },
  {
   "cell_type": "markdown",
   "id": "c54b174f",
   "metadata": {
    "slideshow": {
     "slide_type": "slide"
    }
   },
   "source": [
    "## 1. Terminologia"
   ]
  },
  {
   "cell_type": "markdown",
   "id": "73bd1405",
   "metadata": {
    "slideshow": {
     "slide_type": "-"
    }
   },
   "source": [
    "Frequentemente usamos $\\textbf{r}=(x,y,z)$ em física para representar uma posição arbitrária em três dimensões (contínuas)."
   ]
  },
  {
   "cell_type": "markdown",
   "id": "fe11da88",
   "metadata": {
    "slideshow": {
     "slide_type": "-"
    }
   },
   "source": [
    "Em numpy, não podemos representar uma posição arbitrária, mas podemos representar facilmente uma posição *específica*, por exemplo:"
   ]
  },
  {
   "cell_type": "code",
   "execution_count": null,
   "id": "e84df7a7",
   "metadata": {
    "slideshow": {
     "slide_type": "-"
    }
   },
   "outputs": [],
   "source": []
  },
  {
   "cell_type": "markdown",
   "id": "172f1acd",
   "metadata": {
    "slideshow": {
     "slide_type": "fragment"
    }
   },
   "source": [
    "No entanto, `rvec` tem apenas uma dimensão (discreta), que usamos para acessar seus três elementos de array com índices 0,1,2:"
   ]
  },
  {
   "cell_type": "markdown",
   "id": "45ee2de7",
   "metadata": {
    "slideshow": {
     "slide_type": "-"
    }
   },
   "source": [
    "Observe como usamos o termo **dimensão** de maneira diferente nesses dois casos!"
   ]
  },
  {
   "cell_type": "markdown",
   "id": "0f335ae1",
   "metadata": {
    "slideshow": {
     "slide_type": "subslide"
    }
   },
   "source": [
    "Todos os arrays numpy têm uma propriedade shape que especifica o intervalo de índices permitidos para cada uma de suas dimensões (discretas):"
   ]
  },
  {
   "cell_type": "code",
   "execution_count": null,
   "id": "de046dd6",
   "metadata": {
    "slideshow": {
     "slide_type": "-"
    }
   },
   "outputs": [],
   "source": []
  },
  {
   "cell_type": "markdown",
   "id": "2c59be97",
   "metadata": {
    "slideshow": {
     "slide_type": "fragment"
    }
   },
   "source": [
    "Compare com uma matriz representada em numpy:"
   ]
  },
  {
   "cell_type": "code",
   "execution_count": null,
   "id": "ab22f4d9",
   "metadata": {
    "slideshow": {
     "slide_type": "-"
    }
   },
   "outputs": [],
   "source": []
  },
  {
   "cell_type": "code",
   "execution_count": null,
   "id": "d84616f3",
   "metadata": {
    "slideshow": {
     "slide_type": "-"
    }
   },
   "outputs": [],
   "source": []
  },
  {
   "cell_type": "code",
   "execution_count": null,
   "id": "1726046c",
   "metadata": {
    "slideshow": {
     "slide_type": "subslide"
    }
   },
   "outputs": [],
   "source": []
  },
  {
   "cell_type": "markdown",
   "id": "ecb34fbc",
   "metadata": {
    "slideshow": {
     "slide_type": "subslide"
    }
   },
   "source": [
    "Numpy suporta arrays com qualquer número (finito) de dimensões (discretas). O nome geral para esses arrays é um **tensor** (portanto, escalares, vetores e matrizes são tensores). Por exemplo:"
   ]
  },
  {
   "cell_type": "code",
   "execution_count": null,
   "id": "2e0320fe",
   "metadata": {
    "slideshow": {
     "slide_type": "-"
    }
   },
   "outputs": [],
   "source": []
  },
  {
   "cell_type": "code",
   "execution_count": null,
   "id": "1f5378af",
   "metadata": {
    "slideshow": {
     "slide_type": "-"
    }
   },
   "outputs": [],
   "source": []
  },
  {
   "cell_type": "code",
   "execution_count": null,
   "id": "c29eb020",
   "metadata": {
    "slideshow": {
     "slide_type": "subslide"
    }
   },
   "outputs": [],
   "source": []
  },
  {
   "cell_type": "markdown",
   "id": "f7adf021",
   "metadata": {
    "slideshow": {
     "slide_type": "subslide"
    }
   },
   "source": [
    "Tensores também são usados em física: por exemplo, a expressão tensorial $g^{i\\ell}\\Gamma_{ki}^{k}x^{k}$ surge em [derivadas contravariantes na Relatividade Geral](https://en.wikipedia.org/wiki/Christoffel_symbols#Covariant_derivatives_of_tensors). Quais são as dimensões de , e nesta expressão? Observe que os tensores numpy não fazem distinção entre índices superiores ou inferiores."
   ]
  },
  {
   "cell_type": "markdown",
   "id": "fcd184a5",
   "metadata": {
    "slideshow": {
     "slide_type": "fragment"
    }
   },
   "source": [
    "A dimensão numpy às vezes também é chamada de **classificação** (*rank*) (mas observe que a [classificação do array](https://en.wikipedia.org/wiki/Rank_(computer_programming)) é semelhante, mas sutilmente diferente da [classificação da álgebra linear](https://en.wikipedia.org/wiki/Rank_(linear_algebra))."
   ]
  },
  {
   "cell_type": "markdown",
   "id": "9d820c62",
   "metadata": {
    "slideshow": {
     "slide_type": "slide"
    }
   },
   "source": [
    "## 2. Operações fundamentais"
   ]
  },
  {
   "cell_type": "markdown",
   "id": "ea974635",
   "metadata": {
    "slideshow": {
     "slide_type": "fragment"
    }
   },
   "source": [
    "### 2.1 Criação de tensores"
   ]
  },
  {
   "cell_type": "markdown",
   "id": "13d852e7",
   "metadata": {
    "slideshow": {
     "slide_type": "-"
    }
   },
   "source": [
    "As maneiras mais comuns de criar novos arrays são:"
   ]
  },
  {
   "cell_type": "markdown",
   "id": "11646f63",
   "metadata": {
    "slideshow": {
     "slide_type": "-"
    }
   },
   "source": [
    "- Preenchido com uma sequência simples de valores constantes\n",
    "- Preenchido com valores aleatórios (reprodutíveis)\n",
    "- Calculado como uma função matemática de matrizes existentes."
   ]
  },
  {
   "cell_type": "markdown",
   "id": "57f723ea",
   "metadata": {
    "slideshow": {
     "slide_type": "subslide"
    }
   },
   "source": [
    "1. Sequência regular de valores:"
   ]
  },
  {
   "cell_type": "code",
   "execution_count": null,
   "id": "2d265d60",
   "metadata": {
    "slideshow": {
     "slide_type": "-"
    }
   },
   "outputs": [],
   "source": []
  },
  {
   "cell_type": "markdown",
   "id": "3dcacf60",
   "metadata": {
    "slideshow": {
     "slide_type": "fragment"
    }
   },
   "source": [
    "2. Números \"aleatórios\" reproduzíveis:"
   ]
  },
  {
   "cell_type": "code",
   "execution_count": null,
   "id": "7b592885",
   "metadata": {
    "slideshow": {
     "slide_type": "-"
    }
   },
   "outputs": [],
   "source": []
  },
  {
   "cell_type": "markdown",
   "id": "8576eaea",
   "metadata": {
    "slideshow": {
     "slide_type": "fragment"
    }
   },
   "source": [
    "3. Calculado em função do array existente:"
   ]
  },
  {
   "cell_type": "code",
   "execution_count": null,
   "id": "2f70ee5d",
   "metadata": {
    "slideshow": {
     "slide_type": "-"
    }
   },
   "outputs": [],
   "source": []
  },
  {
   "cell_type": "markdown",
   "id": "eb793253",
   "metadata": {
    "slideshow": {
     "slide_type": "subslide"
    }
   },
   "source": [
    "Todos os valores contidos em um tensor têm o mesmo [tipo de dados](https://docs.scipy.org/doc/numpy-1.15.0/user/basics.types.html), que você pode inspecionar:"
   ]
  },
  {
   "cell_type": "code",
   "execution_count": null,
   "id": "980bcb17",
   "metadata": {
    "slideshow": {
     "slide_type": "-"
    }
   },
   "outputs": [],
   "source": []
  },
  {
   "cell_type": "markdown",
   "id": "ca7b13b2",
   "metadata": {
    "slideshow": {
     "slide_type": "subslide"
    }
   },
   "source": [
    "Quais seriam os `dtype` de `c3`, `r2` e `f1`?"
   ]
  },
  {
   "cell_type": "code",
   "execution_count": null,
   "id": "996c285d",
   "metadata": {
    "slideshow": {
     "slide_type": "-"
    }
   },
   "outputs": [],
   "source": []
  },
  {
   "cell_type": "markdown",
   "id": "68e39b47",
   "metadata": {
    "slideshow": {
     "slide_type": "fragment"
    }
   },
   "source": [
    "Acontece que as funções `np.zeros` e `np.ones` do Numpy são do tipo `float64`, por padrão, enquanto a função `np.full` usa o tipo do valor constante fornecido. Os inteiros são promovidos automaticamente a `float`s em expressões mistas."
   ]
  },
  {
   "cell_type": "markdown",
   "id": "f22eb140",
   "metadata": {
    "slideshow": {
     "slide_type": "fragment"
    }
   },
   "source": [
    "**PERGUNTA:** O aprendizado profundo (*deep learning*) geralmente usa tipos de dados flutuantes menores (32 bits ou 16 bits). Quais são as vantagens? E as desvantagens?"
   ]
  },
  {
   "cell_type": "markdown",
   "id": "08344b49",
   "metadata": {
    "slideshow": {
     "slide_type": "fragment"
    }
   },
   "source": [
    "**RESPOSTA:** `Floats` menores permitem o uso mais eficiente da memória limitada (GPU) e cálculos mais rápidos, ao custo de alguma precisão que por sua vez pode ser \"negociada\". Como o treinamento de uma rede neural profunda é inerentemente barulhento, isso geralmente é uma boa compensação."
   ]
  },
  {
   "cell_type": "markdown",
   "id": "6c60691c",
   "metadata": {
    "slideshow": {
     "slide_type": "subslide"
    }
   },
   "source": [
    "### 2.2 Remodelagem do tensor"
   ]
  },
  {
   "cell_type": "markdown",
   "id": "7f8df4ed",
   "metadata": {
    "slideshow": {
     "slide_type": "-"
    }
   },
   "source": [
    "Muitas vezes é útil remodelar um tensor sem alterar seu tamanho total, o que pode ser feito de forma muito eficiente através da função [`np.reshape`](https://docs.scipy.org/doc/numpy-1.15.0/reference/generated/numpy.reshape.html) do Numpy, pois o layout dos valores do tensor na memória não precisa ser alterado:"
   ]
  },
  {
   "cell_type": "code",
   "execution_count": null,
   "id": "d98178b3",
   "metadata": {
    "slideshow": {
     "slide_type": "-"
    }
   },
   "outputs": [],
   "source": []
  },
  {
   "cell_type": "code",
   "execution_count": null,
   "id": "ae82eb1d",
   "metadata": {
    "slideshow": {
     "slide_type": "-"
    }
   },
   "outputs": [],
   "source": []
  },
  {
   "cell_type": "markdown",
   "id": "d580e043",
   "metadata": {
    "slideshow": {
     "slide_type": "subslide"
    }
   },
   "source": [
    "### 2.3 Transmissão de tensores"
   ]
  },
  {
   "cell_type": "markdown",
   "id": "5750abb6",
   "metadata": {
    "slideshow": {
     "slide_type": "-"
    }
   },
   "source": [
    "O verdadeiro poder da computação tensorial vem de expressões como esta:"
   ]
  },
  {
   "cell_type": "code",
   "execution_count": null,
   "id": "80f19d33",
   "metadata": {
    "slideshow": {
     "slide_type": "-"
    }
   },
   "outputs": [],
   "source": []
  },
  {
   "cell_type": "markdown",
   "id": "005a09c8",
   "metadata": {
    "slideshow": {
     "slide_type": "fragment"
    }
   },
   "source": [
    "Escalamos cada coluna da matriz de 3x4 unidades por um valor diferente."
   ]
  },
  {
   "cell_type": "code",
   "execution_count": null,
   "id": "7e013c00",
   "metadata": {
    "slideshow": {
     "slide_type": "-"
    }
   },
   "outputs": [],
   "source": []
  },
  {
   "cell_type": "markdown",
   "id": "591aa03f",
   "metadata": {
    "slideshow": {
     "slide_type": "subslide"
    }
   },
   "source": [
    "Os resultados não são surpreendentes nesses exemplos, mas algo não trivial está acontecendo nos bastidores para fazer isso funcionar, já que estamos combinando tensores com formas diferentes. Isso se chama [*broadcasting*](https://docs.scipy.org/doc/numpy-1.15.0/user/basics.broadcasting.html) e tem regras específicas de como lidar com casos menos óbvios."
   ]
  },
  {
   "cell_type": "markdown",
   "id": "501a564e",
   "metadata": {
    "slideshow": {
     "slide_type": "fragment"
    }
   },
   "source": [
    "O *broadcasting* serve a dois propósitos:"
   ]
  },
  {
   "cell_type": "markdown",
   "id": "efef43be",
   "metadata": {
    "slideshow": {
     "slide_type": "-"
    }
   },
   "source": [
    "- Permite expressões \"vetorizadas\" mais compactas e fáceis de entender, onde os loops sobre os elementos em cada dimensão estão implícitos.\n",
    "\n",
    "- Permite otimizações automáticas para aproveitar o hardware disponível, já que loops python explícitos geralmente são um gargalo."
   ]
  },
  {
   "cell_type": "markdown",
   "id": "6a08d16b",
   "metadata": {
    "slideshow": {
     "slide_type": "fragment"
    }
   },
   "source": [
    "Nem todas as expressões podem ser transmitidas automaticamente, mesmo que pareçam fazer sentido. Por exemplo:"
   ]
  },
  {
   "cell_type": "code",
   "execution_count": null,
   "id": "ae042d0b",
   "metadata": {
    "slideshow": {
     "slide_type": "-"
    }
   },
   "outputs": [],
   "source": []
  },
  {
   "cell_type": "markdown",
   "id": "4a2409a0",
   "metadata": {
    "slideshow": {
     "slide_type": "subslide"
    }
   },
   "source": [
    "No entanto, geralmente você pode remodelar as entradas para obter o resultado desejado:"
   ]
  },
  {
   "cell_type": "code",
   "execution_count": null,
   "id": "193bc0e6",
   "metadata": {
    "slideshow": {
     "slide_type": "-"
    }
   },
   "outputs": [],
   "source": []
  },
  {
   "cell_type": "markdown",
   "id": "f43e2252",
   "metadata": {
    "slideshow": {
     "slide_type": "fragment"
    }
   },
   "source": [
    "Outro truque útil é usar `keepdims = True` com funções de redução, como por exemplo:"
   ]
  },
  {
   "cell_type": "code",
   "execution_count": null,
   "id": "6a0e4ca9",
   "metadata": {
    "slideshow": {
     "slide_type": "-"
    }
   },
   "outputs": [],
   "source": []
  },
  {
   "cell_type": "markdown",
   "id": "0b4943de",
   "metadata": {
    "slideshow": {
     "slide_type": "subslide"
    }
   },
   "source": [
    "Para experimentar as regras de transmissão, defina uma função para tentar transmitir duas formas de tensor arbitrárias:"
   ]
  },
  {
   "cell_type": "code",
   "execution_count": null,
   "id": "37c305bc",
   "metadata": {
    "slideshow": {
     "slide_type": "-"
    }
   },
   "outputs": [],
   "source": []
  },
  {
   "cell_type": "code",
   "execution_count": null,
   "id": "6bd7ba35",
   "metadata": {
    "slideshow": {
     "slide_type": "-"
    }
   },
   "outputs": [],
   "source": []
  },
  {
   "cell_type": "code",
   "execution_count": null,
   "id": "c0980182",
   "metadata": {
    "slideshow": {
     "slide_type": "-"
    }
   },
   "outputs": [],
   "source": []
  },
  {
   "cell_type": "markdown",
   "id": "12ca12c9",
   "metadata": {
    "slideshow": {
     "slide_type": "subslide"
    }
   },
   "source": [
    "Podemos inclusive \"brincar\" de tentar adivinhar o resultado de algumas transmissões:"
   ]
  },
  {
   "cell_type": "code",
   "execution_count": null,
   "id": "de3238e7",
   "metadata": {
    "slideshow": {
     "slide_type": "-"
    }
   },
   "outputs": [],
   "source": []
  },
  {
   "cell_type": "markdown",
   "id": "6354d751",
   "metadata": {
    "slideshow": {
     "slide_type": "slide"
    }
   },
   "source": [
    "## 3. Estrutura de tensores"
   ]
  },
  {
   "cell_type": "markdown",
   "id": "45e65d55",
   "metadata": {
    "slideshow": {
     "slide_type": "-"
    }
   },
   "source": [
    "### 3.1 Numpy"
   ]
  },
  {
   "cell_type": "markdown",
   "id": "08f6ff58",
   "metadata": {
    "slideshow": {
     "slide_type": "-"
    }
   },
   "source": [
    "Numpy é um exemplo de uma estrutura para computação tensorial que é amplamente suportada e não requer hardware especial. No entanto, ele ainda oferece melhorias significativas de desempenho, eliminando loops python explícitos e usando a memória com eficiência."
   ]
  },
  {
   "cell_type": "markdown",
   "id": "6bb606d6",
   "metadata": {
    "slideshow": {
     "slide_type": "subslide"
    }
   },
   "source": [
    "Por exemplo, vamos calcular a separação do ângulo de abertura entre dois vetores unitários, cada um especificado com ângulos (`lat`, `lon`) em radianos (ou `RA`, `DEC` para astrônomos, conforme implementado [aqui](https://desisurvey.readthedocs.io/en/latest/api.html#desisurvey.utils.separation_matrix)). A [fórmula de Haversine](https://en.wikipedia.org/wiki/Haversine_formula) é uma boa maneira de calcular essa quantidade."
   ]
  },
  {
   "cell_type": "markdown",
   "id": "30763f6d",
   "metadata": {
    "slideshow": {
     "slide_type": "fragment"
    }
   },
   "source": [
    "Gere um grande número de vetores unitários aleatórios para *benchmarking* (esses são distribuídos uniformemente na esfera?)"
   ]
  },
  {
   "cell_type": "code",
   "execution_count": null,
   "id": "c620a38f",
   "metadata": {
    "slideshow": {
     "slide_type": "-"
    }
   },
   "outputs": [],
   "source": []
  },
  {
   "cell_type": "markdown",
   "id": "88263226",
   "metadata": {
    "slideshow": {
     "slide_type": "subslide"
    }
   },
   "source": [
    "Usamos loops python explícitos para calcular a matriz (quadrada) de ângulos de separação entre todos os pares de vetores unitários:"
   ]
  },
  {
   "cell_type": "code",
   "execution_count": null,
   "id": "bcde5468",
   "metadata": {
    "slideshow": {
     "slide_type": "-"
    }
   },
   "outputs": [],
   "source": []
  },
  {
   "cell_type": "markdown",
   "id": "0fc2a131",
   "metadata": {
    "slideshow": {
     "slide_type": "fragment"
    }
   },
   "source": [
    "Usamos a *magic extension* `%time` para dar uma olhada no tempo necessário para rodar nossa função:"
   ]
  },
  {
   "cell_type": "code",
   "execution_count": null,
   "id": "941ddf73",
   "metadata": {
    "slideshow": {
     "slide_type": "-"
    }
   },
   "outputs": [],
   "source": []
  },
  {
   "cell_type": "markdown",
   "id": "e9688e08",
   "metadata": {
    "slideshow": {
     "slide_type": "subslide"
    }
   },
   "source": [
    "Agora calcule as mesmas separações usando loops implícitos Numpy:"
   ]
  },
  {
   "cell_type": "code",
   "execution_count": null,
   "id": "e2c6d3b1",
   "metadata": {
    "slideshow": {
     "slide_type": "-"
    }
   },
   "outputs": [],
   "source": []
  },
  {
   "cell_type": "code",
   "execution_count": null,
   "id": "b83f7c79",
   "metadata": {
    "slideshow": {
     "slide_type": "-"
    }
   },
   "outputs": [],
   "source": []
  },
  {
   "cell_type": "markdown",
   "id": "09f3d7d6",
   "metadata": {
    "slideshow": {
     "slide_type": "subslide"
    }
   },
   "source": [
    "Verificamos se ambos os cálculos dão os mesmos resultados:"
   ]
  },
  {
   "cell_type": "code",
   "execution_count": null,
   "id": "fa03fdbd",
   "metadata": {
    "slideshow": {
     "slide_type": "-"
    }
   },
   "outputs": [],
   "source": []
  },
  {
   "cell_type": "markdown",
   "id": "8a64dda5",
   "metadata": {
    "slideshow": {
     "slide_type": "subslide"
    }
   },
   "source": [
    "Como isso é muito mais rápido, aumente a quantidade de computação (e memória) 100x para um melhor *benchmark*:"
   ]
  },
  {
   "cell_type": "code",
   "execution_count": null,
   "id": "e2b5e746",
   "metadata": {
    "slideshow": {
     "slide_type": "-"
    }
   },
   "outputs": [],
   "source": []
  },
  {
   "cell_type": "code",
   "execution_count": null,
   "id": "e655c7d0",
   "metadata": {
    "slideshow": {
     "slide_type": "-"
    }
   },
   "outputs": [],
   "source": []
  },
  {
   "cell_type": "markdown",
   "id": "a46fbaab",
   "metadata": {
    "slideshow": {
     "slide_type": "fragment"
    }
   },
   "source": [
    "Portanto, o uso de loops Numpy implícitos acelera o cálculo por um fator de cerca de $6,8/0,02=340$. Como estamos usando as matrizes Numpy eficientes em ambos os casos, a aceleração é inteiramente devida aos loops!"
   ]
  },
  {
   "cell_type": "markdown",
   "id": "3f8e6ae2",
   "metadata": {
    "slideshow": {
     "slide_type": "subslide"
    }
   },
   "source": [
    "### 3.2 Outros *frameworks*: `PyTorch` e `TensorFlow`"
   ]
  },
  {
   "cell_type": "markdown",
   "id": "3a2d47ae",
   "metadata": {
    "slideshow": {
     "slide_type": "-"
    }
   },
   "source": [
    "O aprendizado de máquina depende muito de estruturas que copiam o design Numpy bem-sucedido para computação de tensor, enquanto adicionam alguns novos recursos importantes:"
   ]
  },
  {
   "cell_type": "markdown",
   "id": "825556b0",
   "metadata": {
    "slideshow": {
     "slide_type": "-"
    }
   },
   "source": [
    "- Aceleração automática de hardware.\n",
    "- Cálculo automático de derivativos.\n",
    "- Implementação eficiente para outras plataformas (móvel, nuvem)."
   ]
  },
  {
   "cell_type": "markdown",
   "id": "1eee8a85",
   "metadata": {
    "slideshow": {
     "slide_type": "-"
    }
   },
   "source": [
    "Ao contrário do numpy, o tipo padrão nessas estruturas geralmente é um float de 32 bits, em vez de um float de 64 bits."
   ]
  },
  {
   "cell_type": "markdown",
   "id": "9fe51853",
   "metadata": {
    "slideshow": {
     "slide_type": "subslide"
    }
   },
   "source": [
    "As duas estruturas de computação tensor mais populares para aprendizado de máquina hoje são [`PyTorch`](https://pytorch.org) e [`TensorFlow`](https://www.tensorflow.org). Ambos são grandes projetos de código aberto, desenvolvidos principalmente pelo Facebook (`pytorch`) e Google (`tensorflow`). Esses frameworks eram originalmente bem diferentes, com pytorch preferido para pesquisa e tensorflow preferido para implantação em larga escala, mas eles estão gradualmente convergindo para um conjunto de recursos semelhante."
   ]
  },
  {
   "cell_type": "markdown",
   "id": "175c3765",
   "metadata": {
    "slideshow": {
     "slide_type": "-"
    }
   },
   "source": [
    "A seguir, repetimos nosso cálculo da matriz de separação com ambas as estruturas. Você notará que os novos recursos vêm com alguma complexidade adicional."
   ]
  },
  {
   "cell_type": "markdown",
   "id": "f3be17c7",
   "metadata": {
    "slideshow": {
     "slide_type": "subslide"
    }
   },
   "source": [
    "#### 3.2.1 Exemplo usando o `PyTorch`"
   ]
  },
  {
   "cell_type": "code",
   "execution_count": null,
   "id": "487f676b",
   "metadata": {
    "slideshow": {
     "slide_type": "-"
    }
   },
   "outputs": [],
   "source": []
  },
  {
   "cell_type": "code",
   "execution_count": null,
   "id": "cf338871",
   "metadata": {
    "slideshow": {
     "slide_type": "-"
    }
   },
   "outputs": [],
   "source": []
  },
  {
   "cell_type": "code",
   "execution_count": null,
   "id": "9d493151",
   "metadata": {
    "slideshow": {
     "slide_type": "-"
    }
   },
   "outputs": [],
   "source": []
  },
  {
   "cell_type": "code",
   "execution_count": null,
   "id": "ea42086c",
   "metadata": {
    "slideshow": {
     "slide_type": "subslide"
    }
   },
   "outputs": [],
   "source": []
  },
  {
   "cell_type": "code",
   "execution_count": null,
   "id": "9458ec03",
   "metadata": {
    "slideshow": {
     "slide_type": "-"
    }
   },
   "outputs": [],
   "source": []
  },
  {
   "cell_type": "markdown",
   "id": "ccec5a95",
   "metadata": {
    "slideshow": {
     "slide_type": "subslide"
    }
   },
   "source": [
    "#### 3.2.2 Exemplo usando o `TensorFlow`"
   ]
  },
  {
   "cell_type": "code",
   "execution_count": null,
   "id": "e0da5b01",
   "metadata": {
    "slideshow": {
     "slide_type": "-"
    }
   },
   "outputs": [],
   "source": []
  },
  {
   "cell_type": "code",
   "execution_count": null,
   "id": "face6094",
   "metadata": {
    "slideshow": {
     "slide_type": "-"
    }
   },
   "outputs": [],
   "source": []
  },
  {
   "cell_type": "code",
   "execution_count": null,
   "id": "cb51c432",
   "metadata": {
    "slideshow": {
     "slide_type": "-"
    }
   },
   "outputs": [],
   "source": []
  },
  {
   "cell_type": "code",
   "execution_count": null,
   "id": "603d4d92",
   "metadata": {
    "slideshow": {
     "slide_type": "subslide"
    }
   },
   "outputs": [],
   "source": []
  },
  {
   "cell_type": "code",
   "execution_count": null,
   "id": "c40c3b5c",
   "metadata": {
    "slideshow": {
     "slide_type": "-"
    }
   },
   "outputs": [],
   "source": []
  },
  {
   "cell_type": "markdown",
   "id": "63382c76",
   "metadata": {
    "slideshow": {
     "slide_type": "slide"
    }
   },
   "source": [
    "## 4. Aceleraçao do hardware"
   ]
  },
  {
   "cell_type": "markdown",
   "id": "f8ee9fdd",
   "metadata": {
    "slideshow": {
     "slide_type": "-"
    }
   },
   "source": [
    "A computação de tensores pode ser acelerada significativamente (10-100x) usando hardware que é otimizado para realizar a computação do tensor distribuindo cálculos simples (\"kernels\") entre muitos processadores independentes (\"núcleos/*cores*\") executados em paralelo."
   ]
  },
  {
   "cell_type": "markdown",
   "id": "2d2957f2",
   "metadata": {
    "slideshow": {
     "slide_type": "-"
    }
   },
   "source": [
    "O driver original para esse hardware era acelerar os cálculos de geometria 3D necessários para renderizar gráficos 3D em tempo real, levando às primeiras [Unidades de Processamento Gráfico (*Graphics Processing Units* ou GPUs)](https://en.wikipedia.org/wiki/Graphics_processing_unit) na década de 1990. Mais recentemente, as GPUs foram adotadas para cálculos puramente numéricos, sem tela anexada, levando ao desenvolvimento de linguagens de programação especializadas, como [CUDA](https://en.wikipedia.org/wiki/CUDA) e [OpenCL](https://en.wikipedia.org/wiki/OpenCL)."
   ]
  },
  {
   "cell_type": "markdown",
   "id": "49209982",
   "metadata": {
    "slideshow": {
     "slide_type": "subslide"
    }
   },
   "source": [
    "Atualmente, um fornecedor (Nvidia) domina o uso de GPUs para ML com sua linguagem CUDA proprietária. O Google também introduziu uma arquitetura [TPU](https://en.wikipedia.org/wiki/Tensor_Processing_Unit) ainda mais especializada."
   ]
  },
  {
   "cell_type": "markdown",
   "id": "9acc391e",
   "metadata": {
    "slideshow": {
     "slide_type": "-"
    }
   },
   "source": [
    "A tabela abaixo mostra alguns benchmarks para o problema da matriz de separação, rodando em diferentes hardwares com diferentes frameworks. As acelerações obtidas usando PyTorch e TensorFlow com uma GPU são típicas. As duas estruturas fornecem desempenho geral de GPU comparável, mas podem diferir em problemas específicos."
   ]
  },
  {
   "cell_type": "markdown",
   "id": "3f6830e6",
   "metadata": {
    "slideshow": {
     "slide_type": "-"
    }
   },
   "source": [
    "| Test | Laptop | Server(GPU) | Collab(CPU) | Collab(GPU) |\n",
    "| --- | --- | --- | --- | --- |\n",
    "| Numpy | 2.08s | 1.17s | 10.5s | 10.3s |\n",
    "| Torch | 7.32s\t| 48.7ms | --- |\t--- |\n",
    "| Tensorflow | --- | --- | 9.11s | 246ms |\n",
    "| Ratio | 3.5 |\t1/24 |\t0.87 | 1/41 |"
   ]
  },
  {
   "cell_type": "markdown",
   "id": "205f6ea0",
   "metadata": {
    "slideshow": {
     "slide_type": "-"
    }
   },
   "source": [
    "Para se beneficiar desse hardware, você pode adicionar uma GPU a um servidor Linux ou usar uma plataforma de computação em nuvem."
   ]
  },
  {
   "cell_type": "markdown",
   "id": "d5356265",
   "metadata": {
    "slideshow": {
     "slide_type": "subslide"
    }
   },
   "source": [
    "A computação em nuvem é a maneira mais fácil de começar. Existem algumas opções gratuitas, mas geralmente você precisa \"pagar conforme o uso\" para fazer uma quantidade útil de trabalho. Alguns bons pontos de partida são:"
   ]
  },
  {
   "cell_type": "markdown",
   "id": "88761df7",
   "metadata": {
    "slideshow": {
     "slide_type": "-"
    }
   },
   "source": [
    "- [Google Collaboratory](https://colab.research.google.com): ferramenta de pesquisa gratuita com front-end de notebook jupyter.\n",
    "- [PaperSpace](https://www.paperspace.com): preço razoável e simples de começar.\n",
    "- [Amazon Web Services](https://aws.amazon.com/pt/ec2/): grátis para experimentar, muito flexível e relativamente complexo.\n",
    "- [Google Cloud](https://cloud.google.com): comparável à AWS."
   ]
  },
  {
   "cell_type": "markdown",
   "id": "1409802f",
   "metadata": {
    "slideshow": {
     "slide_type": "fragment"
    }
   },
   "source": [
    "**Observação: esta não é uma lista completa e os preços e os recursos estão mudando rapidamente.**"
   ]
  },
  {
   "cell_type": "markdown",
   "id": "5d93b5f1",
   "metadata": {
    "slideshow": {
     "slide_type": "subslide"
    }
   },
   "source": [
    "Se você está pensando em construir seu próprio servidor GPU, comece aqui. Um único servidor pode hospedar 4 GPUs. Aqui está uma única [GPU RTX 2080 Ti](https://www.nvidia.com/en-us/geforce/20-series/) refrigerada a água instalada no escritório de um conhecido meu:"
   ]
  },
  {
   "cell_type": "markdown",
   "id": "6e7bca26",
   "metadata": {
    "slideshow": {
     "slide_type": "-"
    }
   },
   "source": [
    "![image](IMG/GPU-server.jpg)"
   ]
  },
  {
   "cell_type": "markdown",
   "id": "565f1328",
   "metadata": {
    "slideshow": {
     "slide_type": "slide"
    }
   },
   "source": [
    "## 5. Derivadas Automáticas"
   ]
  },
  {
   "cell_type": "markdown",
   "id": "78731bef",
   "metadata": {
    "slideshow": {
     "slide_type": "-"
    }
   },
   "source": [
    "Além da aceleração de hardware, um recurso importante das estruturas de computação tensorial para ML é sua capacidade de automatizar o cálculo de derivadas, que permitem algoritmos de otimização baseados em gradiente eficientes e precisos."
   ]
  },
  {
   "cell_type": "markdown",
   "id": "aff7de66",
   "metadata": {
    "slideshow": {
     "slide_type": "-"
    }
   },
   "source": [
    "Em geral, uma derivada pode ser implementada em software de três maneiras:"
   ]
  },
  {
   "cell_type": "markdown",
   "id": "c7960ac3",
   "metadata": {
    "slideshow": {
     "slide_type": "-"
    }
   },
   "source": [
    "- Analiticamente (usando papel ou matemática) e depois copiado em código: este é o mais eficiente e preciso, mas menos generalizável.\n",
    "\n",
    "- Numericamente: com equações de [diferenças finitas](https://en.wikipedia.org/wiki/Finite_difference): esta é a menos eficiente e precisa, mas a mais generalizável.\n",
    "\n",
    "- [Automaticamente](https://en.wikipedia.org/wiki/Automatic_differentiation): uma abordagem híbrida onde um pequeno conjunto de funções primitivas (sin, cos, log, ...) Isso é eficiente e preciso, mas requer que as expressões sejam construídas inteiramente a partir de primitivas que dão suporte ao AD."
   ]
  },
  {
   "cell_type": "markdown",
   "id": "74edf368",
   "metadata": {
    "slideshow": {
     "slide_type": "subslide"
    }
   },
   "source": [
    "Como exemplo concreto, calcule a distribuição gaussiana (não normalizada):"
   ]
  },
  {
   "cell_type": "markdown",
   "id": "5cf3a070",
   "metadata": {
    "slideshow": {
     "slide_type": "-"
    }
   },
   "source": [
    "$$y(x)=e^{-x^{2}}$$"
   ]
  },
  {
   "cell_type": "markdown",
   "id": "0635123e",
   "metadata": {
    "slideshow": {
     "slide_type": "subslide"
    }
   },
   "source": [
    "Usando o `PyTorch`:"
   ]
  },
  {
   "cell_type": "code",
   "execution_count": null,
   "id": "9de70cb2",
   "metadata": {
    "slideshow": {
     "slide_type": "-"
    }
   },
   "outputs": [],
   "source": []
  },
  {
   "cell_type": "markdown",
   "id": "22d89297",
   "metadata": {
    "slideshow": {
     "slide_type": "subslide"
    }
   },
   "source": [
    "Especificamos `require_grad = True` para habilitar AD para todos os tensores que dependem de `x` (portanto, apenas `y` neste caso). Para calcular derivadas parciais (\"gradientes\") de `y` e `x`, basta usar:"
   ]
  },
  {
   "cell_type": "code",
   "execution_count": null,
   "id": "dab8b7fe",
   "metadata": {
    "slideshow": {
     "slide_type": "-"
    }
   },
   "outputs": [],
   "source": []
  },
  {
   "cell_type": "markdown",
   "id": "2f3f2abe",
   "metadata": {
    "slideshow": {
     "slide_type": "subslide"
    }
   },
   "source": [
    "O tensor `x.grad` agora contém $y'(x)$ em cada valor de `x`:"
   ]
  },
  {
   "cell_type": "code",
   "execution_count": null,
   "id": "9b0673d9",
   "metadata": {
    "slideshow": {
     "slide_type": "-"
    }
   },
   "outputs": [],
   "source": []
  },
  {
   "cell_type": "code",
   "execution_count": null,
   "id": "1bcb15e4",
   "metadata": {
    "slideshow": {
     "slide_type": "subslide"
    }
   },
   "outputs": [],
   "source": []
  },
  {
   "cell_type": "markdown",
   "id": "5ad78cdf",
   "metadata": {
    "slideshow": {
     "slide_type": "fragment"
    }
   },
   "source": [
    "Observe que essas derivadas são calculadas com precisão total da máquina e não são afetadas pelo espaçamento aproximado em $x$."
   ]
  },
  {
   "cell_type": "markdown",
   "id": "b1d6f131",
   "metadata": {
    "slideshow": {
     "slide_type": "fragment"
    }
   },
   "source": [
    "[Jax](https://github.com/google/jax) é uma estrutura relativamente nova para diferenciação automática (desenvolvida pelo Google, mas independente do `TensorFlow`) que se baseia na compilação \"*just-in-time*\" e é projetada para pesquisa de ML."
   ]
  },
  {
   "cell_type": "markdown",
   "id": "75e5faf0",
   "metadata": {
    "slideshow": {
     "slide_type": "slide"
    }
   },
   "source": [
    "## 6. APIs de nível superior para computação tensor"
   ]
  },
  {
   "cell_type": "markdown",
   "id": "ee617ac5",
   "metadata": {
    "slideshow": {
     "slide_type": "-"
    }
   },
   "source": [
    "Embora o `TensorFlow` e o `PyTorch` sejam semelhantes ao Numpy, eles têm APIs diferentes, então você é forçado a escolher um para aproveitar seus recursos exclusivos. No entanto, para muitos cálculos, eles são intercambiáveis e um novo ecossistema de APIs de nível superior está crescendo para oferecer suporte a isso. Por exemplo, confira:"
   ]
  },
  {
   "cell_type": "markdown",
   "id": "21a13b80",
   "metadata": {
    "slideshow": {
     "slide_type": "-"
    }
   },
   "source": [
    "- [Tensorly](http://tensorly.org/stable/index.html) (*Tensor learning in Python*): Inclui [decomposição](https://arxiv.org/abs/1711.10781) poderosa (PCA generalizado) e algoritmos de regressão.\n",
    "\n",
    "- [Einops](https://github.com/arogozhnikov/einops) (*Deep learning operations reinvented*): Suporta expressões compactas para operações de indexação complexas ([`np.einsum`](https://numpy.org/doc/stable/reference/generated/numpy.einsum.html) com esteróides)."
   ]
  },
  {
   "cell_type": "markdown",
   "id": "4e53b934",
   "metadata": {
    "slideshow": {
     "slide_type": "-"
    }
   },
   "source": [
    "Nenhum desses pacotes está incluído no ambiente MLS conda, mas encorajo você a experimentá-los se quiser escrever código tensor independente de estrutura."
   ]
  },
  {
   "cell_type": "markdown",
   "id": "dcfa0b95",
   "metadata": {
    "slideshow": {
     "slide_type": "slide"
    }
   },
   "source": [
    "![image](https://c.tenor.com/hEOM8E4epvgAAAAC/hahaha-thats-all-folks.gif)"
   ]
  },
  {
   "cell_type": "markdown",
   "id": "c3d5e537",
   "metadata": {
    "slideshow": {
     "slide_type": "-"
    }
   },
   "source": [
    "---"
   ]
  }
 ],
 "metadata": {
  "celltoolbar": "Slideshow",
  "kernelspec": {
   "display_name": "Python 3 (ipykernel)",
   "language": "python",
   "name": "python3"
  },
  "language_info": {
   "codemirror_mode": {
    "name": "ipython",
    "version": 3
   },
   "file_extension": ".py",
   "mimetype": "text/x-python",
   "name": "python",
   "nbconvert_exporter": "python",
   "pygments_lexer": "ipython3",
   "version": "3.9.8"
  }
 },
 "nbformat": 4,
 "nbformat_minor": 5
}
