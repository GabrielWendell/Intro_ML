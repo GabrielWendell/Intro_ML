{
 "cells": [
  {
   "cell_type": "markdown",
   "id": "4bc198f7",
   "metadata": {
    "slideshow": {
     "slide_type": "slide"
    }
   },
   "source": [
    "\n",
    "# Uma breve introdução ao Machine Learning: Dia 2"
   ]
  },
  {
   "cell_type": "markdown",
   "id": "3498ccb1",
   "metadata": {
    "slideshow": {
     "slide_type": "-"
    }
   },
   "source": [
    "Gabriel Wendell Celestino Rocha"
   ]
  },
  {
   "cell_type": "markdown",
   "id": "98c9e092",
   "metadata": {
    "slideshow": {
     "slide_type": "skip"
    }
   },
   "source": [
    "Material de um minicurso de introdução ao Machine Learning oferecido pelo [PET - Física](https://petfisica.home.blog)."
   ]
  },
  {
   "cell_type": "markdown",
   "id": "742d5239",
   "metadata": {
    "slideshow": {
     "slide_type": "skip"
    }
   },
   "source": [
    "O conteúdo é mantido no [GitHub](https://github.com/GabrielWendell/Intro_ML) e distribuídos sob uma [licença BSD3](https://opensource.org/licenses/BSD-3-Clause)."
   ]
  },
  {
   "cell_type": "markdown",
   "id": "1e67f592",
   "metadata": {
    "slideshow": {
     "slide_type": "skip"
    }
   },
   "source": [
    "- [Veja a tabela de conteúdos](https://github.com/GabrielWendell/Intro_ML/blob/main/Infomações/Conteúdos.ipynb)"
   ]
  },
  {
   "cell_type": "markdown",
   "id": "1fd2ba0e",
   "metadata": {
    "slideshow": {
     "slide_type": "skip"
    }
   },
   "source": [
    "Este `Notebook` pode, opcionalmente, ser visto como uma [apresentação de slides](https://medium.com/learning-machine-learning/present-your-data-science-projects-with-jupyter-slides-75f20735eb0f). Para apresentar os slides localmente, use:"
   ]
  },
  {
   "cell_type": "markdown",
   "id": "213a2d5a",
   "metadata": {
    "slideshow": {
     "slide_type": "skip"
    }
   },
   "source": [
    "```Python\n",
    "$ jupyter nbconvert Dia2.ipynb --to slides --post serve\n",
    "```"
   ]
  },
  {
   "cell_type": "markdown",
   "id": "118f1dd5",
   "metadata": {
    "slideshow": {
     "slide_type": "skip"
    }
   },
   "source": [
    "---"
   ]
  },
  {
   "cell_type": "markdown",
   "id": "3684797a",
   "metadata": {
    "slideshow": {
     "slide_type": "slide"
    }
   },
   "source": [
    "### Bibliotecas necessárias"
   ]
  },
  {
   "cell_type": "code",
   "execution_count": 1,
   "id": "f9d10007",
   "metadata": {
    "slideshow": {
     "slide_type": "-"
    }
   },
   "outputs": [],
   "source": [
    "import seaborn as sns; sns.set()\n",
    "import matplotlib.pyplot as plt\n",
    "import pandas as pd\n",
    "import numpy as np\n",
    "\n",
    "%matplotlib notebook\n",
    "\n",
    "def opt_plot():\n",
    "    # plt.style.use('dark_background')\n",
    "    plt.grid(True, linestyle=':', color='0.50')\n",
    "    plt.minorticks_on()\n",
    "    plt.tick_params(axis='both',which='minor', direction = \"in\",\n",
    "                        top = True,right = True, length = 5,width = 1,labelsize = 15)\n",
    "    plt.tick_params(axis='both',which='major', direction = \"in\",\n",
    "                        top = True,right = True, length = 8,width = 1,labelsize = 15)"
   ]
  },
  {
   "cell_type": "markdown",
   "id": "d5559bef",
   "metadata": {
    "slideshow": {
     "slide_type": "subslide"
    }
   },
   "source": [
    "### Versões das bibliotecas"
   ]
  },
  {
   "cell_type": "code",
   "execution_count": 2,
   "id": "8897cda2",
   "metadata": {
    "slideshow": {
     "slide_type": "-"
    }
   },
   "outputs": [
    {
     "data": {
      "application/json": {
       "Software versions": [
        {
         "module": "Python",
         "version": "3.9.8 64bit [MSC v.1929 64 bit (AMD64)]"
        },
        {
         "module": "IPython",
         "version": "8.0.1"
        },
        {
         "module": "OS",
         "version": "Windows 10 10.0.19043"
        },
        {
         "module": "Matplotlib",
         "version": "3.5.1"
        },
        {
         "module": "Numpy",
         "version": "1.22.2"
        },
        {
         "module": "Pandas",
         "version": "1.4.0"
        },
        {
         "module": "Seaborn",
         "version": "0.11.2"
        }
       ]
      },
      "text/html": [
       "<table><tr><th>Software</th><th>Version</th></tr><tr><td>Python</td><td>3.9.8 64bit [MSC v.1929 64 bit (AMD64)]</td></tr><tr><td>IPython</td><td>8.0.1</td></tr><tr><td>OS</td><td>Windows 10 10.0.19043</td></tr><tr><td>Matplotlib</td><td>3.5.1</td></tr><tr><td>Numpy</td><td>1.22.2</td></tr><tr><td>Pandas</td><td>1.4.0</td></tr><tr><td>Seaborn</td><td>0.11.2</td></tr><tr><td colspan='2'>Tue Jul 05 20:26:51 2022 Hora Padrão de Buenos Aires</td></tr></table>"
      ],
      "text/latex": [
       "\\begin{tabular}{|l|l|}\\hline\n",
       "{\\bf Software} & {\\bf Version} \\\\ \\hline\\hline\n",
       "Python & 3.9.8 64bit [MSC v.1929 64 bit (AMD64)] \\\\ \\hline\n",
       "IPython & 8.0.1 \\\\ \\hline\n",
       "OS & Windows 10 10.0.19043 \\\\ \\hline\n",
       "Matplotlib & 3.5.1 \\\\ \\hline\n",
       "Numpy & 1.22.2 \\\\ \\hline\n",
       "Pandas & 1.4.0 \\\\ \\hline\n",
       "Seaborn & 0.11.2 \\\\ \\hline\n",
       "\\hline \\multicolumn{2}{|l|}{Tue Jul 05 20:26:51 2022 Hora Padrão de Buenos Aires} \\\\ \\hline\n",
       "\\end{tabular}\n"
      ],
      "text/plain": [
       "Software versions\n",
       "Python 3.9.8 64bit [MSC v.1929 64 bit (AMD64)]\n",
       "IPython 8.0.1\n",
       "OS Windows 10 10.0.19043\n",
       "Matplotlib 3.5.1\n",
       "Numpy 1.22.2\n",
       "Pandas 1.4.0\n",
       "Seaborn 0.11.2\n",
       "Tue Jul 05 20:26:51 2022 Hora Padrão de Buenos Aires"
      ]
     },
     "execution_count": 2,
     "metadata": {},
     "output_type": "execute_result"
    }
   ],
   "source": [
    "%load_ext version_information\n",
    "%version_information Matplotlib, Numpy, Pandas, Seaborn"
   ]
  },
  {
   "cell_type": "markdown",
   "id": "cfad5b04",
   "metadata": {
    "slideshow": {
     "slide_type": "fragment"
    }
   },
   "source": [
    "#### Instalação:"
   ]
  },
  {
   "cell_type": "markdown",
   "id": "0a7f67d6",
   "metadata": {
    "slideshow": {
     "slide_type": "-"
    }
   },
   "source": [
    "```\n",
    "$ pip install version_information\n",
    "```"
   ]
  },
  {
   "cell_type": "markdown",
   "id": "a3f9a095",
   "metadata": {},
   "source": [
    "---"
   ]
  },
  {
   "cell_type": "markdown",
   "id": "3e95a53e",
   "metadata": {
    "slideshow": {
     "slide_type": "slide"
    }
   },
   "source": [
    "# Computação Tensorial"
   ]
  },
  {
   "cell_type": "markdown",
   "id": "efbfdf0c",
   "metadata": {
    "slideshow": {
     "slide_type": "-"
    }
   },
   "source": [
    "A maioria dos algoritmos práticos de ML podem ser decompostos em pequenos passos onde os cálculos são expressos com álgebra linear, ou seja, combinações lineares de escalares, vetores e matrizes."
   ]
  },
  {
   "cell_type": "markdown",
   "id": "1a36d1d3",
   "metadata": {
    "slideshow": {
     "slide_type": "fragment"
    }
   },
   "source": [
    "Por exemplo, uma rede neural pode ser construída a partir de camadas onde cada uma calcula"
   ]
  },
  {
   "cell_type": "markdown",
   "id": "9812dfd4",
   "metadata": {
    "slideshow": {
     "slide_type": "-"
    }
   },
   "source": [
    "$$\\textbf{x}_{\\text{out}}=\\max{(0,W\\textbf{x}_{\\text{in}}+\\textbf{b})}$$"
   ]
  },
  {
   "cell_type": "markdown",
   "id": "b1e6620a",
   "metadata": {
    "slideshow": {
     "slide_type": "-"
    }
   },
   "source": [
    "onde $W$ é uma matriz e os símbolos em negrito representam vetores. Em aplicações típicas, $\\textbf{x}_{\\text{out}}$ e $\\textbf{x}_{\\text{in}}$ são derivados de **dados** enquanto $W$ e $\\textbf{b}$ são considerados **parâmetros do modelo**. (Essa relação não é estritamente linear: por quê?)"
   ]
  },
  {
   "cell_type": "markdown",
   "id": "cb056818",
   "metadata": {
    "slideshow": {
     "slide_type": "subslide"
    }
   },
   "source": [
    "Os tipos numéricos e de lista python podem representar escalares arbitrários, vetores e matrizes, mas são projetados para flexibilidade em vez de eficiência."
   ]
  },
  {
   "cell_type": "markdown",
   "id": "1f9718fc",
   "metadata": {
    "slideshow": {
     "slide_type": "-"
    }
   },
   "source": [
    "O Numpy é otimizado para o caso especial em que todos os elementos da lista são valores numéricos do mesmo tipo, que podem ser organizados e acessados de forma muito eficiente na memória, com um tipo de array especializado com muitos recursos interessantes. Uma desvantagem dessa abordagem é que a maioria das funções matemáticas internas são duplicadas (por exemplo, `math.sin` e `np.sin`) para trabalhar com matrizes Numpy."
   ]
  },
  {
   "cell_type": "markdown",
   "id": "c54b174f",
   "metadata": {
    "slideshow": {
     "slide_type": "slide"
    }
   },
   "source": [
    "## 1. Terminologia"
   ]
  },
  {
   "cell_type": "markdown",
   "id": "73bd1405",
   "metadata": {
    "slideshow": {
     "slide_type": "-"
    }
   },
   "source": [
    "Frequentemente usamos $\\textbf{r}=(x,y,z)$ em física para representar uma posição arbitrária em três dimensões (contínuas)."
   ]
  },
  {
   "cell_type": "markdown",
   "id": "fe11da88",
   "metadata": {
    "slideshow": {
     "slide_type": "-"
    }
   },
   "source": [
    "Em numpy, não podemos representar uma posição arbitrária, mas podemos representar facilmente uma posição *específica*, por exemplo:"
   ]
  },
  {
   "cell_type": "code",
   "execution_count": 3,
   "id": "e84df7a7",
   "metadata": {
    "slideshow": {
     "slide_type": "-"
    }
   },
   "outputs": [
    {
     "data": {
      "text/plain": [
       "(0.1, -0.2, 0.3)"
      ]
     },
     "execution_count": 3,
     "metadata": {},
     "output_type": "execute_result"
    }
   ],
   "source": [
    "rvec = np.array([0.1, -0.2, 0.3])\n",
    "rvec[0], rvec[1], rvec[2]"
   ]
  },
  {
   "cell_type": "markdown",
   "id": "172f1acd",
   "metadata": {
    "slideshow": {
     "slide_type": "fragment"
    }
   },
   "source": [
    "No entanto, `rvec` tem apenas uma dimensão (discreta), que usamos para acessar seus três elementos de array com índices 0,1,2:"
   ]
  },
  {
   "cell_type": "markdown",
   "id": "45ee2de7",
   "metadata": {
    "slideshow": {
     "slide_type": "-"
    }
   },
   "source": [
    "Observe como usamos o termo **dimensão** de maneira diferente nesses dois casos!"
   ]
  },
  {
   "cell_type": "markdown",
   "id": "0f335ae1",
   "metadata": {
    "slideshow": {
     "slide_type": "subslide"
    }
   },
   "source": [
    "Todos os arrays numpy têm uma propriedade shape que especifica o intervalo de índices permitidos para cada uma de suas dimensões (discretas):"
   ]
  },
  {
   "cell_type": "code",
   "execution_count": 4,
   "id": "de046dd6",
   "metadata": {
    "slideshow": {
     "slide_type": "-"
    }
   },
   "outputs": [
    {
     "name": "stdout",
     "output_type": "stream",
     "text": [
      "(3,)\n",
      "1\n"
     ]
    }
   ],
   "source": [
    "print(rvec.shape)\n",
    "print(rvec.ndim)"
   ]
  },
  {
   "cell_type": "markdown",
   "id": "2c59be97",
   "metadata": {
    "slideshow": {
     "slide_type": "fragment"
    }
   },
   "source": [
    "Compare com uma matriz representada em numpy:"
   ]
  },
  {
   "cell_type": "code",
   "execution_count": 5,
   "id": "ab22f4d9",
   "metadata": {
    "slideshow": {
     "slide_type": "-"
    }
   },
   "outputs": [
    {
     "name": "stdout",
     "output_type": "stream",
     "text": [
      "[[1. 0. 0.]\n",
      " [0. 1. 0.]\n",
      " [0. 0. 1.]]\n"
     ]
    }
   ],
   "source": [
    "matrix = np.identity(3)\n",
    "print(matrix)"
   ]
  },
  {
   "cell_type": "code",
   "execution_count": 6,
   "id": "d84616f3",
   "metadata": {
    "slideshow": {
     "slide_type": "-"
    }
   },
   "outputs": [
    {
     "data": {
      "text/plain": [
       "(0.0, 1.0)"
      ]
     },
     "execution_count": 6,
     "metadata": {},
     "output_type": "execute_result"
    }
   ],
   "source": [
    "matrix[1, 0], matrix[1, 1]"
   ]
  },
  {
   "cell_type": "code",
   "execution_count": 7,
   "id": "1726046c",
   "metadata": {
    "slideshow": {
     "slide_type": "subslide"
    }
   },
   "outputs": [
    {
     "name": "stdout",
     "output_type": "stream",
     "text": [
      "(3, 3)\n",
      "2\n"
     ]
    }
   ],
   "source": [
    "print(matrix.shape)\n",
    "print(matrix.ndim)"
   ]
  },
  {
   "cell_type": "markdown",
   "id": "ecb34fbc",
   "metadata": {
    "slideshow": {
     "slide_type": "subslide"
    }
   },
   "source": [
    "Numpy suporta arrays com qualquer número (finito) de dimensões (discretas). O nome geral para esses arrays é um **tensor** (portanto, escalares, vetores e matrizes são tensores). Por exemplo:"
   ]
  },
  {
   "cell_type": "code",
   "execution_count": 8,
   "id": "2e0320fe",
   "metadata": {
    "slideshow": {
     "slide_type": "-"
    }
   },
   "outputs": [
    {
     "name": "stdout",
     "output_type": "stream",
     "text": [
      "[[[1. 1. 1. 1.]\n",
      "  [1. 1. 1. 1.]\n",
      "  [1. 1. 1. 1.]]\n",
      "\n",
      " [[1. 1. 1. 1.]\n",
      "  [1. 1. 1. 1.]\n",
      "  [1. 1. 1. 1.]]]\n"
     ]
    }
   ],
   "source": [
    "tensor = np.ones((2, 3, 4))\n",
    "print(tensor)"
   ]
  },
  {
   "cell_type": "code",
   "execution_count": 9,
   "id": "1f5378af",
   "metadata": {
    "slideshow": {
     "slide_type": "-"
    }
   },
   "outputs": [
    {
     "data": {
      "text/plain": [
       "(1.0, 1.0)"
      ]
     },
     "execution_count": 9,
     "metadata": {},
     "output_type": "execute_result"
    }
   ],
   "source": [
    "tensor[0, 0, 0], tensor[1, 2, 3]"
   ]
  },
  {
   "cell_type": "code",
   "execution_count": 10,
   "id": "c29eb020",
   "metadata": {
    "slideshow": {
     "slide_type": "subslide"
    }
   },
   "outputs": [
    {
     "name": "stdout",
     "output_type": "stream",
     "text": [
      "(2, 3, 4)\n",
      "3\n"
     ]
    }
   ],
   "source": [
    "print(tensor.shape)\n",
    "print(tensor.ndim)"
   ]
  },
  {
   "cell_type": "markdown",
   "id": "f7adf021",
   "metadata": {
    "slideshow": {
     "slide_type": "subslide"
    }
   },
   "source": [
    "Tensores também são usados em física: por exemplo, a expressão tensorial $g^{i\\ell}\\Gamma_{ki}^{k}x^{k}$ surge em [derivadas contravariantes na Relatividade Geral](https://en.wikipedia.org/wiki/Christoffel_symbols#Covariant_derivatives_of_tensors). Quais são as dimensões de , e nesta expressão? Observe que os tensores numpy não fazem distinção entre índices superiores ou inferiores."
   ]
  },
  {
   "cell_type": "markdown",
   "id": "fcd184a5",
   "metadata": {
    "slideshow": {
     "slide_type": "fragment"
    }
   },
   "source": [
    "A dimensão numpy às vezes também é chamada de **posto** (*rank*) (mas observe que o [posto do array](https://en.wikipedia.org/wiki/Rank_(computer_programming)) é semelhante, mas sutilmente diferente da [posto da álgebra linear](https://en.wikipedia.org/wiki/Rank_(linear_algebra))."
   ]
  },
  {
   "cell_type": "markdown",
   "id": "9d820c62",
   "metadata": {
    "slideshow": {
     "slide_type": "slide"
    }
   },
   "source": [
    "## 2. Operações fundamentais"
   ]
  },
  {
   "cell_type": "markdown",
   "id": "ea974635",
   "metadata": {
    "slideshow": {
     "slide_type": "fragment"
    }
   },
   "source": [
    "### 2.1 Criação de tensores"
   ]
  },
  {
   "cell_type": "markdown",
   "id": "13d852e7",
   "metadata": {
    "slideshow": {
     "slide_type": "-"
    }
   },
   "source": [
    "As maneiras mais comuns de criar novos arrays são:"
   ]
  },
  {
   "cell_type": "markdown",
   "id": "11646f63",
   "metadata": {
    "slideshow": {
     "slide_type": "-"
    }
   },
   "source": [
    "- Preenchido com uma sequência simples de valores constantes\n",
    "- Preenchido com valores aleatórios (reprodutíveis)\n",
    "- Calculado como uma função matemática de matrizes existentes."
   ]
  },
  {
   "cell_type": "markdown",
   "id": "57f723ea",
   "metadata": {
    "slideshow": {
     "slide_type": "subslide"
    }
   },
   "source": [
    "1. Sequência regular de valores:"
   ]
  },
  {
   "cell_type": "code",
   "execution_count": 11,
   "id": "2d265d60",
   "metadata": {
    "slideshow": {
     "slide_type": "-"
    }
   },
   "outputs": [
    {
     "name": "stdout",
     "output_type": "stream",
     "text": [
      "[[-1 -1 -1 -1]\n",
      " [-1 -1 -1 -1]\n",
      " [-1 -1 -1 -1]]\n"
     ]
    }
   ],
   "source": [
    "shape = (3, 4)\n",
    "c1 = np.zeros(shape)\n",
    "c2 = np.ones(shape)\n",
    "c3 = np.full(shape, -1)\n",
    "c4 = np.arange(12)\n",
    "\n",
    "print(c3)"
   ]
  },
  {
   "cell_type": "markdown",
   "id": "3dcacf60",
   "metadata": {
    "slideshow": {
     "slide_type": "fragment"
    }
   },
   "source": [
    "2. Números \"aleatórios\" reproduzíveis:"
   ]
  },
  {
   "cell_type": "code",
   "execution_count": 12,
   "id": "7b592885",
   "metadata": {
    "slideshow": {
     "slide_type": "-"
    }
   },
   "outputs": [
    {
     "name": "stdout",
     "output_type": "stream",
     "text": [
      "[[-2.3577723  -1.18941794  1.98277925 -2.27780399]\n",
      " [-1.88796392 -1.86870255  3.41186017  3.37357218]\n",
      " [ 1.0081078  -0.2276272   0.47473715  1.98146406]]\n"
     ]
    }
   ],
   "source": [
    "gen = np.random.RandomState(seed = 123)\n",
    "r1 = gen.uniform(size = shape)\n",
    "r2 = gen.normal(loc = -1, scale = 2, size = shape)\n",
    "\n",
    "print(r2)"
   ]
  },
  {
   "cell_type": "markdown",
   "id": "8576eaea",
   "metadata": {
    "slideshow": {
     "slide_type": "fragment"
    }
   },
   "source": [
    "3. Calculado em função do array existente:"
   ]
  },
  {
   "cell_type": "code",
   "execution_count": 13,
   "id": "2f70ee5d",
   "metadata": {
    "slideshow": {
     "slide_type": "-"
    }
   },
   "outputs": [
    {
     "name": "stdout",
     "output_type": "stream",
     "text": [
      "[[-0.98651393 -0.30828915  0.24756561 -0.72511937]\n",
      " [-0.75723804 -0.44260167 -3.67342209 -2.9787578 ]\n",
      " [ 0.56859575 -1.73759684  0.7507646   0.79516406]]\n"
     ]
    }
   ],
   "source": [
    "f1 = r1 * np.sin(r2) ** c3\n",
    "print(f1)"
   ]
  },
  {
   "cell_type": "markdown",
   "id": "eb793253",
   "metadata": {
    "slideshow": {
     "slide_type": "subslide"
    }
   },
   "source": [
    "Todos os valores contidos em um tensor têm o mesmo [tipo de dados](https://docs.scipy.org/doc/numpy-1.15.0/user/basics.types.html), que você pode inspecionar:"
   ]
  },
  {
   "cell_type": "code",
   "execution_count": 14,
   "id": "980bcb17",
   "metadata": {
    "slideshow": {
     "slide_type": "-"
    }
   },
   "outputs": [
    {
     "data": {
      "text/plain": [
       "(dtype('float64'), dtype('int32'))"
      ]
     },
     "execution_count": 14,
     "metadata": {},
     "output_type": "execute_result"
    }
   ],
   "source": [
    "c1.dtype, c4.dtype"
   ]
  },
  {
   "cell_type": "markdown",
   "id": "ca7b13b2",
   "metadata": {
    "slideshow": {
     "slide_type": "subslide"
    }
   },
   "source": [
    "Quais seriam os `dtype` de `c3`, `r2` e `f1`?"
   ]
  },
  {
   "cell_type": "code",
   "execution_count": 15,
   "id": "512d94bf",
   "metadata": {
    "slideshow": {
     "slide_type": "-"
    }
   },
   "outputs": [
    {
     "data": {
      "text/plain": [
       "(dtype('int32'), dtype('float64'), dtype('float64'))"
      ]
     },
     "execution_count": 15,
     "metadata": {},
     "output_type": "execute_result"
    }
   ],
   "source": [
    "c3.dtype, r2.dtype, f1.dtype"
   ]
  },
  {
   "cell_type": "markdown",
   "id": "68e39b47",
   "metadata": {
    "slideshow": {
     "slide_type": "fragment"
    }
   },
   "source": [
    "Acontece que as funções `np.zeros` e `np.ones` do Numpy são do tipo `float64`, por padrão, enquanto a função `np.full` usa o tipo do valor constante fornecido. Os inteiros são promovidos automaticamente a `float`s em expressões mistas."
   ]
  },
  {
   "cell_type": "markdown",
   "id": "f22eb140",
   "metadata": {
    "slideshow": {
     "slide_type": "fragment"
    }
   },
   "source": [
    "**PERGUNTA:** O aprendizado profundo (*deep learning*) geralmente usa tipos de dados flutuantes menores (32 bits ou 16 bits). Quais são as vantagens? E as desvantagens?"
   ]
  },
  {
   "cell_type": "markdown",
   "id": "08344b49",
   "metadata": {
    "slideshow": {
     "slide_type": "fragment"
    }
   },
   "source": [
    "**RESPOSTA:** `Floats` menores permitem o uso mais eficiente da memória limitada (GPU) e cálculos mais rápidos, ao custo de alguma precisão que por sua vez pode ser \"negociada\". Como o treinamento de uma rede neural profunda é inerentemente barulhento, isso geralmente é uma boa compensação."
   ]
  },
  {
   "cell_type": "markdown",
   "id": "6c60691c",
   "metadata": {
    "slideshow": {
     "slide_type": "subslide"
    }
   },
   "source": [
    "### 2.2 Remodelagem do tensor"
   ]
  },
  {
   "cell_type": "markdown",
   "id": "7f8df4ed",
   "metadata": {
    "slideshow": {
     "slide_type": "-"
    }
   },
   "source": [
    "Muitas vezes é útil remodelar um tensor sem alterar seu tamanho total, o que pode ser feito de forma muito eficiente através da função [`np.reshape`](https://docs.scipy.org/doc/numpy-1.15.0/reference/generated/numpy.reshape.html) do Numpy, pois o layout dos valores do tensor na memória não precisa ser alterado:"
   ]
  },
  {
   "cell_type": "code",
   "execution_count": 16,
   "id": "d98178b3",
   "metadata": {
    "slideshow": {
     "slide_type": "-"
    }
   },
   "outputs": [
    {
     "data": {
      "text/plain": [
       "array([[ 0,  1,  2,  3],\n",
       "       [ 4,  5,  6,  7],\n",
       "       [ 8,  9, 10, 11]])"
      ]
     },
     "execution_count": 16,
     "metadata": {},
     "output_type": "execute_result"
    }
   ],
   "source": [
    "c4.reshape(c1.shape)"
   ]
  },
  {
   "cell_type": "code",
   "execution_count": 17,
   "id": "ae82eb1d",
   "metadata": {
    "slideshow": {
     "slide_type": "-"
    }
   },
   "outputs": [
    {
     "data": {
      "text/plain": [
       "array([[[ 0,  1],\n",
       "        [ 2,  3],\n",
       "        [ 4,  5]],\n",
       "\n",
       "       [[ 6,  7],\n",
       "        [ 8,  9],\n",
       "        [10, 11]]])"
      ]
     },
     "execution_count": 17,
     "metadata": {},
     "output_type": "execute_result"
    }
   ],
   "source": [
    "c4.reshape(2, 3, 2)"
   ]
  },
  {
   "cell_type": "markdown",
   "id": "d580e043",
   "metadata": {
    "slideshow": {
     "slide_type": "subslide"
    }
   },
   "source": [
    "### 2.3 *Broadcasting* de tensores"
   ]
  },
  {
   "cell_type": "markdown",
   "id": "5750abb6",
   "metadata": {
    "slideshow": {
     "slide_type": "-"
    }
   },
   "source": [
    "O verdadeiro poder da computação tensorial vem de expressões como esta:"
   ]
  },
  {
   "cell_type": "code",
   "execution_count": 18,
   "id": "80f19d33",
   "metadata": {
    "slideshow": {
     "slide_type": "-"
    }
   },
   "outputs": [
    {
     "data": {
      "text/plain": [
       "array([ 1,  2,  3,  4,  5,  6,  7,  8,  9, 10, 11, 12])"
      ]
     },
     "execution_count": 18,
     "metadata": {},
     "output_type": "execute_result"
    }
   ],
   "source": [
    "c4 + 1"
   ]
  },
  {
   "cell_type": "markdown",
   "id": "005a09c8",
   "metadata": {
    "slideshow": {
     "slide_type": "fragment"
    }
   },
   "source": [
    "Escalamos cada coluna da matriz de $3\\times4$ unidades por um valor diferente."
   ]
  },
  {
   "cell_type": "code",
   "execution_count": 19,
   "id": "7e013c00",
   "metadata": {
    "slideshow": {
     "slide_type": "-"
    }
   },
   "outputs": [
    {
     "data": {
      "text/plain": [
       "array([[0., 1., 2., 3.],\n",
       "       [0., 1., 2., 3.],\n",
       "       [0., 1., 2., 3.]])"
      ]
     },
     "execution_count": 19,
     "metadata": {},
     "output_type": "execute_result"
    }
   ],
   "source": [
    "np.ones(shape = (3, 4)) * np.arange(4)"
   ]
  },
  {
   "cell_type": "markdown",
   "id": "591aa03f",
   "metadata": {
    "slideshow": {
     "slide_type": "subslide"
    }
   },
   "source": [
    "Os resultados não são surpreendentes nesses exemplos, mas algo não trivial está acontecendo nos bastidores para fazer isso funcionar, já que estamos combinando tensores com formas diferentes. Isso se chama [*broadcasting*](https://docs.scipy.org/doc/numpy-1.15.0/user/basics.broadcasting.html) e tem regras específicas de como lidar com casos menos óbvios."
   ]
  },
  {
   "cell_type": "markdown",
   "id": "501a564e",
   "metadata": {
    "slideshow": {
     "slide_type": "fragment"
    }
   },
   "source": [
    "O *broadcasting* serve a dois propósitos:"
   ]
  },
  {
   "cell_type": "markdown",
   "id": "efef43be",
   "metadata": {
    "slideshow": {
     "slide_type": "-"
    }
   },
   "source": [
    "- Permite expressões \"vetorizadas\" mais compactas e fáceis de entender, onde os loops sobre os elementos em cada dimensão estão implícitos.\n",
    "\n",
    "- Permite otimizações automáticas para aproveitar o hardware disponível, já que loops python explícitos geralmente são um gargalo."
   ]
  },
  {
   "cell_type": "markdown",
   "id": "6a08d16b",
   "metadata": {
    "slideshow": {
     "slide_type": "fragment"
    }
   },
   "source": [
    "Nem todas as expressões podem ser transmitidas automaticamente, mesmo que pareçam fazer sentido. Por exemplo:"
   ]
  },
  {
   "cell_type": "code",
   "execution_count": 20,
   "id": "ae042d0b",
   "metadata": {
    "slideshow": {
     "slide_type": "-"
    }
   },
   "outputs": [
    {
     "name": "stdout",
     "output_type": "stream",
     "text": [
      "operands could not be broadcast together with shapes (2,) (3,) \n"
     ]
    }
   ],
   "source": [
    "try:\n",
    "    np.ones(shape = (3, 4) * np.arange(3))\n",
    "except ValueError as e:\n",
    "    print(e)"
   ]
  },
  {
   "cell_type": "markdown",
   "id": "4a2409a0",
   "metadata": {
    "slideshow": {
     "slide_type": "subslide"
    }
   },
   "source": [
    "No entanto, geralmente você pode remodelar as entradas para obter o resultado desejado:"
   ]
  },
  {
   "cell_type": "code",
   "execution_count": 21,
   "id": "193bc0e6",
   "metadata": {
    "slideshow": {
     "slide_type": "-"
    }
   },
   "outputs": [
    {
     "data": {
      "text/plain": [
       "array([[0., 0., 0., 0.],\n",
       "       [1., 1., 1., 1.],\n",
       "       [2., 2., 2., 2.]])"
      ]
     },
     "execution_count": 21,
     "metadata": {},
     "output_type": "execute_result"
    }
   ],
   "source": [
    "np.ones(shape = (3, 4)) * np.arange(3).reshape(3, 1)"
   ]
  },
  {
   "cell_type": "markdown",
   "id": "f43e2252",
   "metadata": {
    "slideshow": {
     "slide_type": "fragment"
    }
   },
   "source": [
    "Outro truque útil é usar `keepdims = True` com funções de redução, como por exemplo:"
   ]
  },
  {
   "cell_type": "code",
   "execution_count": 22,
   "id": "6a0e4ca9",
   "metadata": {
    "slideshow": {
     "slide_type": "-"
    }
   },
   "outputs": [
    {
     "name": "stdout",
     "output_type": "stream",
     "text": [
      "[3. 3. 3. 3.]\n",
      "[[3.]\n",
      " [3.]\n",
      " [3.]\n",
      " [3.]]\n"
     ]
    }
   ],
   "source": [
    "print(np.ones((4, 3)).sum(axis = 1))\n",
    "print(np.ones((4, 3)).sum(axis = 1, keepdims = True))"
   ]
  },
  {
   "cell_type": "markdown",
   "id": "0b4943de",
   "metadata": {
    "slideshow": {
     "slide_type": "subslide"
    }
   },
   "source": [
    "Para experimentar as regras de transmissão, defina uma função para tentar transmitir duas formas de tensor arbitrárias:"
   ]
  },
  {
   "cell_type": "code",
   "execution_count": 23,
   "id": "37c305bc",
   "metadata": {
    "slideshow": {
     "slide_type": "-"
    }
   },
   "outputs": [],
   "source": [
    "def broadcast(shape1, shape2):\n",
    "    array1 = np.ones(shape1)\n",
    "    array2 = np.ones(shape2)\n",
    "    try:\n",
    "        array12 = array1 + array2\n",
    "        print('Shapes {} {} broacast to {}'.format(shape1, shape2, array12.shape))\n",
    "    except ValueError as e:\n",
    "        print(e)"
   ]
  },
  {
   "cell_type": "code",
   "execution_count": 24,
   "id": "6bd7ba35",
   "metadata": {
    "slideshow": {
     "slide_type": "-"
    }
   },
   "outputs": [
    {
     "name": "stdout",
     "output_type": "stream",
     "text": [
      "Shapes (1, 3) (3,) broacast to (1, 3)\n"
     ]
    }
   ],
   "source": [
    "broadcast((1, 3), (3,))"
   ]
  },
  {
   "cell_type": "code",
   "execution_count": 25,
   "id": "c0980182",
   "metadata": {
    "slideshow": {
     "slide_type": "-"
    }
   },
   "outputs": [
    {
     "name": "stdout",
     "output_type": "stream",
     "text": [
      "operands could not be broadcast together with shapes (1,2) (3,) \n"
     ]
    }
   ],
   "source": [
    "broadcast((1, 2), (3,))"
   ]
  },
  {
   "cell_type": "markdown",
   "id": "12ca12c9",
   "metadata": {
    "slideshow": {
     "slide_type": "subslide"
    }
   },
   "source": [
    "Podemos inclusive \"brincar\" de tentar adivinhar o resultado de algumas transmissões:"
   ]
  },
  {
   "cell_type": "code",
   "execution_count": 26,
   "id": "de3238e7",
   "metadata": {
    "slideshow": {
     "slide_type": "-"
    }
   },
   "outputs": [
    {
     "name": "stdout",
     "output_type": "stream",
     "text": [
      "Shapes (3, 1, 2) (3, 2) broacast to (3, 3, 2)\n",
      "operands could not be broadcast together with shapes (2,1,3) (3,2) \n",
      "Shapes (3,) (2, 1) broacast to (2, 3)\n",
      "operands could not be broadcast together with shapes (3,) (1,2) \n",
      "Shapes (3,) (1, 3) broacast to (1, 3)\n"
     ]
    }
   ],
   "source": [
    "broadcast((3, 1, 2), (3, 2))\n",
    "broadcast((2, 1, 3), (3, 2))\n",
    "broadcast((3,), (2, 1))\n",
    "broadcast((3,), (1, 2))\n",
    "broadcast((3,), (1, 3))"
   ]
  },
  {
   "cell_type": "markdown",
   "id": "6354d751",
   "metadata": {
    "slideshow": {
     "slide_type": "slide"
    }
   },
   "source": [
    "## 3. Estrutura de tensores"
   ]
  },
  {
   "cell_type": "markdown",
   "id": "45e65d55",
   "metadata": {
    "slideshow": {
     "slide_type": "-"
    }
   },
   "source": [
    "### 3.1 Numpy"
   ]
  },
  {
   "cell_type": "markdown",
   "id": "08f6ff58",
   "metadata": {
    "slideshow": {
     "slide_type": "-"
    }
   },
   "source": [
    "`Numpy` é um exemplo de uma estrutura para computação tensorial que é amplamente suportada e não requer hardware especial. No entanto, ele ainda oferece melhorias significativas de desempenho, eliminando loops python explícitos e usando a memória com eficiência."
   ]
  },
  {
   "cell_type": "markdown",
   "id": "6bb606d6",
   "metadata": {
    "slideshow": {
     "slide_type": "subslide"
    }
   },
   "source": [
    "Por exemplo, vamos calcular a separação do ângulo de abertura entre dois vetores unitários, cada um especificado com ângulos (`lat`, `lon`) em radianos (ou `RA`, `DEC` para astrônomos, conforme implementado [aqui](https://desisurvey.readthedocs.io/en/latest/api.html#desisurvey.utils.separation_matrix)). A [fórmula de Haversine](https://en.wikipedia.org/wiki/Haversine_formula) é uma boa maneira de calcular essa quantidade."
   ]
  },
  {
   "cell_type": "markdown",
   "id": "30763f6d",
   "metadata": {
    "slideshow": {
     "slide_type": "fragment"
    }
   },
   "source": [
    "Gere um grande número de vetores unitários aleatórios para *benchmarking* (esses são distribuídos uniformemente na esfera?)"
   ]
  },
  {
   "cell_type": "code",
   "execution_count": 27,
   "id": "c620a38f",
   "metadata": {
    "slideshow": {
     "slide_type": "-"
    }
   },
   "outputs": [
    {
     "data": {
      "application/javascript": [
       "/* Put everything inside the global mpl namespace */\n",
       "/* global mpl */\n",
       "window.mpl = {};\n",
       "\n",
       "mpl.get_websocket_type = function () {\n",
       "    if (typeof WebSocket !== 'undefined') {\n",
       "        return WebSocket;\n",
       "    } else if (typeof MozWebSocket !== 'undefined') {\n",
       "        return MozWebSocket;\n",
       "    } else {\n",
       "        alert(\n",
       "            'Your browser does not have WebSocket support. ' +\n",
       "                'Please try Chrome, Safari or Firefox ≥ 6. ' +\n",
       "                'Firefox 4 and 5 are also supported but you ' +\n",
       "                'have to enable WebSockets in about:config.'\n",
       "        );\n",
       "    }\n",
       "};\n",
       "\n",
       "mpl.figure = function (figure_id, websocket, ondownload, parent_element) {\n",
       "    this.id = figure_id;\n",
       "\n",
       "    this.ws = websocket;\n",
       "\n",
       "    this.supports_binary = this.ws.binaryType !== undefined;\n",
       "\n",
       "    if (!this.supports_binary) {\n",
       "        var warnings = document.getElementById('mpl-warnings');\n",
       "        if (warnings) {\n",
       "            warnings.style.display = 'block';\n",
       "            warnings.textContent =\n",
       "                'This browser does not support binary websocket messages. ' +\n",
       "                'Performance may be slow.';\n",
       "        }\n",
       "    }\n",
       "\n",
       "    this.imageObj = new Image();\n",
       "\n",
       "    this.context = undefined;\n",
       "    this.message = undefined;\n",
       "    this.canvas = undefined;\n",
       "    this.rubberband_canvas = undefined;\n",
       "    this.rubberband_context = undefined;\n",
       "    this.format_dropdown = undefined;\n",
       "\n",
       "    this.image_mode = 'full';\n",
       "\n",
       "    this.root = document.createElement('div');\n",
       "    this.root.setAttribute('style', 'display: inline-block');\n",
       "    this._root_extra_style(this.root);\n",
       "\n",
       "    parent_element.appendChild(this.root);\n",
       "\n",
       "    this._init_header(this);\n",
       "    this._init_canvas(this);\n",
       "    this._init_toolbar(this);\n",
       "\n",
       "    var fig = this;\n",
       "\n",
       "    this.waiting = false;\n",
       "\n",
       "    this.ws.onopen = function () {\n",
       "        fig.send_message('supports_binary', { value: fig.supports_binary });\n",
       "        fig.send_message('send_image_mode', {});\n",
       "        if (fig.ratio !== 1) {\n",
       "            fig.send_message('set_device_pixel_ratio', {\n",
       "                device_pixel_ratio: fig.ratio,\n",
       "            });\n",
       "        }\n",
       "        fig.send_message('refresh', {});\n",
       "    };\n",
       "\n",
       "    this.imageObj.onload = function () {\n",
       "        if (fig.image_mode === 'full') {\n",
       "            // Full images could contain transparency (where diff images\n",
       "            // almost always do), so we need to clear the canvas so that\n",
       "            // there is no ghosting.\n",
       "            fig.context.clearRect(0, 0, fig.canvas.width, fig.canvas.height);\n",
       "        }\n",
       "        fig.context.drawImage(fig.imageObj, 0, 0);\n",
       "    };\n",
       "\n",
       "    this.imageObj.onunload = function () {\n",
       "        fig.ws.close();\n",
       "    };\n",
       "\n",
       "    this.ws.onmessage = this._make_on_message_function(this);\n",
       "\n",
       "    this.ondownload = ondownload;\n",
       "};\n",
       "\n",
       "mpl.figure.prototype._init_header = function () {\n",
       "    var titlebar = document.createElement('div');\n",
       "    titlebar.classList =\n",
       "        'ui-dialog-titlebar ui-widget-header ui-corner-all ui-helper-clearfix';\n",
       "    var titletext = document.createElement('div');\n",
       "    titletext.classList = 'ui-dialog-title';\n",
       "    titletext.setAttribute(\n",
       "        'style',\n",
       "        'width: 100%; text-align: center; padding: 3px;'\n",
       "    );\n",
       "    titlebar.appendChild(titletext);\n",
       "    this.root.appendChild(titlebar);\n",
       "    this.header = titletext;\n",
       "};\n",
       "\n",
       "mpl.figure.prototype._canvas_extra_style = function (_canvas_div) {};\n",
       "\n",
       "mpl.figure.prototype._root_extra_style = function (_canvas_div) {};\n",
       "\n",
       "mpl.figure.prototype._init_canvas = function () {\n",
       "    var fig = this;\n",
       "\n",
       "    var canvas_div = (this.canvas_div = document.createElement('div'));\n",
       "    canvas_div.setAttribute(\n",
       "        'style',\n",
       "        'border: 1px solid #ddd;' +\n",
       "            'box-sizing: content-box;' +\n",
       "            'clear: both;' +\n",
       "            'min-height: 1px;' +\n",
       "            'min-width: 1px;' +\n",
       "            'outline: 0;' +\n",
       "            'overflow: hidden;' +\n",
       "            'position: relative;' +\n",
       "            'resize: both;'\n",
       "    );\n",
       "\n",
       "    function on_keyboard_event_closure(name) {\n",
       "        return function (event) {\n",
       "            return fig.key_event(event, name);\n",
       "        };\n",
       "    }\n",
       "\n",
       "    canvas_div.addEventListener(\n",
       "        'keydown',\n",
       "        on_keyboard_event_closure('key_press')\n",
       "    );\n",
       "    canvas_div.addEventListener(\n",
       "        'keyup',\n",
       "        on_keyboard_event_closure('key_release')\n",
       "    );\n",
       "\n",
       "    this._canvas_extra_style(canvas_div);\n",
       "    this.root.appendChild(canvas_div);\n",
       "\n",
       "    var canvas = (this.canvas = document.createElement('canvas'));\n",
       "    canvas.classList.add('mpl-canvas');\n",
       "    canvas.setAttribute('style', 'box-sizing: content-box;');\n",
       "\n",
       "    this.context = canvas.getContext('2d');\n",
       "\n",
       "    var backingStore =\n",
       "        this.context.backingStorePixelRatio ||\n",
       "        this.context.webkitBackingStorePixelRatio ||\n",
       "        this.context.mozBackingStorePixelRatio ||\n",
       "        this.context.msBackingStorePixelRatio ||\n",
       "        this.context.oBackingStorePixelRatio ||\n",
       "        this.context.backingStorePixelRatio ||\n",
       "        1;\n",
       "\n",
       "    this.ratio = (window.devicePixelRatio || 1) / backingStore;\n",
       "\n",
       "    var rubberband_canvas = (this.rubberband_canvas = document.createElement(\n",
       "        'canvas'\n",
       "    ));\n",
       "    rubberband_canvas.setAttribute(\n",
       "        'style',\n",
       "        'box-sizing: content-box; position: absolute; left: 0; top: 0; z-index: 1;'\n",
       "    );\n",
       "\n",
       "    // Apply a ponyfill if ResizeObserver is not implemented by browser.\n",
       "    if (this.ResizeObserver === undefined) {\n",
       "        if (window.ResizeObserver !== undefined) {\n",
       "            this.ResizeObserver = window.ResizeObserver;\n",
       "        } else {\n",
       "            var obs = _JSXTOOLS_RESIZE_OBSERVER({});\n",
       "            this.ResizeObserver = obs.ResizeObserver;\n",
       "        }\n",
       "    }\n",
       "\n",
       "    this.resizeObserverInstance = new this.ResizeObserver(function (entries) {\n",
       "        var nentries = entries.length;\n",
       "        for (var i = 0; i < nentries; i++) {\n",
       "            var entry = entries[i];\n",
       "            var width, height;\n",
       "            if (entry.contentBoxSize) {\n",
       "                if (entry.contentBoxSize instanceof Array) {\n",
       "                    // Chrome 84 implements new version of spec.\n",
       "                    width = entry.contentBoxSize[0].inlineSize;\n",
       "                    height = entry.contentBoxSize[0].blockSize;\n",
       "                } else {\n",
       "                    // Firefox implements old version of spec.\n",
       "                    width = entry.contentBoxSize.inlineSize;\n",
       "                    height = entry.contentBoxSize.blockSize;\n",
       "                }\n",
       "            } else {\n",
       "                // Chrome <84 implements even older version of spec.\n",
       "                width = entry.contentRect.width;\n",
       "                height = entry.contentRect.height;\n",
       "            }\n",
       "\n",
       "            // Keep the size of the canvas and rubber band canvas in sync with\n",
       "            // the canvas container.\n",
       "            if (entry.devicePixelContentBoxSize) {\n",
       "                // Chrome 84 implements new version of spec.\n",
       "                canvas.setAttribute(\n",
       "                    'width',\n",
       "                    entry.devicePixelContentBoxSize[0].inlineSize\n",
       "                );\n",
       "                canvas.setAttribute(\n",
       "                    'height',\n",
       "                    entry.devicePixelContentBoxSize[0].blockSize\n",
       "                );\n",
       "            } else {\n",
       "                canvas.setAttribute('width', width * fig.ratio);\n",
       "                canvas.setAttribute('height', height * fig.ratio);\n",
       "            }\n",
       "            canvas.setAttribute(\n",
       "                'style',\n",
       "                'width: ' + width + 'px; height: ' + height + 'px;'\n",
       "            );\n",
       "\n",
       "            rubberband_canvas.setAttribute('width', width);\n",
       "            rubberband_canvas.setAttribute('height', height);\n",
       "\n",
       "            // And update the size in Python. We ignore the initial 0/0 size\n",
       "            // that occurs as the element is placed into the DOM, which should\n",
       "            // otherwise not happen due to the minimum size styling.\n",
       "            if (fig.ws.readyState == 1 && width != 0 && height != 0) {\n",
       "                fig.request_resize(width, height);\n",
       "            }\n",
       "        }\n",
       "    });\n",
       "    this.resizeObserverInstance.observe(canvas_div);\n",
       "\n",
       "    function on_mouse_event_closure(name) {\n",
       "        return function (event) {\n",
       "            return fig.mouse_event(event, name);\n",
       "        };\n",
       "    }\n",
       "\n",
       "    rubberband_canvas.addEventListener(\n",
       "        'mousedown',\n",
       "        on_mouse_event_closure('button_press')\n",
       "    );\n",
       "    rubberband_canvas.addEventListener(\n",
       "        'mouseup',\n",
       "        on_mouse_event_closure('button_release')\n",
       "    );\n",
       "    rubberband_canvas.addEventListener(\n",
       "        'dblclick',\n",
       "        on_mouse_event_closure('dblclick')\n",
       "    );\n",
       "    // Throttle sequential mouse events to 1 every 20ms.\n",
       "    rubberband_canvas.addEventListener(\n",
       "        'mousemove',\n",
       "        on_mouse_event_closure('motion_notify')\n",
       "    );\n",
       "\n",
       "    rubberband_canvas.addEventListener(\n",
       "        'mouseenter',\n",
       "        on_mouse_event_closure('figure_enter')\n",
       "    );\n",
       "    rubberband_canvas.addEventListener(\n",
       "        'mouseleave',\n",
       "        on_mouse_event_closure('figure_leave')\n",
       "    );\n",
       "\n",
       "    canvas_div.addEventListener('wheel', function (event) {\n",
       "        if (event.deltaY < 0) {\n",
       "            event.step = 1;\n",
       "        } else {\n",
       "            event.step = -1;\n",
       "        }\n",
       "        on_mouse_event_closure('scroll')(event);\n",
       "    });\n",
       "\n",
       "    canvas_div.appendChild(canvas);\n",
       "    canvas_div.appendChild(rubberband_canvas);\n",
       "\n",
       "    this.rubberband_context = rubberband_canvas.getContext('2d');\n",
       "    this.rubberband_context.strokeStyle = '#000000';\n",
       "\n",
       "    this._resize_canvas = function (width, height, forward) {\n",
       "        if (forward) {\n",
       "            canvas_div.style.width = width + 'px';\n",
       "            canvas_div.style.height = height + 'px';\n",
       "        }\n",
       "    };\n",
       "\n",
       "    // Disable right mouse context menu.\n",
       "    this.rubberband_canvas.addEventListener('contextmenu', function (_e) {\n",
       "        event.preventDefault();\n",
       "        return false;\n",
       "    });\n",
       "\n",
       "    function set_focus() {\n",
       "        canvas.focus();\n",
       "        canvas_div.focus();\n",
       "    }\n",
       "\n",
       "    window.setTimeout(set_focus, 100);\n",
       "};\n",
       "\n",
       "mpl.figure.prototype._init_toolbar = function () {\n",
       "    var fig = this;\n",
       "\n",
       "    var toolbar = document.createElement('div');\n",
       "    toolbar.classList = 'mpl-toolbar';\n",
       "    this.root.appendChild(toolbar);\n",
       "\n",
       "    function on_click_closure(name) {\n",
       "        return function (_event) {\n",
       "            return fig.toolbar_button_onclick(name);\n",
       "        };\n",
       "    }\n",
       "\n",
       "    function on_mouseover_closure(tooltip) {\n",
       "        return function (event) {\n",
       "            if (!event.currentTarget.disabled) {\n",
       "                return fig.toolbar_button_onmouseover(tooltip);\n",
       "            }\n",
       "        };\n",
       "    }\n",
       "\n",
       "    fig.buttons = {};\n",
       "    var buttonGroup = document.createElement('div');\n",
       "    buttonGroup.classList = 'mpl-button-group';\n",
       "    for (var toolbar_ind in mpl.toolbar_items) {\n",
       "        var name = mpl.toolbar_items[toolbar_ind][0];\n",
       "        var tooltip = mpl.toolbar_items[toolbar_ind][1];\n",
       "        var image = mpl.toolbar_items[toolbar_ind][2];\n",
       "        var method_name = mpl.toolbar_items[toolbar_ind][3];\n",
       "\n",
       "        if (!name) {\n",
       "            /* Instead of a spacer, we start a new button group. */\n",
       "            if (buttonGroup.hasChildNodes()) {\n",
       "                toolbar.appendChild(buttonGroup);\n",
       "            }\n",
       "            buttonGroup = document.createElement('div');\n",
       "            buttonGroup.classList = 'mpl-button-group';\n",
       "            continue;\n",
       "        }\n",
       "\n",
       "        var button = (fig.buttons[name] = document.createElement('button'));\n",
       "        button.classList = 'mpl-widget';\n",
       "        button.setAttribute('role', 'button');\n",
       "        button.setAttribute('aria-disabled', 'false');\n",
       "        button.addEventListener('click', on_click_closure(method_name));\n",
       "        button.addEventListener('mouseover', on_mouseover_closure(tooltip));\n",
       "\n",
       "        var icon_img = document.createElement('img');\n",
       "        icon_img.src = '_images/' + image + '.png';\n",
       "        icon_img.srcset = '_images/' + image + '_large.png 2x';\n",
       "        icon_img.alt = tooltip;\n",
       "        button.appendChild(icon_img);\n",
       "\n",
       "        buttonGroup.appendChild(button);\n",
       "    }\n",
       "\n",
       "    if (buttonGroup.hasChildNodes()) {\n",
       "        toolbar.appendChild(buttonGroup);\n",
       "    }\n",
       "\n",
       "    var fmt_picker = document.createElement('select');\n",
       "    fmt_picker.classList = 'mpl-widget';\n",
       "    toolbar.appendChild(fmt_picker);\n",
       "    this.format_dropdown = fmt_picker;\n",
       "\n",
       "    for (var ind in mpl.extensions) {\n",
       "        var fmt = mpl.extensions[ind];\n",
       "        var option = document.createElement('option');\n",
       "        option.selected = fmt === mpl.default_extension;\n",
       "        option.innerHTML = fmt;\n",
       "        fmt_picker.appendChild(option);\n",
       "    }\n",
       "\n",
       "    var status_bar = document.createElement('span');\n",
       "    status_bar.classList = 'mpl-message';\n",
       "    toolbar.appendChild(status_bar);\n",
       "    this.message = status_bar;\n",
       "};\n",
       "\n",
       "mpl.figure.prototype.request_resize = function (x_pixels, y_pixels) {\n",
       "    // Request matplotlib to resize the figure. Matplotlib will then trigger a resize in the client,\n",
       "    // which will in turn request a refresh of the image.\n",
       "    this.send_message('resize', { width: x_pixels, height: y_pixels });\n",
       "};\n",
       "\n",
       "mpl.figure.prototype.send_message = function (type, properties) {\n",
       "    properties['type'] = type;\n",
       "    properties['figure_id'] = this.id;\n",
       "    this.ws.send(JSON.stringify(properties));\n",
       "};\n",
       "\n",
       "mpl.figure.prototype.send_draw_message = function () {\n",
       "    if (!this.waiting) {\n",
       "        this.waiting = true;\n",
       "        this.ws.send(JSON.stringify({ type: 'draw', figure_id: this.id }));\n",
       "    }\n",
       "};\n",
       "\n",
       "mpl.figure.prototype.handle_save = function (fig, _msg) {\n",
       "    var format_dropdown = fig.format_dropdown;\n",
       "    var format = format_dropdown.options[format_dropdown.selectedIndex].value;\n",
       "    fig.ondownload(fig, format);\n",
       "};\n",
       "\n",
       "mpl.figure.prototype.handle_resize = function (fig, msg) {\n",
       "    var size = msg['size'];\n",
       "    if (size[0] !== fig.canvas.width || size[1] !== fig.canvas.height) {\n",
       "        fig._resize_canvas(size[0], size[1], msg['forward']);\n",
       "        fig.send_message('refresh', {});\n",
       "    }\n",
       "};\n",
       "\n",
       "mpl.figure.prototype.handle_rubberband = function (fig, msg) {\n",
       "    var x0 = msg['x0'] / fig.ratio;\n",
       "    var y0 = (fig.canvas.height - msg['y0']) / fig.ratio;\n",
       "    var x1 = msg['x1'] / fig.ratio;\n",
       "    var y1 = (fig.canvas.height - msg['y1']) / fig.ratio;\n",
       "    x0 = Math.floor(x0) + 0.5;\n",
       "    y0 = Math.floor(y0) + 0.5;\n",
       "    x1 = Math.floor(x1) + 0.5;\n",
       "    y1 = Math.floor(y1) + 0.5;\n",
       "    var min_x = Math.min(x0, x1);\n",
       "    var min_y = Math.min(y0, y1);\n",
       "    var width = Math.abs(x1 - x0);\n",
       "    var height = Math.abs(y1 - y0);\n",
       "\n",
       "    fig.rubberband_context.clearRect(\n",
       "        0,\n",
       "        0,\n",
       "        fig.canvas.width / fig.ratio,\n",
       "        fig.canvas.height / fig.ratio\n",
       "    );\n",
       "\n",
       "    fig.rubberband_context.strokeRect(min_x, min_y, width, height);\n",
       "};\n",
       "\n",
       "mpl.figure.prototype.handle_figure_label = function (fig, msg) {\n",
       "    // Updates the figure title.\n",
       "    fig.header.textContent = msg['label'];\n",
       "};\n",
       "\n",
       "mpl.figure.prototype.handle_cursor = function (fig, msg) {\n",
       "    fig.rubberband_canvas.style.cursor = msg['cursor'];\n",
       "};\n",
       "\n",
       "mpl.figure.prototype.handle_message = function (fig, msg) {\n",
       "    fig.message.textContent = msg['message'];\n",
       "};\n",
       "\n",
       "mpl.figure.prototype.handle_draw = function (fig, _msg) {\n",
       "    // Request the server to send over a new figure.\n",
       "    fig.send_draw_message();\n",
       "};\n",
       "\n",
       "mpl.figure.prototype.handle_image_mode = function (fig, msg) {\n",
       "    fig.image_mode = msg['mode'];\n",
       "};\n",
       "\n",
       "mpl.figure.prototype.handle_history_buttons = function (fig, msg) {\n",
       "    for (var key in msg) {\n",
       "        if (!(key in fig.buttons)) {\n",
       "            continue;\n",
       "        }\n",
       "        fig.buttons[key].disabled = !msg[key];\n",
       "        fig.buttons[key].setAttribute('aria-disabled', !msg[key]);\n",
       "    }\n",
       "};\n",
       "\n",
       "mpl.figure.prototype.handle_navigate_mode = function (fig, msg) {\n",
       "    if (msg['mode'] === 'PAN') {\n",
       "        fig.buttons['Pan'].classList.add('active');\n",
       "        fig.buttons['Zoom'].classList.remove('active');\n",
       "    } else if (msg['mode'] === 'ZOOM') {\n",
       "        fig.buttons['Pan'].classList.remove('active');\n",
       "        fig.buttons['Zoom'].classList.add('active');\n",
       "    } else {\n",
       "        fig.buttons['Pan'].classList.remove('active');\n",
       "        fig.buttons['Zoom'].classList.remove('active');\n",
       "    }\n",
       "};\n",
       "\n",
       "mpl.figure.prototype.updated_canvas_event = function () {\n",
       "    // Called whenever the canvas gets updated.\n",
       "    this.send_message('ack', {});\n",
       "};\n",
       "\n",
       "// A function to construct a web socket function for onmessage handling.\n",
       "// Called in the figure constructor.\n",
       "mpl.figure.prototype._make_on_message_function = function (fig) {\n",
       "    return function socket_on_message(evt) {\n",
       "        if (evt.data instanceof Blob) {\n",
       "            var img = evt.data;\n",
       "            if (img.type !== 'image/png') {\n",
       "                /* FIXME: We get \"Resource interpreted as Image but\n",
       "                 * transferred with MIME type text/plain:\" errors on\n",
       "                 * Chrome.  But how to set the MIME type?  It doesn't seem\n",
       "                 * to be part of the websocket stream */\n",
       "                img.type = 'image/png';\n",
       "            }\n",
       "\n",
       "            /* Free the memory for the previous frames */\n",
       "            if (fig.imageObj.src) {\n",
       "                (window.URL || window.webkitURL).revokeObjectURL(\n",
       "                    fig.imageObj.src\n",
       "                );\n",
       "            }\n",
       "\n",
       "            fig.imageObj.src = (window.URL || window.webkitURL).createObjectURL(\n",
       "                img\n",
       "            );\n",
       "            fig.updated_canvas_event();\n",
       "            fig.waiting = false;\n",
       "            return;\n",
       "        } else if (\n",
       "            typeof evt.data === 'string' &&\n",
       "            evt.data.slice(0, 21) === 'data:image/png;base64'\n",
       "        ) {\n",
       "            fig.imageObj.src = evt.data;\n",
       "            fig.updated_canvas_event();\n",
       "            fig.waiting = false;\n",
       "            return;\n",
       "        }\n",
       "\n",
       "        var msg = JSON.parse(evt.data);\n",
       "        var msg_type = msg['type'];\n",
       "\n",
       "        // Call the  \"handle_{type}\" callback, which takes\n",
       "        // the figure and JSON message as its only arguments.\n",
       "        try {\n",
       "            var callback = fig['handle_' + msg_type];\n",
       "        } catch (e) {\n",
       "            console.log(\n",
       "                \"No handler for the '\" + msg_type + \"' message type: \",\n",
       "                msg\n",
       "            );\n",
       "            return;\n",
       "        }\n",
       "\n",
       "        if (callback) {\n",
       "            try {\n",
       "                // console.log(\"Handling '\" + msg_type + \"' message: \", msg);\n",
       "                callback(fig, msg);\n",
       "            } catch (e) {\n",
       "                console.log(\n",
       "                    \"Exception inside the 'handler_\" + msg_type + \"' callback:\",\n",
       "                    e,\n",
       "                    e.stack,\n",
       "                    msg\n",
       "                );\n",
       "            }\n",
       "        }\n",
       "    };\n",
       "};\n",
       "\n",
       "// from https://stackoverflow.com/questions/1114465/getting-mouse-location-in-canvas\n",
       "mpl.findpos = function (e) {\n",
       "    //this section is from http://www.quirksmode.org/js/events_properties.html\n",
       "    var targ;\n",
       "    if (!e) {\n",
       "        e = window.event;\n",
       "    }\n",
       "    if (e.target) {\n",
       "        targ = e.target;\n",
       "    } else if (e.srcElement) {\n",
       "        targ = e.srcElement;\n",
       "    }\n",
       "    if (targ.nodeType === 3) {\n",
       "        // defeat Safari bug\n",
       "        targ = targ.parentNode;\n",
       "    }\n",
       "\n",
       "    // pageX,Y are the mouse positions relative to the document\n",
       "    var boundingRect = targ.getBoundingClientRect();\n",
       "    var x = e.pageX - (boundingRect.left + document.body.scrollLeft);\n",
       "    var y = e.pageY - (boundingRect.top + document.body.scrollTop);\n",
       "\n",
       "    return { x: x, y: y };\n",
       "};\n",
       "\n",
       "/*\n",
       " * return a copy of an object with only non-object keys\n",
       " * we need this to avoid circular references\n",
       " * https://stackoverflow.com/a/24161582/3208463\n",
       " */\n",
       "function simpleKeys(original) {\n",
       "    return Object.keys(original).reduce(function (obj, key) {\n",
       "        if (typeof original[key] !== 'object') {\n",
       "            obj[key] = original[key];\n",
       "        }\n",
       "        return obj;\n",
       "    }, {});\n",
       "}\n",
       "\n",
       "mpl.figure.prototype.mouse_event = function (event, name) {\n",
       "    var canvas_pos = mpl.findpos(event);\n",
       "\n",
       "    if (name === 'button_press') {\n",
       "        this.canvas.focus();\n",
       "        this.canvas_div.focus();\n",
       "    }\n",
       "\n",
       "    var x = canvas_pos.x * this.ratio;\n",
       "    var y = canvas_pos.y * this.ratio;\n",
       "\n",
       "    this.send_message(name, {\n",
       "        x: x,\n",
       "        y: y,\n",
       "        button: event.button,\n",
       "        step: event.step,\n",
       "        guiEvent: simpleKeys(event),\n",
       "    });\n",
       "\n",
       "    /* This prevents the web browser from automatically changing to\n",
       "     * the text insertion cursor when the button is pressed.  We want\n",
       "     * to control all of the cursor setting manually through the\n",
       "     * 'cursor' event from matplotlib */\n",
       "    event.preventDefault();\n",
       "    return false;\n",
       "};\n",
       "\n",
       "mpl.figure.prototype._key_event_extra = function (_event, _name) {\n",
       "    // Handle any extra behaviour associated with a key event\n",
       "};\n",
       "\n",
       "mpl.figure.prototype.key_event = function (event, name) {\n",
       "    // Prevent repeat events\n",
       "    if (name === 'key_press') {\n",
       "        if (event.key === this._key) {\n",
       "            return;\n",
       "        } else {\n",
       "            this._key = event.key;\n",
       "        }\n",
       "    }\n",
       "    if (name === 'key_release') {\n",
       "        this._key = null;\n",
       "    }\n",
       "\n",
       "    var value = '';\n",
       "    if (event.ctrlKey && event.key !== 'Control') {\n",
       "        value += 'ctrl+';\n",
       "    }\n",
       "    else if (event.altKey && event.key !== 'Alt') {\n",
       "        value += 'alt+';\n",
       "    }\n",
       "    else if (event.shiftKey && event.key !== 'Shift') {\n",
       "        value += 'shift+';\n",
       "    }\n",
       "\n",
       "    value += 'k' + event.key;\n",
       "\n",
       "    this._key_event_extra(event, name);\n",
       "\n",
       "    this.send_message(name, { key: value, guiEvent: simpleKeys(event) });\n",
       "    return false;\n",
       "};\n",
       "\n",
       "mpl.figure.prototype.toolbar_button_onclick = function (name) {\n",
       "    if (name === 'download') {\n",
       "        this.handle_save(this, null);\n",
       "    } else {\n",
       "        this.send_message('toolbar_button', { name: name });\n",
       "    }\n",
       "};\n",
       "\n",
       "mpl.figure.prototype.toolbar_button_onmouseover = function (tooltip) {\n",
       "    this.message.textContent = tooltip;\n",
       "};\n",
       "\n",
       "///////////////// REMAINING CONTENT GENERATED BY embed_js.py /////////////////\n",
       "// prettier-ignore\n",
       "var _JSXTOOLS_RESIZE_OBSERVER=function(A){var t,i=new WeakMap,n=new WeakMap,a=new WeakMap,r=new WeakMap,o=new Set;function s(e){if(!(this instanceof s))throw new TypeError(\"Constructor requires 'new' operator\");i.set(this,e)}function h(){throw new TypeError(\"Function is not a constructor\")}function c(e,t,i,n){e=0 in arguments?Number(arguments[0]):0,t=1 in arguments?Number(arguments[1]):0,i=2 in arguments?Number(arguments[2]):0,n=3 in arguments?Number(arguments[3]):0,this.right=(this.x=this.left=e)+(this.width=i),this.bottom=(this.y=this.top=t)+(this.height=n),Object.freeze(this)}function d(){t=requestAnimationFrame(d);var s=new WeakMap,p=new Set;o.forEach((function(t){r.get(t).forEach((function(i){var r=t instanceof window.SVGElement,o=a.get(t),d=r?0:parseFloat(o.paddingTop),f=r?0:parseFloat(o.paddingRight),l=r?0:parseFloat(o.paddingBottom),u=r?0:parseFloat(o.paddingLeft),g=r?0:parseFloat(o.borderTopWidth),m=r?0:parseFloat(o.borderRightWidth),w=r?0:parseFloat(o.borderBottomWidth),b=u+f,F=d+l,v=(r?0:parseFloat(o.borderLeftWidth))+m,W=g+w,y=r?0:t.offsetHeight-W-t.clientHeight,E=r?0:t.offsetWidth-v-t.clientWidth,R=b+v,z=F+W,M=r?t.width:parseFloat(o.width)-R-E,O=r?t.height:parseFloat(o.height)-z-y;if(n.has(t)){var k=n.get(t);if(k[0]===M&&k[1]===O)return}n.set(t,[M,O]);var S=Object.create(h.prototype);S.target=t,S.contentRect=new c(u,d,M,O),s.has(i)||(s.set(i,[]),p.add(i)),s.get(i).push(S)}))})),p.forEach((function(e){i.get(e).call(e,s.get(e),e)}))}return s.prototype.observe=function(i){if(i instanceof window.Element){r.has(i)||(r.set(i,new Set),o.add(i),a.set(i,window.getComputedStyle(i)));var n=r.get(i);n.has(this)||n.add(this),cancelAnimationFrame(t),t=requestAnimationFrame(d)}},s.prototype.unobserve=function(i){if(i instanceof window.Element&&r.has(i)){var n=r.get(i);n.has(this)&&(n.delete(this),n.size||(r.delete(i),o.delete(i))),n.size||r.delete(i),o.size||cancelAnimationFrame(t)}},A.DOMRectReadOnly=c,A.ResizeObserver=s,A.ResizeObserverEntry=h,A}; // eslint-disable-line\n",
       "mpl.toolbar_items = [[\"Home\", \"Reset original view\", \"fa fa-home icon-home\", \"home\"], [\"Back\", \"Back to previous view\", \"fa fa-arrow-left icon-arrow-left\", \"back\"], [\"Forward\", \"Forward to next view\", \"fa fa-arrow-right icon-arrow-right\", \"forward\"], [\"\", \"\", \"\", \"\"], [\"Pan\", \"Left button pans, Right button zooms\\nx/y fixes axis, CTRL fixes aspect\", \"fa fa-arrows icon-move\", \"pan\"], [\"Zoom\", \"Zoom to rectangle\\nx/y fixes axis\", \"fa fa-square-o icon-check-empty\", \"zoom\"], [\"\", \"\", \"\", \"\"], [\"Download\", \"Download plot\", \"fa fa-floppy-o icon-save\", \"download\"]];\n",
       "\n",
       "mpl.extensions = [\"eps\", \"jpeg\", \"pgf\", \"pdf\", \"png\", \"ps\", \"raw\", \"svg\", \"tif\"];\n",
       "\n",
       "mpl.default_extension = \"png\";/* global mpl */\n",
       "\n",
       "var comm_websocket_adapter = function (comm) {\n",
       "    // Create a \"websocket\"-like object which calls the given IPython comm\n",
       "    // object with the appropriate methods. Currently this is a non binary\n",
       "    // socket, so there is still some room for performance tuning.\n",
       "    var ws = {};\n",
       "\n",
       "    ws.binaryType = comm.kernel.ws.binaryType;\n",
       "    ws.readyState = comm.kernel.ws.readyState;\n",
       "    function updateReadyState(_event) {\n",
       "        if (comm.kernel.ws) {\n",
       "            ws.readyState = comm.kernel.ws.readyState;\n",
       "        } else {\n",
       "            ws.readyState = 3; // Closed state.\n",
       "        }\n",
       "    }\n",
       "    comm.kernel.ws.addEventListener('open', updateReadyState);\n",
       "    comm.kernel.ws.addEventListener('close', updateReadyState);\n",
       "    comm.kernel.ws.addEventListener('error', updateReadyState);\n",
       "\n",
       "    ws.close = function () {\n",
       "        comm.close();\n",
       "    };\n",
       "    ws.send = function (m) {\n",
       "        //console.log('sending', m);\n",
       "        comm.send(m);\n",
       "    };\n",
       "    // Register the callback with on_msg.\n",
       "    comm.on_msg(function (msg) {\n",
       "        //console.log('receiving', msg['content']['data'], msg);\n",
       "        var data = msg['content']['data'];\n",
       "        if (data['blob'] !== undefined) {\n",
       "            data = {\n",
       "                data: new Blob(msg['buffers'], { type: data['blob'] }),\n",
       "            };\n",
       "        }\n",
       "        // Pass the mpl event to the overridden (by mpl) onmessage function.\n",
       "        ws.onmessage(data);\n",
       "    });\n",
       "    return ws;\n",
       "};\n",
       "\n",
       "mpl.mpl_figure_comm = function (comm, msg) {\n",
       "    // This is the function which gets called when the mpl process\n",
       "    // starts-up an IPython Comm through the \"matplotlib\" channel.\n",
       "\n",
       "    var id = msg.content.data.id;\n",
       "    // Get hold of the div created by the display call when the Comm\n",
       "    // socket was opened in Python.\n",
       "    var element = document.getElementById(id);\n",
       "    var ws_proxy = comm_websocket_adapter(comm);\n",
       "\n",
       "    function ondownload(figure, _format) {\n",
       "        window.open(figure.canvas.toDataURL());\n",
       "    }\n",
       "\n",
       "    var fig = new mpl.figure(id, ws_proxy, ondownload, element);\n",
       "\n",
       "    // Call onopen now - mpl needs it, as it is assuming we've passed it a real\n",
       "    // web socket which is closed, not our websocket->open comm proxy.\n",
       "    ws_proxy.onopen();\n",
       "\n",
       "    fig.parent_element = element;\n",
       "    fig.cell_info = mpl.find_output_cell(\"<div id='\" + id + \"'></div>\");\n",
       "    if (!fig.cell_info) {\n",
       "        console.error('Failed to find cell for figure', id, fig);\n",
       "        return;\n",
       "    }\n",
       "    fig.cell_info[0].output_area.element.on(\n",
       "        'cleared',\n",
       "        { fig: fig },\n",
       "        fig._remove_fig_handler\n",
       "    );\n",
       "};\n",
       "\n",
       "mpl.figure.prototype.handle_close = function (fig, msg) {\n",
       "    var width = fig.canvas.width / fig.ratio;\n",
       "    fig.cell_info[0].output_area.element.off(\n",
       "        'cleared',\n",
       "        fig._remove_fig_handler\n",
       "    );\n",
       "    fig.resizeObserverInstance.unobserve(fig.canvas_div);\n",
       "\n",
       "    // Update the output cell to use the data from the current canvas.\n",
       "    fig.push_to_output();\n",
       "    var dataURL = fig.canvas.toDataURL();\n",
       "    // Re-enable the keyboard manager in IPython - without this line, in FF,\n",
       "    // the notebook keyboard shortcuts fail.\n",
       "    IPython.keyboard_manager.enable();\n",
       "    fig.parent_element.innerHTML =\n",
       "        '<img src=\"' + dataURL + '\" width=\"' + width + '\">';\n",
       "    fig.close_ws(fig, msg);\n",
       "};\n",
       "\n",
       "mpl.figure.prototype.close_ws = function (fig, msg) {\n",
       "    fig.send_message('closing', msg);\n",
       "    // fig.ws.close()\n",
       "};\n",
       "\n",
       "mpl.figure.prototype.push_to_output = function (_remove_interactive) {\n",
       "    // Turn the data on the canvas into data in the output cell.\n",
       "    var width = this.canvas.width / this.ratio;\n",
       "    var dataURL = this.canvas.toDataURL();\n",
       "    this.cell_info[1]['text/html'] =\n",
       "        '<img src=\"' + dataURL + '\" width=\"' + width + '\">';\n",
       "};\n",
       "\n",
       "mpl.figure.prototype.updated_canvas_event = function () {\n",
       "    // Tell IPython that the notebook contents must change.\n",
       "    IPython.notebook.set_dirty(true);\n",
       "    this.send_message('ack', {});\n",
       "    var fig = this;\n",
       "    // Wait a second, then push the new image to the DOM so\n",
       "    // that it is saved nicely (might be nice to debounce this).\n",
       "    setTimeout(function () {\n",
       "        fig.push_to_output();\n",
       "    }, 1000);\n",
       "};\n",
       "\n",
       "mpl.figure.prototype._init_toolbar = function () {\n",
       "    var fig = this;\n",
       "\n",
       "    var toolbar = document.createElement('div');\n",
       "    toolbar.classList = 'btn-toolbar';\n",
       "    this.root.appendChild(toolbar);\n",
       "\n",
       "    function on_click_closure(name) {\n",
       "        return function (_event) {\n",
       "            return fig.toolbar_button_onclick(name);\n",
       "        };\n",
       "    }\n",
       "\n",
       "    function on_mouseover_closure(tooltip) {\n",
       "        return function (event) {\n",
       "            if (!event.currentTarget.disabled) {\n",
       "                return fig.toolbar_button_onmouseover(tooltip);\n",
       "            }\n",
       "        };\n",
       "    }\n",
       "\n",
       "    fig.buttons = {};\n",
       "    var buttonGroup = document.createElement('div');\n",
       "    buttonGroup.classList = 'btn-group';\n",
       "    var button;\n",
       "    for (var toolbar_ind in mpl.toolbar_items) {\n",
       "        var name = mpl.toolbar_items[toolbar_ind][0];\n",
       "        var tooltip = mpl.toolbar_items[toolbar_ind][1];\n",
       "        var image = mpl.toolbar_items[toolbar_ind][2];\n",
       "        var method_name = mpl.toolbar_items[toolbar_ind][3];\n",
       "\n",
       "        if (!name) {\n",
       "            /* Instead of a spacer, we start a new button group. */\n",
       "            if (buttonGroup.hasChildNodes()) {\n",
       "                toolbar.appendChild(buttonGroup);\n",
       "            }\n",
       "            buttonGroup = document.createElement('div');\n",
       "            buttonGroup.classList = 'btn-group';\n",
       "            continue;\n",
       "        }\n",
       "\n",
       "        button = fig.buttons[name] = document.createElement('button');\n",
       "        button.classList = 'btn btn-default';\n",
       "        button.href = '#';\n",
       "        button.title = name;\n",
       "        button.innerHTML = '<i class=\"fa ' + image + ' fa-lg\"></i>';\n",
       "        button.addEventListener('click', on_click_closure(method_name));\n",
       "        button.addEventListener('mouseover', on_mouseover_closure(tooltip));\n",
       "        buttonGroup.appendChild(button);\n",
       "    }\n",
       "\n",
       "    if (buttonGroup.hasChildNodes()) {\n",
       "        toolbar.appendChild(buttonGroup);\n",
       "    }\n",
       "\n",
       "    // Add the status bar.\n",
       "    var status_bar = document.createElement('span');\n",
       "    status_bar.classList = 'mpl-message pull-right';\n",
       "    toolbar.appendChild(status_bar);\n",
       "    this.message = status_bar;\n",
       "\n",
       "    // Add the close button to the window.\n",
       "    var buttongrp = document.createElement('div');\n",
       "    buttongrp.classList = 'btn-group inline pull-right';\n",
       "    button = document.createElement('button');\n",
       "    button.classList = 'btn btn-mini btn-primary';\n",
       "    button.href = '#';\n",
       "    button.title = 'Stop Interaction';\n",
       "    button.innerHTML = '<i class=\"fa fa-power-off icon-remove icon-large\"></i>';\n",
       "    button.addEventListener('click', function (_evt) {\n",
       "        fig.handle_close(fig, {});\n",
       "    });\n",
       "    button.addEventListener(\n",
       "        'mouseover',\n",
       "        on_mouseover_closure('Stop Interaction')\n",
       "    );\n",
       "    buttongrp.appendChild(button);\n",
       "    var titlebar = this.root.querySelector('.ui-dialog-titlebar');\n",
       "    titlebar.insertBefore(buttongrp, titlebar.firstChild);\n",
       "};\n",
       "\n",
       "mpl.figure.prototype._remove_fig_handler = function (event) {\n",
       "    var fig = event.data.fig;\n",
       "    if (event.target !== this) {\n",
       "        // Ignore bubbled events from children.\n",
       "        return;\n",
       "    }\n",
       "    fig.close_ws(fig, {});\n",
       "};\n",
       "\n",
       "mpl.figure.prototype._root_extra_style = function (el) {\n",
       "    el.style.boxSizing = 'content-box'; // override notebook setting of border-box.\n",
       "};\n",
       "\n",
       "mpl.figure.prototype._canvas_extra_style = function (el) {\n",
       "    // this is important to make the div 'focusable\n",
       "    el.setAttribute('tabindex', 0);\n",
       "    // reach out to IPython and tell the keyboard manager to turn it's self\n",
       "    // off when our div gets focus\n",
       "\n",
       "    // location in version 3\n",
       "    if (IPython.notebook.keyboard_manager) {\n",
       "        IPython.notebook.keyboard_manager.register_events(el);\n",
       "    } else {\n",
       "        // location in version 2\n",
       "        IPython.keyboard_manager.register_events(el);\n",
       "    }\n",
       "};\n",
       "\n",
       "mpl.figure.prototype._key_event_extra = function (event, _name) {\n",
       "    // Check for shift+enter\n",
       "    if (event.shiftKey && event.which === 13) {\n",
       "        this.canvas_div.blur();\n",
       "        // select the cell after this one\n",
       "        var index = IPython.notebook.find_cell_index(this.cell_info[0]);\n",
       "        IPython.notebook.select(index + 1);\n",
       "    }\n",
       "};\n",
       "\n",
       "mpl.figure.prototype.handle_save = function (fig, _msg) {\n",
       "    fig.ondownload(fig, null);\n",
       "};\n",
       "\n",
       "mpl.find_output_cell = function (html_output) {\n",
       "    // Return the cell and output element which can be found *uniquely* in the notebook.\n",
       "    // Note - this is a bit hacky, but it is done because the \"notebook_saving.Notebook\"\n",
       "    // IPython event is triggered only after the cells have been serialised, which for\n",
       "    // our purposes (turning an active figure into a static one), is too late.\n",
       "    var cells = IPython.notebook.get_cells();\n",
       "    var ncells = cells.length;\n",
       "    for (var i = 0; i < ncells; i++) {\n",
       "        var cell = cells[i];\n",
       "        if (cell.cell_type === 'code') {\n",
       "            for (var j = 0; j < cell.output_area.outputs.length; j++) {\n",
       "                var data = cell.output_area.outputs[j];\n",
       "                if (data.data) {\n",
       "                    // IPython >= 3 moved mimebundle to data attribute of output\n",
       "                    data = data.data;\n",
       "                }\n",
       "                if (data['text/html'] === html_output) {\n",
       "                    return [cell, data, j];\n",
       "                }\n",
       "            }\n",
       "        }\n",
       "    }\n",
       "};\n",
       "\n",
       "// Register the function which deals with the matplotlib target/channel.\n",
       "// The kernel may be null if the page has been refreshed.\n",
       "if (IPython.notebook.kernel !== null) {\n",
       "    IPython.notebook.kernel.comm_manager.register_target(\n",
       "        'matplotlib',\n",
       "        mpl.mpl_figure_comm\n",
       "    );\n",
       "}\n"
      ],
      "text/plain": [
       "<IPython.core.display.Javascript object>"
      ]
     },
     "metadata": {},
     "output_type": "display_data"
    },
    {
     "data": {
      "text/html": [
       "<img src=\"data:image/png;base64,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\" width=\"640\">"
      ],
      "text/plain": [
       "<IPython.core.display.HTML object>"
      ]
     },
     "metadata": {},
     "output_type": "display_data"
    }
   ],
   "source": [
    "def generate(N, seed = 123):\n",
    "    gen = np.random.RandomState(seed = 123)\n",
    "    lats = gen.uniform(low = -np.pi/2, high = +np.pi/2, size = N)\n",
    "    lons = gen.uniform(low = 0, high = 2* np.pi, size = N)\n",
    "    plt.plot(lons, lats, '.', color = 'blue')\n",
    "    opt_plot()\n",
    "    \n",
    "    return lats, lons\n",
    "\n",
    "lats, lon = generate(N = 1000)"
   ]
  },
  {
   "cell_type": "markdown",
   "id": "88263226",
   "metadata": {
    "slideshow": {
     "slide_type": "subslide"
    }
   },
   "source": [
    "Usamos loops python explícitos para calcular a matriz (quadrada) de ângulos de separação entre todos os pares de vetores unitários:"
   ]
  },
  {
   "cell_type": "code",
   "execution_count": 28,
   "id": "bcde5468",
   "metadata": {
    "slideshow": {
     "slide_type": "-"
    }
   },
   "outputs": [],
   "source": [
    "def separation_matrix_loops():\n",
    "    N = len(lats)\n",
    "    matrix = np.empty((N, N))\n",
    "    for i, (lat1, lon1) in enumerate(zip(lats, lon)):\n",
    "        for j, (lat2, lon2) in enumerate(zip(lats, lon)): \n",
    "            matrix[i, j] = 2 * np.arcsin(np.sqrt(\n",
    "                np.sin(0.5 * (lat2 - lat1)) ** 2 +\n",
    "                np.cos(lat1) * np.cos(lat2) * np.sin(0.5 * (lon2 - lon1)) ** 2))\n",
    "                                         \n",
    "    return matrix"
   ]
  },
  {
   "cell_type": "markdown",
   "id": "0fc2a131",
   "metadata": {
    "slideshow": {
     "slide_type": "fragment"
    }
   },
   "source": [
    "Usamos a *magic extension* `%time` para dar uma olhada no tempo necessário para rodar nossa função:"
   ]
  },
  {
   "cell_type": "code",
   "execution_count": 29,
   "id": "941ddf73",
   "metadata": {
    "slideshow": {
     "slide_type": "-"
    }
   },
   "outputs": [
    {
     "name": "stdout",
     "output_type": "stream",
     "text": [
      "CPU times: total: 10.2 s\n",
      "Wall time: 10.5 s\n"
     ]
    }
   ],
   "source": [
    "%time S1 = separation_matrix_loops()"
   ]
  },
  {
   "cell_type": "markdown",
   "id": "e9688e08",
   "metadata": {
    "slideshow": {
     "slide_type": "subslide"
    }
   },
   "source": [
    "Agora calcule as mesmas separações usando loops implícitos Numpy:"
   ]
  },
  {
   "cell_type": "code",
   "execution_count": 30,
   "id": "e2c6d3b1",
   "metadata": {
    "slideshow": {
     "slide_type": "-"
    }
   },
   "outputs": [],
   "source": [
    "def separation_matrix_numpy():\n",
    "    lat1, lat2 = lats, lats.reshape(-1, 1)\n",
    "    lon1, lon2 = lon, lon.reshape(-1, 1)\n",
    "    \n",
    "    return 2 * np.arcsin(np.sqrt(\n",
    "        np.sin(0.5 * (lat2 - lat1)) ** 2 +\n",
    "        np.cos(lat1) * np.cos(lat2) * np.sin(0.5 * (lon2 - lon1)) ** 2))"
   ]
  },
  {
   "cell_type": "code",
   "execution_count": 31,
   "id": "b83f7c79",
   "metadata": {
    "slideshow": {
     "slide_type": "-"
    }
   },
   "outputs": [
    {
     "name": "stdout",
     "output_type": "stream",
     "text": [
      "CPU times: total: 93.8 ms\n",
      "Wall time: 92.8 ms\n"
     ]
    }
   ],
   "source": [
    "%time S2 = separation_matrix_numpy()"
   ]
  },
  {
   "cell_type": "markdown",
   "id": "09f3d7d6",
   "metadata": {
    "slideshow": {
     "slide_type": "subslide"
    }
   },
   "source": [
    "Verificamos se ambos os cálculos dão os mesmos resultados:"
   ]
  },
  {
   "cell_type": "code",
   "execution_count": 32,
   "id": "fa03fdbd",
   "metadata": {
    "slideshow": {
     "slide_type": "-"
    }
   },
   "outputs": [
    {
     "data": {
      "text/plain": [
       "True"
      ]
     },
     "execution_count": 32,
     "metadata": {},
     "output_type": "execute_result"
    }
   ],
   "source": [
    "np.allclose(S1, S2)"
   ]
  },
  {
   "cell_type": "markdown",
   "id": "8a64dda5",
   "metadata": {
    "slideshow": {
     "slide_type": "subslide"
    }
   },
   "source": [
    "Como isso é muito mais rápido, aumente a quantidade de computação (e memória) 100x para um melhor *benchmark*:"
   ]
  },
  {
   "cell_type": "code",
   "execution_count": 33,
   "id": "e2b5e746",
   "metadata": {
    "slideshow": {
     "slide_type": "-"
    }
   },
   "outputs": [
    {
     "data": {
      "application/javascript": [
       "/* Put everything inside the global mpl namespace */\n",
       "/* global mpl */\n",
       "window.mpl = {};\n",
       "\n",
       "mpl.get_websocket_type = function () {\n",
       "    if (typeof WebSocket !== 'undefined') {\n",
       "        return WebSocket;\n",
       "    } else if (typeof MozWebSocket !== 'undefined') {\n",
       "        return MozWebSocket;\n",
       "    } else {\n",
       "        alert(\n",
       "            'Your browser does not have WebSocket support. ' +\n",
       "                'Please try Chrome, Safari or Firefox ≥ 6. ' +\n",
       "                'Firefox 4 and 5 are also supported but you ' +\n",
       "                'have to enable WebSockets in about:config.'\n",
       "        );\n",
       "    }\n",
       "};\n",
       "\n",
       "mpl.figure = function (figure_id, websocket, ondownload, parent_element) {\n",
       "    this.id = figure_id;\n",
       "\n",
       "    this.ws = websocket;\n",
       "\n",
       "    this.supports_binary = this.ws.binaryType !== undefined;\n",
       "\n",
       "    if (!this.supports_binary) {\n",
       "        var warnings = document.getElementById('mpl-warnings');\n",
       "        if (warnings) {\n",
       "            warnings.style.display = 'block';\n",
       "            warnings.textContent =\n",
       "                'This browser does not support binary websocket messages. ' +\n",
       "                'Performance may be slow.';\n",
       "        }\n",
       "    }\n",
       "\n",
       "    this.imageObj = new Image();\n",
       "\n",
       "    this.context = undefined;\n",
       "    this.message = undefined;\n",
       "    this.canvas = undefined;\n",
       "    this.rubberband_canvas = undefined;\n",
       "    this.rubberband_context = undefined;\n",
       "    this.format_dropdown = undefined;\n",
       "\n",
       "    this.image_mode = 'full';\n",
       "\n",
       "    this.root = document.createElement('div');\n",
       "    this.root.setAttribute('style', 'display: inline-block');\n",
       "    this._root_extra_style(this.root);\n",
       "\n",
       "    parent_element.appendChild(this.root);\n",
       "\n",
       "    this._init_header(this);\n",
       "    this._init_canvas(this);\n",
       "    this._init_toolbar(this);\n",
       "\n",
       "    var fig = this;\n",
       "\n",
       "    this.waiting = false;\n",
       "\n",
       "    this.ws.onopen = function () {\n",
       "        fig.send_message('supports_binary', { value: fig.supports_binary });\n",
       "        fig.send_message('send_image_mode', {});\n",
       "        if (fig.ratio !== 1) {\n",
       "            fig.send_message('set_device_pixel_ratio', {\n",
       "                device_pixel_ratio: fig.ratio,\n",
       "            });\n",
       "        }\n",
       "        fig.send_message('refresh', {});\n",
       "    };\n",
       "\n",
       "    this.imageObj.onload = function () {\n",
       "        if (fig.image_mode === 'full') {\n",
       "            // Full images could contain transparency (where diff images\n",
       "            // almost always do), so we need to clear the canvas so that\n",
       "            // there is no ghosting.\n",
       "            fig.context.clearRect(0, 0, fig.canvas.width, fig.canvas.height);\n",
       "        }\n",
       "        fig.context.drawImage(fig.imageObj, 0, 0);\n",
       "    };\n",
       "\n",
       "    this.imageObj.onunload = function () {\n",
       "        fig.ws.close();\n",
       "    };\n",
       "\n",
       "    this.ws.onmessage = this._make_on_message_function(this);\n",
       "\n",
       "    this.ondownload = ondownload;\n",
       "};\n",
       "\n",
       "mpl.figure.prototype._init_header = function () {\n",
       "    var titlebar = document.createElement('div');\n",
       "    titlebar.classList =\n",
       "        'ui-dialog-titlebar ui-widget-header ui-corner-all ui-helper-clearfix';\n",
       "    var titletext = document.createElement('div');\n",
       "    titletext.classList = 'ui-dialog-title';\n",
       "    titletext.setAttribute(\n",
       "        'style',\n",
       "        'width: 100%; text-align: center; padding: 3px;'\n",
       "    );\n",
       "    titlebar.appendChild(titletext);\n",
       "    this.root.appendChild(titlebar);\n",
       "    this.header = titletext;\n",
       "};\n",
       "\n",
       "mpl.figure.prototype._canvas_extra_style = function (_canvas_div) {};\n",
       "\n",
       "mpl.figure.prototype._root_extra_style = function (_canvas_div) {};\n",
       "\n",
       "mpl.figure.prototype._init_canvas = function () {\n",
       "    var fig = this;\n",
       "\n",
       "    var canvas_div = (this.canvas_div = document.createElement('div'));\n",
       "    canvas_div.setAttribute(\n",
       "        'style',\n",
       "        'border: 1px solid #ddd;' +\n",
       "            'box-sizing: content-box;' +\n",
       "            'clear: both;' +\n",
       "            'min-height: 1px;' +\n",
       "            'min-width: 1px;' +\n",
       "            'outline: 0;' +\n",
       "            'overflow: hidden;' +\n",
       "            'position: relative;' +\n",
       "            'resize: both;'\n",
       "    );\n",
       "\n",
       "    function on_keyboard_event_closure(name) {\n",
       "        return function (event) {\n",
       "            return fig.key_event(event, name);\n",
       "        };\n",
       "    }\n",
       "\n",
       "    canvas_div.addEventListener(\n",
       "        'keydown',\n",
       "        on_keyboard_event_closure('key_press')\n",
       "    );\n",
       "    canvas_div.addEventListener(\n",
       "        'keyup',\n",
       "        on_keyboard_event_closure('key_release')\n",
       "    );\n",
       "\n",
       "    this._canvas_extra_style(canvas_div);\n",
       "    this.root.appendChild(canvas_div);\n",
       "\n",
       "    var canvas = (this.canvas = document.createElement('canvas'));\n",
       "    canvas.classList.add('mpl-canvas');\n",
       "    canvas.setAttribute('style', 'box-sizing: content-box;');\n",
       "\n",
       "    this.context = canvas.getContext('2d');\n",
       "\n",
       "    var backingStore =\n",
       "        this.context.backingStorePixelRatio ||\n",
       "        this.context.webkitBackingStorePixelRatio ||\n",
       "        this.context.mozBackingStorePixelRatio ||\n",
       "        this.context.msBackingStorePixelRatio ||\n",
       "        this.context.oBackingStorePixelRatio ||\n",
       "        this.context.backingStorePixelRatio ||\n",
       "        1;\n",
       "\n",
       "    this.ratio = (window.devicePixelRatio || 1) / backingStore;\n",
       "\n",
       "    var rubberband_canvas = (this.rubberband_canvas = document.createElement(\n",
       "        'canvas'\n",
       "    ));\n",
       "    rubberband_canvas.setAttribute(\n",
       "        'style',\n",
       "        'box-sizing: content-box; position: absolute; left: 0; top: 0; z-index: 1;'\n",
       "    );\n",
       "\n",
       "    // Apply a ponyfill if ResizeObserver is not implemented by browser.\n",
       "    if (this.ResizeObserver === undefined) {\n",
       "        if (window.ResizeObserver !== undefined) {\n",
       "            this.ResizeObserver = window.ResizeObserver;\n",
       "        } else {\n",
       "            var obs = _JSXTOOLS_RESIZE_OBSERVER({});\n",
       "            this.ResizeObserver = obs.ResizeObserver;\n",
       "        }\n",
       "    }\n",
       "\n",
       "    this.resizeObserverInstance = new this.ResizeObserver(function (entries) {\n",
       "        var nentries = entries.length;\n",
       "        for (var i = 0; i < nentries; i++) {\n",
       "            var entry = entries[i];\n",
       "            var width, height;\n",
       "            if (entry.contentBoxSize) {\n",
       "                if (entry.contentBoxSize instanceof Array) {\n",
       "                    // Chrome 84 implements new version of spec.\n",
       "                    width = entry.contentBoxSize[0].inlineSize;\n",
       "                    height = entry.contentBoxSize[0].blockSize;\n",
       "                } else {\n",
       "                    // Firefox implements old version of spec.\n",
       "                    width = entry.contentBoxSize.inlineSize;\n",
       "                    height = entry.contentBoxSize.blockSize;\n",
       "                }\n",
       "            } else {\n",
       "                // Chrome <84 implements even older version of spec.\n",
       "                width = entry.contentRect.width;\n",
       "                height = entry.contentRect.height;\n",
       "            }\n",
       "\n",
       "            // Keep the size of the canvas and rubber band canvas in sync with\n",
       "            // the canvas container.\n",
       "            if (entry.devicePixelContentBoxSize) {\n",
       "                // Chrome 84 implements new version of spec.\n",
       "                canvas.setAttribute(\n",
       "                    'width',\n",
       "                    entry.devicePixelContentBoxSize[0].inlineSize\n",
       "                );\n",
       "                canvas.setAttribute(\n",
       "                    'height',\n",
       "                    entry.devicePixelContentBoxSize[0].blockSize\n",
       "                );\n",
       "            } else {\n",
       "                canvas.setAttribute('width', width * fig.ratio);\n",
       "                canvas.setAttribute('height', height * fig.ratio);\n",
       "            }\n",
       "            canvas.setAttribute(\n",
       "                'style',\n",
       "                'width: ' + width + 'px; height: ' + height + 'px;'\n",
       "            );\n",
       "\n",
       "            rubberband_canvas.setAttribute('width', width);\n",
       "            rubberband_canvas.setAttribute('height', height);\n",
       "\n",
       "            // And update the size in Python. We ignore the initial 0/0 size\n",
       "            // that occurs as the element is placed into the DOM, which should\n",
       "            // otherwise not happen due to the minimum size styling.\n",
       "            if (fig.ws.readyState == 1 && width != 0 && height != 0) {\n",
       "                fig.request_resize(width, height);\n",
       "            }\n",
       "        }\n",
       "    });\n",
       "    this.resizeObserverInstance.observe(canvas_div);\n",
       "\n",
       "    function on_mouse_event_closure(name) {\n",
       "        return function (event) {\n",
       "            return fig.mouse_event(event, name);\n",
       "        };\n",
       "    }\n",
       "\n",
       "    rubberband_canvas.addEventListener(\n",
       "        'mousedown',\n",
       "        on_mouse_event_closure('button_press')\n",
       "    );\n",
       "    rubberband_canvas.addEventListener(\n",
       "        'mouseup',\n",
       "        on_mouse_event_closure('button_release')\n",
       "    );\n",
       "    rubberband_canvas.addEventListener(\n",
       "        'dblclick',\n",
       "        on_mouse_event_closure('dblclick')\n",
       "    );\n",
       "    // Throttle sequential mouse events to 1 every 20ms.\n",
       "    rubberband_canvas.addEventListener(\n",
       "        'mousemove',\n",
       "        on_mouse_event_closure('motion_notify')\n",
       "    );\n",
       "\n",
       "    rubberband_canvas.addEventListener(\n",
       "        'mouseenter',\n",
       "        on_mouse_event_closure('figure_enter')\n",
       "    );\n",
       "    rubberband_canvas.addEventListener(\n",
       "        'mouseleave',\n",
       "        on_mouse_event_closure('figure_leave')\n",
       "    );\n",
       "\n",
       "    canvas_div.addEventListener('wheel', function (event) {\n",
       "        if (event.deltaY < 0) {\n",
       "            event.step = 1;\n",
       "        } else {\n",
       "            event.step = -1;\n",
       "        }\n",
       "        on_mouse_event_closure('scroll')(event);\n",
       "    });\n",
       "\n",
       "    canvas_div.appendChild(canvas);\n",
       "    canvas_div.appendChild(rubberband_canvas);\n",
       "\n",
       "    this.rubberband_context = rubberband_canvas.getContext('2d');\n",
       "    this.rubberband_context.strokeStyle = '#000000';\n",
       "\n",
       "    this._resize_canvas = function (width, height, forward) {\n",
       "        if (forward) {\n",
       "            canvas_div.style.width = width + 'px';\n",
       "            canvas_div.style.height = height + 'px';\n",
       "        }\n",
       "    };\n",
       "\n",
       "    // Disable right mouse context menu.\n",
       "    this.rubberband_canvas.addEventListener('contextmenu', function (_e) {\n",
       "        event.preventDefault();\n",
       "        return false;\n",
       "    });\n",
       "\n",
       "    function set_focus() {\n",
       "        canvas.focus();\n",
       "        canvas_div.focus();\n",
       "    }\n",
       "\n",
       "    window.setTimeout(set_focus, 100);\n",
       "};\n",
       "\n",
       "mpl.figure.prototype._init_toolbar = function () {\n",
       "    var fig = this;\n",
       "\n",
       "    var toolbar = document.createElement('div');\n",
       "    toolbar.classList = 'mpl-toolbar';\n",
       "    this.root.appendChild(toolbar);\n",
       "\n",
       "    function on_click_closure(name) {\n",
       "        return function (_event) {\n",
       "            return fig.toolbar_button_onclick(name);\n",
       "        };\n",
       "    }\n",
       "\n",
       "    function on_mouseover_closure(tooltip) {\n",
       "        return function (event) {\n",
       "            if (!event.currentTarget.disabled) {\n",
       "                return fig.toolbar_button_onmouseover(tooltip);\n",
       "            }\n",
       "        };\n",
       "    }\n",
       "\n",
       "    fig.buttons = {};\n",
       "    var buttonGroup = document.createElement('div');\n",
       "    buttonGroup.classList = 'mpl-button-group';\n",
       "    for (var toolbar_ind in mpl.toolbar_items) {\n",
       "        var name = mpl.toolbar_items[toolbar_ind][0];\n",
       "        var tooltip = mpl.toolbar_items[toolbar_ind][1];\n",
       "        var image = mpl.toolbar_items[toolbar_ind][2];\n",
       "        var method_name = mpl.toolbar_items[toolbar_ind][3];\n",
       "\n",
       "        if (!name) {\n",
       "            /* Instead of a spacer, we start a new button group. */\n",
       "            if (buttonGroup.hasChildNodes()) {\n",
       "                toolbar.appendChild(buttonGroup);\n",
       "            }\n",
       "            buttonGroup = document.createElement('div');\n",
       "            buttonGroup.classList = 'mpl-button-group';\n",
       "            continue;\n",
       "        }\n",
       "\n",
       "        var button = (fig.buttons[name] = document.createElement('button'));\n",
       "        button.classList = 'mpl-widget';\n",
       "        button.setAttribute('role', 'button');\n",
       "        button.setAttribute('aria-disabled', 'false');\n",
       "        button.addEventListener('click', on_click_closure(method_name));\n",
       "        button.addEventListener('mouseover', on_mouseover_closure(tooltip));\n",
       "\n",
       "        var icon_img = document.createElement('img');\n",
       "        icon_img.src = '_images/' + image + '.png';\n",
       "        icon_img.srcset = '_images/' + image + '_large.png 2x';\n",
       "        icon_img.alt = tooltip;\n",
       "        button.appendChild(icon_img);\n",
       "\n",
       "        buttonGroup.appendChild(button);\n",
       "    }\n",
       "\n",
       "    if (buttonGroup.hasChildNodes()) {\n",
       "        toolbar.appendChild(buttonGroup);\n",
       "    }\n",
       "\n",
       "    var fmt_picker = document.createElement('select');\n",
       "    fmt_picker.classList = 'mpl-widget';\n",
       "    toolbar.appendChild(fmt_picker);\n",
       "    this.format_dropdown = fmt_picker;\n",
       "\n",
       "    for (var ind in mpl.extensions) {\n",
       "        var fmt = mpl.extensions[ind];\n",
       "        var option = document.createElement('option');\n",
       "        option.selected = fmt === mpl.default_extension;\n",
       "        option.innerHTML = fmt;\n",
       "        fmt_picker.appendChild(option);\n",
       "    }\n",
       "\n",
       "    var status_bar = document.createElement('span');\n",
       "    status_bar.classList = 'mpl-message';\n",
       "    toolbar.appendChild(status_bar);\n",
       "    this.message = status_bar;\n",
       "};\n",
       "\n",
       "mpl.figure.prototype.request_resize = function (x_pixels, y_pixels) {\n",
       "    // Request matplotlib to resize the figure. Matplotlib will then trigger a resize in the client,\n",
       "    // which will in turn request a refresh of the image.\n",
       "    this.send_message('resize', { width: x_pixels, height: y_pixels });\n",
       "};\n",
       "\n",
       "mpl.figure.prototype.send_message = function (type, properties) {\n",
       "    properties['type'] = type;\n",
       "    properties['figure_id'] = this.id;\n",
       "    this.ws.send(JSON.stringify(properties));\n",
       "};\n",
       "\n",
       "mpl.figure.prototype.send_draw_message = function () {\n",
       "    if (!this.waiting) {\n",
       "        this.waiting = true;\n",
       "        this.ws.send(JSON.stringify({ type: 'draw', figure_id: this.id }));\n",
       "    }\n",
       "};\n",
       "\n",
       "mpl.figure.prototype.handle_save = function (fig, _msg) {\n",
       "    var format_dropdown = fig.format_dropdown;\n",
       "    var format = format_dropdown.options[format_dropdown.selectedIndex].value;\n",
       "    fig.ondownload(fig, format);\n",
       "};\n",
       "\n",
       "mpl.figure.prototype.handle_resize = function (fig, msg) {\n",
       "    var size = msg['size'];\n",
       "    if (size[0] !== fig.canvas.width || size[1] !== fig.canvas.height) {\n",
       "        fig._resize_canvas(size[0], size[1], msg['forward']);\n",
       "        fig.send_message('refresh', {});\n",
       "    }\n",
       "};\n",
       "\n",
       "mpl.figure.prototype.handle_rubberband = function (fig, msg) {\n",
       "    var x0 = msg['x0'] / fig.ratio;\n",
       "    var y0 = (fig.canvas.height - msg['y0']) / fig.ratio;\n",
       "    var x1 = msg['x1'] / fig.ratio;\n",
       "    var y1 = (fig.canvas.height - msg['y1']) / fig.ratio;\n",
       "    x0 = Math.floor(x0) + 0.5;\n",
       "    y0 = Math.floor(y0) + 0.5;\n",
       "    x1 = Math.floor(x1) + 0.5;\n",
       "    y1 = Math.floor(y1) + 0.5;\n",
       "    var min_x = Math.min(x0, x1);\n",
       "    var min_y = Math.min(y0, y1);\n",
       "    var width = Math.abs(x1 - x0);\n",
       "    var height = Math.abs(y1 - y0);\n",
       "\n",
       "    fig.rubberband_context.clearRect(\n",
       "        0,\n",
       "        0,\n",
       "        fig.canvas.width / fig.ratio,\n",
       "        fig.canvas.height / fig.ratio\n",
       "    );\n",
       "\n",
       "    fig.rubberband_context.strokeRect(min_x, min_y, width, height);\n",
       "};\n",
       "\n",
       "mpl.figure.prototype.handle_figure_label = function (fig, msg) {\n",
       "    // Updates the figure title.\n",
       "    fig.header.textContent = msg['label'];\n",
       "};\n",
       "\n",
       "mpl.figure.prototype.handle_cursor = function (fig, msg) {\n",
       "    fig.rubberband_canvas.style.cursor = msg['cursor'];\n",
       "};\n",
       "\n",
       "mpl.figure.prototype.handle_message = function (fig, msg) {\n",
       "    fig.message.textContent = msg['message'];\n",
       "};\n",
       "\n",
       "mpl.figure.prototype.handle_draw = function (fig, _msg) {\n",
       "    // Request the server to send over a new figure.\n",
       "    fig.send_draw_message();\n",
       "};\n",
       "\n",
       "mpl.figure.prototype.handle_image_mode = function (fig, msg) {\n",
       "    fig.image_mode = msg['mode'];\n",
       "};\n",
       "\n",
       "mpl.figure.prototype.handle_history_buttons = function (fig, msg) {\n",
       "    for (var key in msg) {\n",
       "        if (!(key in fig.buttons)) {\n",
       "            continue;\n",
       "        }\n",
       "        fig.buttons[key].disabled = !msg[key];\n",
       "        fig.buttons[key].setAttribute('aria-disabled', !msg[key]);\n",
       "    }\n",
       "};\n",
       "\n",
       "mpl.figure.prototype.handle_navigate_mode = function (fig, msg) {\n",
       "    if (msg['mode'] === 'PAN') {\n",
       "        fig.buttons['Pan'].classList.add('active');\n",
       "        fig.buttons['Zoom'].classList.remove('active');\n",
       "    } else if (msg['mode'] === 'ZOOM') {\n",
       "        fig.buttons['Pan'].classList.remove('active');\n",
       "        fig.buttons['Zoom'].classList.add('active');\n",
       "    } else {\n",
       "        fig.buttons['Pan'].classList.remove('active');\n",
       "        fig.buttons['Zoom'].classList.remove('active');\n",
       "    }\n",
       "};\n",
       "\n",
       "mpl.figure.prototype.updated_canvas_event = function () {\n",
       "    // Called whenever the canvas gets updated.\n",
       "    this.send_message('ack', {});\n",
       "};\n",
       "\n",
       "// A function to construct a web socket function for onmessage handling.\n",
       "// Called in the figure constructor.\n",
       "mpl.figure.prototype._make_on_message_function = function (fig) {\n",
       "    return function socket_on_message(evt) {\n",
       "        if (evt.data instanceof Blob) {\n",
       "            var img = evt.data;\n",
       "            if (img.type !== 'image/png') {\n",
       "                /* FIXME: We get \"Resource interpreted as Image but\n",
       "                 * transferred with MIME type text/plain:\" errors on\n",
       "                 * Chrome.  But how to set the MIME type?  It doesn't seem\n",
       "                 * to be part of the websocket stream */\n",
       "                img.type = 'image/png';\n",
       "            }\n",
       "\n",
       "            /* Free the memory for the previous frames */\n",
       "            if (fig.imageObj.src) {\n",
       "                (window.URL || window.webkitURL).revokeObjectURL(\n",
       "                    fig.imageObj.src\n",
       "                );\n",
       "            }\n",
       "\n",
       "            fig.imageObj.src = (window.URL || window.webkitURL).createObjectURL(\n",
       "                img\n",
       "            );\n",
       "            fig.updated_canvas_event();\n",
       "            fig.waiting = false;\n",
       "            return;\n",
       "        } else if (\n",
       "            typeof evt.data === 'string' &&\n",
       "            evt.data.slice(0, 21) === 'data:image/png;base64'\n",
       "        ) {\n",
       "            fig.imageObj.src = evt.data;\n",
       "            fig.updated_canvas_event();\n",
       "            fig.waiting = false;\n",
       "            return;\n",
       "        }\n",
       "\n",
       "        var msg = JSON.parse(evt.data);\n",
       "        var msg_type = msg['type'];\n",
       "\n",
       "        // Call the  \"handle_{type}\" callback, which takes\n",
       "        // the figure and JSON message as its only arguments.\n",
       "        try {\n",
       "            var callback = fig['handle_' + msg_type];\n",
       "        } catch (e) {\n",
       "            console.log(\n",
       "                \"No handler for the '\" + msg_type + \"' message type: \",\n",
       "                msg\n",
       "            );\n",
       "            return;\n",
       "        }\n",
       "\n",
       "        if (callback) {\n",
       "            try {\n",
       "                // console.log(\"Handling '\" + msg_type + \"' message: \", msg);\n",
       "                callback(fig, msg);\n",
       "            } catch (e) {\n",
       "                console.log(\n",
       "                    \"Exception inside the 'handler_\" + msg_type + \"' callback:\",\n",
       "                    e,\n",
       "                    e.stack,\n",
       "                    msg\n",
       "                );\n",
       "            }\n",
       "        }\n",
       "    };\n",
       "};\n",
       "\n",
       "// from https://stackoverflow.com/questions/1114465/getting-mouse-location-in-canvas\n",
       "mpl.findpos = function (e) {\n",
       "    //this section is from http://www.quirksmode.org/js/events_properties.html\n",
       "    var targ;\n",
       "    if (!e) {\n",
       "        e = window.event;\n",
       "    }\n",
       "    if (e.target) {\n",
       "        targ = e.target;\n",
       "    } else if (e.srcElement) {\n",
       "        targ = e.srcElement;\n",
       "    }\n",
       "    if (targ.nodeType === 3) {\n",
       "        // defeat Safari bug\n",
       "        targ = targ.parentNode;\n",
       "    }\n",
       "\n",
       "    // pageX,Y are the mouse positions relative to the document\n",
       "    var boundingRect = targ.getBoundingClientRect();\n",
       "    var x = e.pageX - (boundingRect.left + document.body.scrollLeft);\n",
       "    var y = e.pageY - (boundingRect.top + document.body.scrollTop);\n",
       "\n",
       "    return { x: x, y: y };\n",
       "};\n",
       "\n",
       "/*\n",
       " * return a copy of an object with only non-object keys\n",
       " * we need this to avoid circular references\n",
       " * https://stackoverflow.com/a/24161582/3208463\n",
       " */\n",
       "function simpleKeys(original) {\n",
       "    return Object.keys(original).reduce(function (obj, key) {\n",
       "        if (typeof original[key] !== 'object') {\n",
       "            obj[key] = original[key];\n",
       "        }\n",
       "        return obj;\n",
       "    }, {});\n",
       "}\n",
       "\n",
       "mpl.figure.prototype.mouse_event = function (event, name) {\n",
       "    var canvas_pos = mpl.findpos(event);\n",
       "\n",
       "    if (name === 'button_press') {\n",
       "        this.canvas.focus();\n",
       "        this.canvas_div.focus();\n",
       "    }\n",
       "\n",
       "    var x = canvas_pos.x * this.ratio;\n",
       "    var y = canvas_pos.y * this.ratio;\n",
       "\n",
       "    this.send_message(name, {\n",
       "        x: x,\n",
       "        y: y,\n",
       "        button: event.button,\n",
       "        step: event.step,\n",
       "        guiEvent: simpleKeys(event),\n",
       "    });\n",
       "\n",
       "    /* This prevents the web browser from automatically changing to\n",
       "     * the text insertion cursor when the button is pressed.  We want\n",
       "     * to control all of the cursor setting manually through the\n",
       "     * 'cursor' event from matplotlib */\n",
       "    event.preventDefault();\n",
       "    return false;\n",
       "};\n",
       "\n",
       "mpl.figure.prototype._key_event_extra = function (_event, _name) {\n",
       "    // Handle any extra behaviour associated with a key event\n",
       "};\n",
       "\n",
       "mpl.figure.prototype.key_event = function (event, name) {\n",
       "    // Prevent repeat events\n",
       "    if (name === 'key_press') {\n",
       "        if (event.key === this._key) {\n",
       "            return;\n",
       "        } else {\n",
       "            this._key = event.key;\n",
       "        }\n",
       "    }\n",
       "    if (name === 'key_release') {\n",
       "        this._key = null;\n",
       "    }\n",
       "\n",
       "    var value = '';\n",
       "    if (event.ctrlKey && event.key !== 'Control') {\n",
       "        value += 'ctrl+';\n",
       "    }\n",
       "    else if (event.altKey && event.key !== 'Alt') {\n",
       "        value += 'alt+';\n",
       "    }\n",
       "    else if (event.shiftKey && event.key !== 'Shift') {\n",
       "        value += 'shift+';\n",
       "    }\n",
       "\n",
       "    value += 'k' + event.key;\n",
       "\n",
       "    this._key_event_extra(event, name);\n",
       "\n",
       "    this.send_message(name, { key: value, guiEvent: simpleKeys(event) });\n",
       "    return false;\n",
       "};\n",
       "\n",
       "mpl.figure.prototype.toolbar_button_onclick = function (name) {\n",
       "    if (name === 'download') {\n",
       "        this.handle_save(this, null);\n",
       "    } else {\n",
       "        this.send_message('toolbar_button', { name: name });\n",
       "    }\n",
       "};\n",
       "\n",
       "mpl.figure.prototype.toolbar_button_onmouseover = function (tooltip) {\n",
       "    this.message.textContent = tooltip;\n",
       "};\n",
       "\n",
       "///////////////// REMAINING CONTENT GENERATED BY embed_js.py /////////////////\n",
       "// prettier-ignore\n",
       "var _JSXTOOLS_RESIZE_OBSERVER=function(A){var t,i=new WeakMap,n=new WeakMap,a=new WeakMap,r=new WeakMap,o=new Set;function s(e){if(!(this instanceof s))throw new TypeError(\"Constructor requires 'new' operator\");i.set(this,e)}function h(){throw new TypeError(\"Function is not a constructor\")}function c(e,t,i,n){e=0 in arguments?Number(arguments[0]):0,t=1 in arguments?Number(arguments[1]):0,i=2 in arguments?Number(arguments[2]):0,n=3 in arguments?Number(arguments[3]):0,this.right=(this.x=this.left=e)+(this.width=i),this.bottom=(this.y=this.top=t)+(this.height=n),Object.freeze(this)}function d(){t=requestAnimationFrame(d);var s=new WeakMap,p=new Set;o.forEach((function(t){r.get(t).forEach((function(i){var r=t instanceof window.SVGElement,o=a.get(t),d=r?0:parseFloat(o.paddingTop),f=r?0:parseFloat(o.paddingRight),l=r?0:parseFloat(o.paddingBottom),u=r?0:parseFloat(o.paddingLeft),g=r?0:parseFloat(o.borderTopWidth),m=r?0:parseFloat(o.borderRightWidth),w=r?0:parseFloat(o.borderBottomWidth),b=u+f,F=d+l,v=(r?0:parseFloat(o.borderLeftWidth))+m,W=g+w,y=r?0:t.offsetHeight-W-t.clientHeight,E=r?0:t.offsetWidth-v-t.clientWidth,R=b+v,z=F+W,M=r?t.width:parseFloat(o.width)-R-E,O=r?t.height:parseFloat(o.height)-z-y;if(n.has(t)){var k=n.get(t);if(k[0]===M&&k[1]===O)return}n.set(t,[M,O]);var S=Object.create(h.prototype);S.target=t,S.contentRect=new c(u,d,M,O),s.has(i)||(s.set(i,[]),p.add(i)),s.get(i).push(S)}))})),p.forEach((function(e){i.get(e).call(e,s.get(e),e)}))}return s.prototype.observe=function(i){if(i instanceof window.Element){r.has(i)||(r.set(i,new Set),o.add(i),a.set(i,window.getComputedStyle(i)));var n=r.get(i);n.has(this)||n.add(this),cancelAnimationFrame(t),t=requestAnimationFrame(d)}},s.prototype.unobserve=function(i){if(i instanceof window.Element&&r.has(i)){var n=r.get(i);n.has(this)&&(n.delete(this),n.size||(r.delete(i),o.delete(i))),n.size||r.delete(i),o.size||cancelAnimationFrame(t)}},A.DOMRectReadOnly=c,A.ResizeObserver=s,A.ResizeObserverEntry=h,A}; // eslint-disable-line\n",
       "mpl.toolbar_items = [[\"Home\", \"Reset original view\", \"fa fa-home icon-home\", \"home\"], [\"Back\", \"Back to previous view\", \"fa fa-arrow-left icon-arrow-left\", \"back\"], [\"Forward\", \"Forward to next view\", \"fa fa-arrow-right icon-arrow-right\", \"forward\"], [\"\", \"\", \"\", \"\"], [\"Pan\", \"Left button pans, Right button zooms\\nx/y fixes axis, CTRL fixes aspect\", \"fa fa-arrows icon-move\", \"pan\"], [\"Zoom\", \"Zoom to rectangle\\nx/y fixes axis\", \"fa fa-square-o icon-check-empty\", \"zoom\"], [\"\", \"\", \"\", \"\"], [\"Download\", \"Download plot\", \"fa fa-floppy-o icon-save\", \"download\"]];\n",
       "\n",
       "mpl.extensions = [\"eps\", \"jpeg\", \"pgf\", \"pdf\", \"png\", \"ps\", \"raw\", \"svg\", \"tif\"];\n",
       "\n",
       "mpl.default_extension = \"png\";/* global mpl */\n",
       "\n",
       "var comm_websocket_adapter = function (comm) {\n",
       "    // Create a \"websocket\"-like object which calls the given IPython comm\n",
       "    // object with the appropriate methods. Currently this is a non binary\n",
       "    // socket, so there is still some room for performance tuning.\n",
       "    var ws = {};\n",
       "\n",
       "    ws.binaryType = comm.kernel.ws.binaryType;\n",
       "    ws.readyState = comm.kernel.ws.readyState;\n",
       "    function updateReadyState(_event) {\n",
       "        if (comm.kernel.ws) {\n",
       "            ws.readyState = comm.kernel.ws.readyState;\n",
       "        } else {\n",
       "            ws.readyState = 3; // Closed state.\n",
       "        }\n",
       "    }\n",
       "    comm.kernel.ws.addEventListener('open', updateReadyState);\n",
       "    comm.kernel.ws.addEventListener('close', updateReadyState);\n",
       "    comm.kernel.ws.addEventListener('error', updateReadyState);\n",
       "\n",
       "    ws.close = function () {\n",
       "        comm.close();\n",
       "    };\n",
       "    ws.send = function (m) {\n",
       "        //console.log('sending', m);\n",
       "        comm.send(m);\n",
       "    };\n",
       "    // Register the callback with on_msg.\n",
       "    comm.on_msg(function (msg) {\n",
       "        //console.log('receiving', msg['content']['data'], msg);\n",
       "        var data = msg['content']['data'];\n",
       "        if (data['blob'] !== undefined) {\n",
       "            data = {\n",
       "                data: new Blob(msg['buffers'], { type: data['blob'] }),\n",
       "            };\n",
       "        }\n",
       "        // Pass the mpl event to the overridden (by mpl) onmessage function.\n",
       "        ws.onmessage(data);\n",
       "    });\n",
       "    return ws;\n",
       "};\n",
       "\n",
       "mpl.mpl_figure_comm = function (comm, msg) {\n",
       "    // This is the function which gets called when the mpl process\n",
       "    // starts-up an IPython Comm through the \"matplotlib\" channel.\n",
       "\n",
       "    var id = msg.content.data.id;\n",
       "    // Get hold of the div created by the display call when the Comm\n",
       "    // socket was opened in Python.\n",
       "    var element = document.getElementById(id);\n",
       "    var ws_proxy = comm_websocket_adapter(comm);\n",
       "\n",
       "    function ondownload(figure, _format) {\n",
       "        window.open(figure.canvas.toDataURL());\n",
       "    }\n",
       "\n",
       "    var fig = new mpl.figure(id, ws_proxy, ondownload, element);\n",
       "\n",
       "    // Call onopen now - mpl needs it, as it is assuming we've passed it a real\n",
       "    // web socket which is closed, not our websocket->open comm proxy.\n",
       "    ws_proxy.onopen();\n",
       "\n",
       "    fig.parent_element = element;\n",
       "    fig.cell_info = mpl.find_output_cell(\"<div id='\" + id + \"'></div>\");\n",
       "    if (!fig.cell_info) {\n",
       "        console.error('Failed to find cell for figure', id, fig);\n",
       "        return;\n",
       "    }\n",
       "    fig.cell_info[0].output_area.element.on(\n",
       "        'cleared',\n",
       "        { fig: fig },\n",
       "        fig._remove_fig_handler\n",
       "    );\n",
       "};\n",
       "\n",
       "mpl.figure.prototype.handle_close = function (fig, msg) {\n",
       "    var width = fig.canvas.width / fig.ratio;\n",
       "    fig.cell_info[0].output_area.element.off(\n",
       "        'cleared',\n",
       "        fig._remove_fig_handler\n",
       "    );\n",
       "    fig.resizeObserverInstance.unobserve(fig.canvas_div);\n",
       "\n",
       "    // Update the output cell to use the data from the current canvas.\n",
       "    fig.push_to_output();\n",
       "    var dataURL = fig.canvas.toDataURL();\n",
       "    // Re-enable the keyboard manager in IPython - without this line, in FF,\n",
       "    // the notebook keyboard shortcuts fail.\n",
       "    IPython.keyboard_manager.enable();\n",
       "    fig.parent_element.innerHTML =\n",
       "        '<img src=\"' + dataURL + '\" width=\"' + width + '\">';\n",
       "    fig.close_ws(fig, msg);\n",
       "};\n",
       "\n",
       "mpl.figure.prototype.close_ws = function (fig, msg) {\n",
       "    fig.send_message('closing', msg);\n",
       "    // fig.ws.close()\n",
       "};\n",
       "\n",
       "mpl.figure.prototype.push_to_output = function (_remove_interactive) {\n",
       "    // Turn the data on the canvas into data in the output cell.\n",
       "    var width = this.canvas.width / this.ratio;\n",
       "    var dataURL = this.canvas.toDataURL();\n",
       "    this.cell_info[1]['text/html'] =\n",
       "        '<img src=\"' + dataURL + '\" width=\"' + width + '\">';\n",
       "};\n",
       "\n",
       "mpl.figure.prototype.updated_canvas_event = function () {\n",
       "    // Tell IPython that the notebook contents must change.\n",
       "    IPython.notebook.set_dirty(true);\n",
       "    this.send_message('ack', {});\n",
       "    var fig = this;\n",
       "    // Wait a second, then push the new image to the DOM so\n",
       "    // that it is saved nicely (might be nice to debounce this).\n",
       "    setTimeout(function () {\n",
       "        fig.push_to_output();\n",
       "    }, 1000);\n",
       "};\n",
       "\n",
       "mpl.figure.prototype._init_toolbar = function () {\n",
       "    var fig = this;\n",
       "\n",
       "    var toolbar = document.createElement('div');\n",
       "    toolbar.classList = 'btn-toolbar';\n",
       "    this.root.appendChild(toolbar);\n",
       "\n",
       "    function on_click_closure(name) {\n",
       "        return function (_event) {\n",
       "            return fig.toolbar_button_onclick(name);\n",
       "        };\n",
       "    }\n",
       "\n",
       "    function on_mouseover_closure(tooltip) {\n",
       "        return function (event) {\n",
       "            if (!event.currentTarget.disabled) {\n",
       "                return fig.toolbar_button_onmouseover(tooltip);\n",
       "            }\n",
       "        };\n",
       "    }\n",
       "\n",
       "    fig.buttons = {};\n",
       "    var buttonGroup = document.createElement('div');\n",
       "    buttonGroup.classList = 'btn-group';\n",
       "    var button;\n",
       "    for (var toolbar_ind in mpl.toolbar_items) {\n",
       "        var name = mpl.toolbar_items[toolbar_ind][0];\n",
       "        var tooltip = mpl.toolbar_items[toolbar_ind][1];\n",
       "        var image = mpl.toolbar_items[toolbar_ind][2];\n",
       "        var method_name = mpl.toolbar_items[toolbar_ind][3];\n",
       "\n",
       "        if (!name) {\n",
       "            /* Instead of a spacer, we start a new button group. */\n",
       "            if (buttonGroup.hasChildNodes()) {\n",
       "                toolbar.appendChild(buttonGroup);\n",
       "            }\n",
       "            buttonGroup = document.createElement('div');\n",
       "            buttonGroup.classList = 'btn-group';\n",
       "            continue;\n",
       "        }\n",
       "\n",
       "        button = fig.buttons[name] = document.createElement('button');\n",
       "        button.classList = 'btn btn-default';\n",
       "        button.href = '#';\n",
       "        button.title = name;\n",
       "        button.innerHTML = '<i class=\"fa ' + image + ' fa-lg\"></i>';\n",
       "        button.addEventListener('click', on_click_closure(method_name));\n",
       "        button.addEventListener('mouseover', on_mouseover_closure(tooltip));\n",
       "        buttonGroup.appendChild(button);\n",
       "    }\n",
       "\n",
       "    if (buttonGroup.hasChildNodes()) {\n",
       "        toolbar.appendChild(buttonGroup);\n",
       "    }\n",
       "\n",
       "    // Add the status bar.\n",
       "    var status_bar = document.createElement('span');\n",
       "    status_bar.classList = 'mpl-message pull-right';\n",
       "    toolbar.appendChild(status_bar);\n",
       "    this.message = status_bar;\n",
       "\n",
       "    // Add the close button to the window.\n",
       "    var buttongrp = document.createElement('div');\n",
       "    buttongrp.classList = 'btn-group inline pull-right';\n",
       "    button = document.createElement('button');\n",
       "    button.classList = 'btn btn-mini btn-primary';\n",
       "    button.href = '#';\n",
       "    button.title = 'Stop Interaction';\n",
       "    button.innerHTML = '<i class=\"fa fa-power-off icon-remove icon-large\"></i>';\n",
       "    button.addEventListener('click', function (_evt) {\n",
       "        fig.handle_close(fig, {});\n",
       "    });\n",
       "    button.addEventListener(\n",
       "        'mouseover',\n",
       "        on_mouseover_closure('Stop Interaction')\n",
       "    );\n",
       "    buttongrp.appendChild(button);\n",
       "    var titlebar = this.root.querySelector('.ui-dialog-titlebar');\n",
       "    titlebar.insertBefore(buttongrp, titlebar.firstChild);\n",
       "};\n",
       "\n",
       "mpl.figure.prototype._remove_fig_handler = function (event) {\n",
       "    var fig = event.data.fig;\n",
       "    if (event.target !== this) {\n",
       "        // Ignore bubbled events from children.\n",
       "        return;\n",
       "    }\n",
       "    fig.close_ws(fig, {});\n",
       "};\n",
       "\n",
       "mpl.figure.prototype._root_extra_style = function (el) {\n",
       "    el.style.boxSizing = 'content-box'; // override notebook setting of border-box.\n",
       "};\n",
       "\n",
       "mpl.figure.prototype._canvas_extra_style = function (el) {\n",
       "    // this is important to make the div 'focusable\n",
       "    el.setAttribute('tabindex', 0);\n",
       "    // reach out to IPython and tell the keyboard manager to turn it's self\n",
       "    // off when our div gets focus\n",
       "\n",
       "    // location in version 3\n",
       "    if (IPython.notebook.keyboard_manager) {\n",
       "        IPython.notebook.keyboard_manager.register_events(el);\n",
       "    } else {\n",
       "        // location in version 2\n",
       "        IPython.keyboard_manager.register_events(el);\n",
       "    }\n",
       "};\n",
       "\n",
       "mpl.figure.prototype._key_event_extra = function (event, _name) {\n",
       "    // Check for shift+enter\n",
       "    if (event.shiftKey && event.which === 13) {\n",
       "        this.canvas_div.blur();\n",
       "        // select the cell after this one\n",
       "        var index = IPython.notebook.find_cell_index(this.cell_info[0]);\n",
       "        IPython.notebook.select(index + 1);\n",
       "    }\n",
       "};\n",
       "\n",
       "mpl.figure.prototype.handle_save = function (fig, _msg) {\n",
       "    fig.ondownload(fig, null);\n",
       "};\n",
       "\n",
       "mpl.find_output_cell = function (html_output) {\n",
       "    // Return the cell and output element which can be found *uniquely* in the notebook.\n",
       "    // Note - this is a bit hacky, but it is done because the \"notebook_saving.Notebook\"\n",
       "    // IPython event is triggered only after the cells have been serialised, which for\n",
       "    // our purposes (turning an active figure into a static one), is too late.\n",
       "    var cells = IPython.notebook.get_cells();\n",
       "    var ncells = cells.length;\n",
       "    for (var i = 0; i < ncells; i++) {\n",
       "        var cell = cells[i];\n",
       "        if (cell.cell_type === 'code') {\n",
       "            for (var j = 0; j < cell.output_area.outputs.length; j++) {\n",
       "                var data = cell.output_area.outputs[j];\n",
       "                if (data.data) {\n",
       "                    // IPython >= 3 moved mimebundle to data attribute of output\n",
       "                    data = data.data;\n",
       "                }\n",
       "                if (data['text/html'] === html_output) {\n",
       "                    return [cell, data, j];\n",
       "                }\n",
       "            }\n",
       "        }\n",
       "    }\n",
       "};\n",
       "\n",
       "// Register the function which deals with the matplotlib target/channel.\n",
       "// The kernel may be null if the page has been refreshed.\n",
       "if (IPython.notebook.kernel !== null) {\n",
       "    IPython.notebook.kernel.comm_manager.register_target(\n",
       "        'matplotlib',\n",
       "        mpl.mpl_figure_comm\n",
       "    );\n",
       "}\n"
      ],
      "text/plain": [
       "<IPython.core.display.Javascript object>"
      ]
     },
     "metadata": {},
     "output_type": "display_data"
    },
    {
     "data": {
      "text/html": [
       "<img src=\"data:image/png;base64,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\" width=\"640\">"
      ],
      "text/plain": [
       "<IPython.core.display.HTML object>"
      ]
     },
     "metadata": {},
     "output_type": "display_data"
    }
   ],
   "source": [
    "lats, lon = generate(N = 10_000)"
   ]
  },
  {
   "cell_type": "code",
   "execution_count": 34,
   "id": "e655c7d0",
   "metadata": {
    "slideshow": {
     "slide_type": "-"
    }
   },
   "outputs": [
    {
     "name": "stdout",
     "output_type": "stream",
     "text": [
      "CPU times: total: 8.36 s\n",
      "Wall time: 8.53 s\n"
     ]
    }
   ],
   "source": [
    "%time S2 = separation_matrix_numpy()"
   ]
  },
  {
   "cell_type": "markdown",
   "id": "a46fbaab",
   "metadata": {
    "slideshow": {
     "slide_type": "fragment"
    }
   },
   "source": [
    "Portanto, o uso de loops Numpy implícitos acelera o cálculo por um fator de cerca de $6,8/0,02=340$. Como estamos usando as matrizes Numpy eficientes em ambos os casos, a aceleração é inteiramente devida aos loops!"
   ]
  },
  {
   "cell_type": "markdown",
   "id": "3f8e6ae2",
   "metadata": {
    "slideshow": {
     "slide_type": "subslide"
    }
   },
   "source": [
    "### 3.2 Outros *frameworks*: `PyTorch` e `TensorFlow`"
   ]
  },
  {
   "cell_type": "markdown",
   "id": "3a2d47ae",
   "metadata": {
    "slideshow": {
     "slide_type": "-"
    }
   },
   "source": [
    "O aprendizado de máquina depende muito de estruturas que copiam o design `Numpy` bem-sucedido para computação de tensor, enquanto adicionam alguns novos recursos importantes:"
   ]
  },
  {
   "cell_type": "markdown",
   "id": "825556b0",
   "metadata": {
    "slideshow": {
     "slide_type": "-"
    }
   },
   "source": [
    "- Aceleração automática de hardware.\n",
    "- Cálculo automático de derivadas.\n",
    "- Implementação eficiente para outras plataformas (móvel, nuvem)."
   ]
  },
  {
   "cell_type": "markdown",
   "id": "1eee8a85",
   "metadata": {
    "slideshow": {
     "slide_type": "-"
    }
   },
   "source": [
    "Ao contrário do numpy, o tipo padrão nessas estruturas geralmente é um float de 32 bits, em vez de um float de 64 bits."
   ]
  },
  {
   "cell_type": "markdown",
   "id": "9fe51853",
   "metadata": {
    "slideshow": {
     "slide_type": "subslide"
    }
   },
   "source": [
    "As duas estruturas de computação tensor mais populares para aprendizado de máquina hoje são [`PyTorch`](https://pytorch.org) e [`TensorFlow`](https://www.tensorflow.org). Ambos são grandes projetos de código aberto, desenvolvidos principalmente pelo Facebook (`pytorch`) e Google (`tensorflow`). Esses frameworks eram originalmente bem diferentes, com `pytorch` preferido para pesquisa e `tensorflow` preferido para implantação em larga escala, mas eles estão gradualmente convergindo para um conjunto de recursos semelhante."
   ]
  },
  {
   "cell_type": "markdown",
   "id": "175c3765",
   "metadata": {
    "slideshow": {
     "slide_type": "-"
    }
   },
   "source": [
    "A seguir, repetimos nosso cálculo da matriz de separação com ambas as estruturas. Você notará que os novos recursos vêm com alguma complexidade adicional."
   ]
  },
  {
   "cell_type": "markdown",
   "id": "f3be17c7",
   "metadata": {
    "slideshow": {
     "slide_type": "subslide"
    }
   },
   "source": [
    "#### 3.2.1 Exemplo usando o `PyTorch`"
   ]
  },
  {
   "cell_type": "code",
   "execution_count": 35,
   "id": "487f676b",
   "metadata": {
    "slideshow": {
     "slide_type": "-"
    }
   },
   "outputs": [],
   "source": [
    "import torch"
   ]
  },
  {
   "cell_type": "code",
   "execution_count": 36,
   "id": "cf338871",
   "metadata": {
    "slideshow": {
     "slide_type": "-"
    }
   },
   "outputs": [],
   "source": [
    "device = torch.device(\"cuda\") if torch.cuda.is_available() else \"cpu\"\n",
    "lon_torch = torch.tensor(lon, device = device)\n",
    "lats_torch = torch.tensor(lats, device = device)"
   ]
  },
  {
   "cell_type": "code",
   "execution_count": 37,
   "id": "9d493151",
   "metadata": {
    "slideshow": {
     "slide_type": "-"
    }
   },
   "outputs": [],
   "source": [
    "def separation_matrix_torch():\n",
    "    lat1, lat2 = lats_torch, lats_torch.reshape(-1, 1)\n",
    "    lon1, lon2 = lon_torch, lon_torch.reshape(-1, 1)\n",
    "    \n",
    "    return 2 * torch.asin(torch.sqrt(\n",
    "        torch.sin(0.5 * (lat2 - lat1)) ** 2 +\n",
    "        torch.cos(lat1) * torch.cos(lat2) * torch.sin(0.5 * (lon2 - lon1)) ** 2))"
   ]
  },
  {
   "cell_type": "code",
   "execution_count": 38,
   "id": "ea42086c",
   "metadata": {
    "slideshow": {
     "slide_type": "subslide"
    }
   },
   "outputs": [
    {
     "name": "stdout",
     "output_type": "stream",
     "text": [
      "CPU times: total: 17.7 s\n",
      "Wall time: 4.92 s\n"
     ]
    }
   ],
   "source": [
    "%time S3 = separation_matrix_torch()"
   ]
  },
  {
   "cell_type": "code",
   "execution_count": 39,
   "id": "9458ec03",
   "metadata": {
    "slideshow": {
     "slide_type": "-"
    }
   },
   "outputs": [
    {
     "data": {
      "text/plain": [
       "True"
      ]
     },
     "execution_count": 39,
     "metadata": {},
     "output_type": "execute_result"
    }
   ],
   "source": [
    "np.allclose(S2, S3.numpy())"
   ]
  },
  {
   "cell_type": "markdown",
   "id": "ccec5a95",
   "metadata": {
    "slideshow": {
     "slide_type": "subslide"
    }
   },
   "source": [
    "#### 3.2.2 Exemplo usando o `TensorFlow`"
   ]
  },
  {
   "cell_type": "code",
   "execution_count": 40,
   "id": "e0da5b01",
   "metadata": {
    "slideshow": {
     "slide_type": "-"
    }
   },
   "outputs": [],
   "source": [
    "import tensorflow as tf"
   ]
  },
  {
   "cell_type": "code",
   "execution_count": 41,
   "id": "face6094",
   "metadata": {
    "slideshow": {
     "slide_type": "-"
    }
   },
   "outputs": [],
   "source": [
    "device = torch.device(\"GPU:0\") if tf.config.list_physical_devices('GPU') else \"CPU:0\"\n",
    "with tf.device(device):\n",
    "    lon_tf = tf.constant(lon)\n",
    "    lats_tf = tf.constant(lats)"
   ]
  },
  {
   "cell_type": "code",
   "execution_count": 42,
   "id": "cb51c432",
   "metadata": {
    "slideshow": {
     "slide_type": "-"
    }
   },
   "outputs": [],
   "source": [
    "def separation_matrix_tensorflow():\n",
    "    lat1, lat2 = lats_tf, tf.reshape(lats_tf, [-1, 1])\n",
    "    lon1, lon2 = lon_tf, tf.reshape(lon_tf, [-1, 1])\n",
    "    \n",
    "    return 2 * tf.asin(tf.sqrt(\n",
    "        tf.sin(0.5 * (lat2 - lat1)) ** 2 +\n",
    "        tf.cos(lat1) * tf.cos(lat2) * tf.sin(0.5 * (lon2 - lon1)) ** 2))"
   ]
  },
  {
   "cell_type": "code",
   "execution_count": 43,
   "id": "603d4d92",
   "metadata": {
    "slideshow": {
     "slide_type": "subslide"
    }
   },
   "outputs": [
    {
     "name": "stdout",
     "output_type": "stream",
     "text": [
      "CPU times: total: 35.1 s\n",
      "Wall time: 6.55 s\n"
     ]
    }
   ],
   "source": [
    "%time S4 = separation_matrix_tensorflow()"
   ]
  },
  {
   "cell_type": "code",
   "execution_count": 44,
   "id": "c40c3b5c",
   "metadata": {
    "slideshow": {
     "slide_type": "-"
    }
   },
   "outputs": [
    {
     "data": {
      "text/plain": [
       "True"
      ]
     },
     "execution_count": 44,
     "metadata": {},
     "output_type": "execute_result"
    }
   ],
   "source": [
    "np.allclose(S2, S4.numpy())"
   ]
  },
  {
   "cell_type": "markdown",
   "id": "63382c76",
   "metadata": {
    "slideshow": {
     "slide_type": "slide"
    }
   },
   "source": [
    "## 4. Aceleração do hardware"
   ]
  },
  {
   "cell_type": "markdown",
   "id": "f8ee9fdd",
   "metadata": {
    "slideshow": {
     "slide_type": "-"
    }
   },
   "source": [
    "A computação de tensores pode ser acelerada significativamente (10-100x) usando hardware que é otimizado para realizar a computação do tensores distribuindo cálculos simples (\"*kernels*\") entre muitos processadores independentes (\"núcleos/*cores*\") executados em paralelo."
   ]
  },
  {
   "cell_type": "markdown",
   "id": "2d2957f2",
   "metadata": {
    "slideshow": {
     "slide_type": "-"
    }
   },
   "source": [
    "O driver original para esse hardware era acelerar os cálculos de geometria 3D necessários para renderizar gráficos 3D em tempo real, levando às primeiras [Unidades de Processamento Gráfico (*Graphics Processing Units* ou GPUs)](https://en.wikipedia.org/wiki/Graphics_processing_unit) na década de 1990. Mais recentemente, as GPUs foram adotadas para cálculos puramente numéricos, sem tela anexada, levando ao desenvolvimento de linguagens de programação especializadas, como [CUDA](https://en.wikipedia.org/wiki/CUDA) e [OpenCL](https://en.wikipedia.org/wiki/OpenCL)."
   ]
  },
  {
   "cell_type": "markdown",
   "id": "49209982",
   "metadata": {
    "slideshow": {
     "slide_type": "subslide"
    }
   },
   "source": [
    "Atualmente, um fornecedor (Nvidia) domina o uso de GPUs para ML com sua linguagem CUDA proprietária. O Google também introduziu uma arquitetura [TPU](https://en.wikipedia.org/wiki/Tensor_Processing_Unit) ainda mais especializada."
   ]
  },
  {
   "cell_type": "markdown",
   "id": "9acc391e",
   "metadata": {
    "slideshow": {
     "slide_type": "-"
    }
   },
   "source": [
    "A tabela abaixo mostra alguns *benchmarks para* o problema da matriz de separação, rodando em diferentes hardwares com diferentes *frameworks*. As acelerações obtidas usando PyTorch e TensorFlow com uma GPU são típicas. As duas estruturas fornecem desempenho geral de GPU comparável, mas podem diferir em problemas específicos."
   ]
  },
  {
   "cell_type": "markdown",
   "id": "3f6830e6",
   "metadata": {
    "slideshow": {
     "slide_type": "-"
    }
   },
   "source": [
    "| Test | Laptop | Server(GPU) | Collab(CPU) | Collab(GPU) |\n",
    "| --- | --- | --- | --- | --- |\n",
    "| Numpy | 2.08s | 1.17s | 10.5s | 10.3s |\n",
    "| Torch | 7.32s\t| 48.7ms | --- |\t--- |\n",
    "| Tensorflow | --- | --- | 9.11s | 246ms |\n",
    "| Ratio | 3.5 |\t1/24 |\t0.87 | 1/41 |"
   ]
  },
  {
   "cell_type": "markdown",
   "id": "205f6ea0",
   "metadata": {
    "slideshow": {
     "slide_type": "-"
    }
   },
   "source": [
    "Para se beneficiar desse hardware, você pode adicionar uma GPU a um servidor Linux ou usar uma plataforma de computação em nuvem."
   ]
  },
  {
   "cell_type": "markdown",
   "id": "d5356265",
   "metadata": {
    "slideshow": {
     "slide_type": "subslide"
    }
   },
   "source": [
    "A computação em nuvem é a maneira mais fácil de começar. Existem algumas opções gratuitas, mas geralmente você precisa \"pagar conforme o uso\" para fazer uma quantidade útil de trabalho. Alguns bons pontos de partida são:"
   ]
  },
  {
   "cell_type": "markdown",
   "id": "88761df7",
   "metadata": {
    "slideshow": {
     "slide_type": "-"
    }
   },
   "source": [
    "- [Google Collaboratory](https://colab.research.google.com): ferramenta de pesquisa gratuita com front-end de notebook jupyter.\n",
    "- [PaperSpace](https://www.paperspace.com): preço razoável e simples de começar.\n",
    "- [Amazon Web Services](https://aws.amazon.com/pt/ec2/): grátis para experimentar, muito flexível e relativamente complexo.\n",
    "- [Google Cloud](https://cloud.google.com): comparável à AWS."
   ]
  },
  {
   "cell_type": "markdown",
   "id": "1409802f",
   "metadata": {
    "slideshow": {
     "slide_type": "fragment"
    }
   },
   "source": [
    "**Observação: esta não é uma lista completa e os preços e os recursos estão mudando rapidamente.**"
   ]
  },
  {
   "cell_type": "markdown",
   "id": "5d93b5f1",
   "metadata": {
    "slideshow": {
     "slide_type": "subslide"
    }
   },
   "source": [
    "Se você está pensando em construir seu próprio servidor GPU, comece aqui. Um único servidor pode hospedar 4 GPUs. Aqui está uma única [GPU RTX 2080 Ti](https://www.nvidia.com/en-us/geforce/20-series/) refrigerada a água instalada no escritório de um conhecido meu:"
   ]
  },
  {
   "cell_type": "markdown",
   "id": "6e7bca26",
   "metadata": {
    "slideshow": {
     "slide_type": "-"
    }
   },
   "source": [
    "![GPU Server](img/GPU-server.jpg)"
   ]
  },
  {
   "cell_type": "markdown",
   "id": "565f1328",
   "metadata": {
    "slideshow": {
     "slide_type": "slide"
    }
   },
   "source": [
    "## 5. Derivadas Automáticas"
   ]
  },
  {
   "cell_type": "markdown",
   "id": "78731bef",
   "metadata": {
    "slideshow": {
     "slide_type": "-"
    }
   },
   "source": [
    "Além da aceleração de hardware, um recurso importante das estruturas de computação tensorial para ML é sua capacidade de automatizar o cálculo de derivadas, que permitem algoritmos de otimização baseados em gradiente eficientes e precisos."
   ]
  },
  {
   "cell_type": "markdown",
   "id": "aff7de66",
   "metadata": {
    "slideshow": {
     "slide_type": "-"
    }
   },
   "source": [
    "Em geral, uma derivada pode ser implementada em software de três maneiras:"
   ]
  },
  {
   "cell_type": "markdown",
   "id": "c7960ac3",
   "metadata": {
    "slideshow": {
     "slide_type": "-"
    }
   },
   "source": [
    "- Analiticamente (usando papel ou matemática) e depois copiado em código: este é o mais eficiente e preciso, mas menos generalizável.\n",
    "\n",
    "- Numericamente: com equações de [diferenças finitas](https://en.wikipedia.org/wiki/Finite_difference): esta é a menos eficiente e precisa, mas a mais generalizável.\n",
    "\n",
    "- [Automaticamente](https://en.wikipedia.org/wiki/Automatic_differentiation): uma abordagem híbrida onde um pequeno conjunto de funções primitivas (sin, cos, log, ...). Isso é eficiente e preciso, mas requer que as expressões sejam construídas inteiramente a partir de primitivas que dão suporte ao AD."
   ]
  },
  {
   "cell_type": "markdown",
   "id": "74edf368",
   "metadata": {
    "slideshow": {
     "slide_type": "subslide"
    }
   },
   "source": [
    "Como exemplo concreto, calcule a distribuição gaussiana (não normalizada):"
   ]
  },
  {
   "cell_type": "markdown",
   "id": "5cf3a070",
   "metadata": {
    "slideshow": {
     "slide_type": "-"
    }
   },
   "source": [
    "$$y(x)=e^{-x^{2}}$$"
   ]
  },
  {
   "cell_type": "markdown",
   "id": "0635123e",
   "metadata": {
    "slideshow": {
     "slide_type": "subslide"
    }
   },
   "source": [
    "Usando o `PyTorch`:"
   ]
  },
  {
   "cell_type": "code",
   "execution_count": 45,
   "id": "9de70cb2",
   "metadata": {
    "slideshow": {
     "slide_type": "-"
    }
   },
   "outputs": [
    {
     "data": {
      "text/plain": [
       "tensor([1.3888e-11, 2.0328e-09, 1.7098e-07, 8.2640e-06, 2.2952e-04, 3.6632e-03,\n",
       "        3.3596e-02, 1.7705e-01, 5.3619e-01, 9.3309e-01, 9.3309e-01, 5.3619e-01,\n",
       "        1.7705e-01, 3.3596e-02, 3.6632e-03, 2.2952e-04, 8.2640e-06, 1.7098e-07,\n",
       "        2.0328e-09, 1.3888e-11], grad_fn=<ExpBackward0>)"
      ]
     },
     "execution_count": 45,
     "metadata": {},
     "output_type": "execute_result"
    }
   ],
   "source": [
    "x = torch.linspace(-5, 5, 20, requires_grad = True)\n",
    "y = torch.exp(-x**2)\n",
    "y"
   ]
  },
  {
   "cell_type": "markdown",
   "id": "22d89297",
   "metadata": {
    "slideshow": {
     "slide_type": "subslide"
    }
   },
   "source": [
    "Especificamos `require_grad = True` para habilitar AD para todos os tensores que dependem de `x` (portanto, apenas `y` neste caso). Para calcular derivadas parciais (\"gradientes\") de `y` e `x`, basta usar:"
   ]
  },
  {
   "cell_type": "code",
   "execution_count": 46,
   "id": "dab8b7fe",
   "metadata": {
    "slideshow": {
     "slide_type": "-"
    }
   },
   "outputs": [],
   "source": [
    "y.backward(torch.ones_like(y))"
   ]
  },
  {
   "cell_type": "markdown",
   "id": "2f3f2abe",
   "metadata": {
    "slideshow": {
     "slide_type": "subslide"
    }
   },
   "source": [
    "O tensor `x.grad` agora contém $y'(x)$ em cada valor de `x`:"
   ]
  },
  {
   "cell_type": "code",
   "execution_count": 47,
   "id": "9b0673d9",
   "metadata": {
    "slideshow": {
     "slide_type": "-"
    }
   },
   "outputs": [
    {
     "data": {
      "text/plain": [
       "tensor([ 1.3888e-10,  1.8188e-08,  1.3498e-06,  5.6543e-05,  1.3288e-03,\n",
       "         1.7352e-02,  1.2377e-01,  4.6593e-01,  8.4661e-01,  4.9110e-01,\n",
       "        -4.9110e-01, -8.4661e-01, -4.6593e-01, -1.2377e-01, -1.7352e-02,\n",
       "        -1.3288e-03, -5.6543e-05, -1.3498e-06, -1.8188e-08, -1.3888e-10])"
      ]
     },
     "execution_count": 47,
     "metadata": {},
     "output_type": "execute_result"
    }
   ],
   "source": [
    "x.grad"
   ]
  },
  {
   "cell_type": "code",
   "execution_count": 48,
   "id": "1bcb15e4",
   "metadata": {
    "slideshow": {
     "slide_type": "subslide"
    }
   },
   "outputs": [
    {
     "data": {
      "application/javascript": [
       "/* Put everything inside the global mpl namespace */\n",
       "/* global mpl */\n",
       "window.mpl = {};\n",
       "\n",
       "mpl.get_websocket_type = function () {\n",
       "    if (typeof WebSocket !== 'undefined') {\n",
       "        return WebSocket;\n",
       "    } else if (typeof MozWebSocket !== 'undefined') {\n",
       "        return MozWebSocket;\n",
       "    } else {\n",
       "        alert(\n",
       "            'Your browser does not have WebSocket support. ' +\n",
       "                'Please try Chrome, Safari or Firefox ≥ 6. ' +\n",
       "                'Firefox 4 and 5 are also supported but you ' +\n",
       "                'have to enable WebSockets in about:config.'\n",
       "        );\n",
       "    }\n",
       "};\n",
       "\n",
       "mpl.figure = function (figure_id, websocket, ondownload, parent_element) {\n",
       "    this.id = figure_id;\n",
       "\n",
       "    this.ws = websocket;\n",
       "\n",
       "    this.supports_binary = this.ws.binaryType !== undefined;\n",
       "\n",
       "    if (!this.supports_binary) {\n",
       "        var warnings = document.getElementById('mpl-warnings');\n",
       "        if (warnings) {\n",
       "            warnings.style.display = 'block';\n",
       "            warnings.textContent =\n",
       "                'This browser does not support binary websocket messages. ' +\n",
       "                'Performance may be slow.';\n",
       "        }\n",
       "    }\n",
       "\n",
       "    this.imageObj = new Image();\n",
       "\n",
       "    this.context = undefined;\n",
       "    this.message = undefined;\n",
       "    this.canvas = undefined;\n",
       "    this.rubberband_canvas = undefined;\n",
       "    this.rubberband_context = undefined;\n",
       "    this.format_dropdown = undefined;\n",
       "\n",
       "    this.image_mode = 'full';\n",
       "\n",
       "    this.root = document.createElement('div');\n",
       "    this.root.setAttribute('style', 'display: inline-block');\n",
       "    this._root_extra_style(this.root);\n",
       "\n",
       "    parent_element.appendChild(this.root);\n",
       "\n",
       "    this._init_header(this);\n",
       "    this._init_canvas(this);\n",
       "    this._init_toolbar(this);\n",
       "\n",
       "    var fig = this;\n",
       "\n",
       "    this.waiting = false;\n",
       "\n",
       "    this.ws.onopen = function () {\n",
       "        fig.send_message('supports_binary', { value: fig.supports_binary });\n",
       "        fig.send_message('send_image_mode', {});\n",
       "        if (fig.ratio !== 1) {\n",
       "            fig.send_message('set_device_pixel_ratio', {\n",
       "                device_pixel_ratio: fig.ratio,\n",
       "            });\n",
       "        }\n",
       "        fig.send_message('refresh', {});\n",
       "    };\n",
       "\n",
       "    this.imageObj.onload = function () {\n",
       "        if (fig.image_mode === 'full') {\n",
       "            // Full images could contain transparency (where diff images\n",
       "            // almost always do), so we need to clear the canvas so that\n",
       "            // there is no ghosting.\n",
       "            fig.context.clearRect(0, 0, fig.canvas.width, fig.canvas.height);\n",
       "        }\n",
       "        fig.context.drawImage(fig.imageObj, 0, 0);\n",
       "    };\n",
       "\n",
       "    this.imageObj.onunload = function () {\n",
       "        fig.ws.close();\n",
       "    };\n",
       "\n",
       "    this.ws.onmessage = this._make_on_message_function(this);\n",
       "\n",
       "    this.ondownload = ondownload;\n",
       "};\n",
       "\n",
       "mpl.figure.prototype._init_header = function () {\n",
       "    var titlebar = document.createElement('div');\n",
       "    titlebar.classList =\n",
       "        'ui-dialog-titlebar ui-widget-header ui-corner-all ui-helper-clearfix';\n",
       "    var titletext = document.createElement('div');\n",
       "    titletext.classList = 'ui-dialog-title';\n",
       "    titletext.setAttribute(\n",
       "        'style',\n",
       "        'width: 100%; text-align: center; padding: 3px;'\n",
       "    );\n",
       "    titlebar.appendChild(titletext);\n",
       "    this.root.appendChild(titlebar);\n",
       "    this.header = titletext;\n",
       "};\n",
       "\n",
       "mpl.figure.prototype._canvas_extra_style = function (_canvas_div) {};\n",
       "\n",
       "mpl.figure.prototype._root_extra_style = function (_canvas_div) {};\n",
       "\n",
       "mpl.figure.prototype._init_canvas = function () {\n",
       "    var fig = this;\n",
       "\n",
       "    var canvas_div = (this.canvas_div = document.createElement('div'));\n",
       "    canvas_div.setAttribute(\n",
       "        'style',\n",
       "        'border: 1px solid #ddd;' +\n",
       "            'box-sizing: content-box;' +\n",
       "            'clear: both;' +\n",
       "            'min-height: 1px;' +\n",
       "            'min-width: 1px;' +\n",
       "            'outline: 0;' +\n",
       "            'overflow: hidden;' +\n",
       "            'position: relative;' +\n",
       "            'resize: both;'\n",
       "    );\n",
       "\n",
       "    function on_keyboard_event_closure(name) {\n",
       "        return function (event) {\n",
       "            return fig.key_event(event, name);\n",
       "        };\n",
       "    }\n",
       "\n",
       "    canvas_div.addEventListener(\n",
       "        'keydown',\n",
       "        on_keyboard_event_closure('key_press')\n",
       "    );\n",
       "    canvas_div.addEventListener(\n",
       "        'keyup',\n",
       "        on_keyboard_event_closure('key_release')\n",
       "    );\n",
       "\n",
       "    this._canvas_extra_style(canvas_div);\n",
       "    this.root.appendChild(canvas_div);\n",
       "\n",
       "    var canvas = (this.canvas = document.createElement('canvas'));\n",
       "    canvas.classList.add('mpl-canvas');\n",
       "    canvas.setAttribute('style', 'box-sizing: content-box;');\n",
       "\n",
       "    this.context = canvas.getContext('2d');\n",
       "\n",
       "    var backingStore =\n",
       "        this.context.backingStorePixelRatio ||\n",
       "        this.context.webkitBackingStorePixelRatio ||\n",
       "        this.context.mozBackingStorePixelRatio ||\n",
       "        this.context.msBackingStorePixelRatio ||\n",
       "        this.context.oBackingStorePixelRatio ||\n",
       "        this.context.backingStorePixelRatio ||\n",
       "        1;\n",
       "\n",
       "    this.ratio = (window.devicePixelRatio || 1) / backingStore;\n",
       "\n",
       "    var rubberband_canvas = (this.rubberband_canvas = document.createElement(\n",
       "        'canvas'\n",
       "    ));\n",
       "    rubberband_canvas.setAttribute(\n",
       "        'style',\n",
       "        'box-sizing: content-box; position: absolute; left: 0; top: 0; z-index: 1;'\n",
       "    );\n",
       "\n",
       "    // Apply a ponyfill if ResizeObserver is not implemented by browser.\n",
       "    if (this.ResizeObserver === undefined) {\n",
       "        if (window.ResizeObserver !== undefined) {\n",
       "            this.ResizeObserver = window.ResizeObserver;\n",
       "        } else {\n",
       "            var obs = _JSXTOOLS_RESIZE_OBSERVER({});\n",
       "            this.ResizeObserver = obs.ResizeObserver;\n",
       "        }\n",
       "    }\n",
       "\n",
       "    this.resizeObserverInstance = new this.ResizeObserver(function (entries) {\n",
       "        var nentries = entries.length;\n",
       "        for (var i = 0; i < nentries; i++) {\n",
       "            var entry = entries[i];\n",
       "            var width, height;\n",
       "            if (entry.contentBoxSize) {\n",
       "                if (entry.contentBoxSize instanceof Array) {\n",
       "                    // Chrome 84 implements new version of spec.\n",
       "                    width = entry.contentBoxSize[0].inlineSize;\n",
       "                    height = entry.contentBoxSize[0].blockSize;\n",
       "                } else {\n",
       "                    // Firefox implements old version of spec.\n",
       "                    width = entry.contentBoxSize.inlineSize;\n",
       "                    height = entry.contentBoxSize.blockSize;\n",
       "                }\n",
       "            } else {\n",
       "                // Chrome <84 implements even older version of spec.\n",
       "                width = entry.contentRect.width;\n",
       "                height = entry.contentRect.height;\n",
       "            }\n",
       "\n",
       "            // Keep the size of the canvas and rubber band canvas in sync with\n",
       "            // the canvas container.\n",
       "            if (entry.devicePixelContentBoxSize) {\n",
       "                // Chrome 84 implements new version of spec.\n",
       "                canvas.setAttribute(\n",
       "                    'width',\n",
       "                    entry.devicePixelContentBoxSize[0].inlineSize\n",
       "                );\n",
       "                canvas.setAttribute(\n",
       "                    'height',\n",
       "                    entry.devicePixelContentBoxSize[0].blockSize\n",
       "                );\n",
       "            } else {\n",
       "                canvas.setAttribute('width', width * fig.ratio);\n",
       "                canvas.setAttribute('height', height * fig.ratio);\n",
       "            }\n",
       "            canvas.setAttribute(\n",
       "                'style',\n",
       "                'width: ' + width + 'px; height: ' + height + 'px;'\n",
       "            );\n",
       "\n",
       "            rubberband_canvas.setAttribute('width', width);\n",
       "            rubberband_canvas.setAttribute('height', height);\n",
       "\n",
       "            // And update the size in Python. We ignore the initial 0/0 size\n",
       "            // that occurs as the element is placed into the DOM, which should\n",
       "            // otherwise not happen due to the minimum size styling.\n",
       "            if (fig.ws.readyState == 1 && width != 0 && height != 0) {\n",
       "                fig.request_resize(width, height);\n",
       "            }\n",
       "        }\n",
       "    });\n",
       "    this.resizeObserverInstance.observe(canvas_div);\n",
       "\n",
       "    function on_mouse_event_closure(name) {\n",
       "        return function (event) {\n",
       "            return fig.mouse_event(event, name);\n",
       "        };\n",
       "    }\n",
       "\n",
       "    rubberband_canvas.addEventListener(\n",
       "        'mousedown',\n",
       "        on_mouse_event_closure('button_press')\n",
       "    );\n",
       "    rubberband_canvas.addEventListener(\n",
       "        'mouseup',\n",
       "        on_mouse_event_closure('button_release')\n",
       "    );\n",
       "    rubberband_canvas.addEventListener(\n",
       "        'dblclick',\n",
       "        on_mouse_event_closure('dblclick')\n",
       "    );\n",
       "    // Throttle sequential mouse events to 1 every 20ms.\n",
       "    rubberband_canvas.addEventListener(\n",
       "        'mousemove',\n",
       "        on_mouse_event_closure('motion_notify')\n",
       "    );\n",
       "\n",
       "    rubberband_canvas.addEventListener(\n",
       "        'mouseenter',\n",
       "        on_mouse_event_closure('figure_enter')\n",
       "    );\n",
       "    rubberband_canvas.addEventListener(\n",
       "        'mouseleave',\n",
       "        on_mouse_event_closure('figure_leave')\n",
       "    );\n",
       "\n",
       "    canvas_div.addEventListener('wheel', function (event) {\n",
       "        if (event.deltaY < 0) {\n",
       "            event.step = 1;\n",
       "        } else {\n",
       "            event.step = -1;\n",
       "        }\n",
       "        on_mouse_event_closure('scroll')(event);\n",
       "    });\n",
       "\n",
       "    canvas_div.appendChild(canvas);\n",
       "    canvas_div.appendChild(rubberband_canvas);\n",
       "\n",
       "    this.rubberband_context = rubberband_canvas.getContext('2d');\n",
       "    this.rubberband_context.strokeStyle = '#000000';\n",
       "\n",
       "    this._resize_canvas = function (width, height, forward) {\n",
       "        if (forward) {\n",
       "            canvas_div.style.width = width + 'px';\n",
       "            canvas_div.style.height = height + 'px';\n",
       "        }\n",
       "    };\n",
       "\n",
       "    // Disable right mouse context menu.\n",
       "    this.rubberband_canvas.addEventListener('contextmenu', function (_e) {\n",
       "        event.preventDefault();\n",
       "        return false;\n",
       "    });\n",
       "\n",
       "    function set_focus() {\n",
       "        canvas.focus();\n",
       "        canvas_div.focus();\n",
       "    }\n",
       "\n",
       "    window.setTimeout(set_focus, 100);\n",
       "};\n",
       "\n",
       "mpl.figure.prototype._init_toolbar = function () {\n",
       "    var fig = this;\n",
       "\n",
       "    var toolbar = document.createElement('div');\n",
       "    toolbar.classList = 'mpl-toolbar';\n",
       "    this.root.appendChild(toolbar);\n",
       "\n",
       "    function on_click_closure(name) {\n",
       "        return function (_event) {\n",
       "            return fig.toolbar_button_onclick(name);\n",
       "        };\n",
       "    }\n",
       "\n",
       "    function on_mouseover_closure(tooltip) {\n",
       "        return function (event) {\n",
       "            if (!event.currentTarget.disabled) {\n",
       "                return fig.toolbar_button_onmouseover(tooltip);\n",
       "            }\n",
       "        };\n",
       "    }\n",
       "\n",
       "    fig.buttons = {};\n",
       "    var buttonGroup = document.createElement('div');\n",
       "    buttonGroup.classList = 'mpl-button-group';\n",
       "    for (var toolbar_ind in mpl.toolbar_items) {\n",
       "        var name = mpl.toolbar_items[toolbar_ind][0];\n",
       "        var tooltip = mpl.toolbar_items[toolbar_ind][1];\n",
       "        var image = mpl.toolbar_items[toolbar_ind][2];\n",
       "        var method_name = mpl.toolbar_items[toolbar_ind][3];\n",
       "\n",
       "        if (!name) {\n",
       "            /* Instead of a spacer, we start a new button group. */\n",
       "            if (buttonGroup.hasChildNodes()) {\n",
       "                toolbar.appendChild(buttonGroup);\n",
       "            }\n",
       "            buttonGroup = document.createElement('div');\n",
       "            buttonGroup.classList = 'mpl-button-group';\n",
       "            continue;\n",
       "        }\n",
       "\n",
       "        var button = (fig.buttons[name] = document.createElement('button'));\n",
       "        button.classList = 'mpl-widget';\n",
       "        button.setAttribute('role', 'button');\n",
       "        button.setAttribute('aria-disabled', 'false');\n",
       "        button.addEventListener('click', on_click_closure(method_name));\n",
       "        button.addEventListener('mouseover', on_mouseover_closure(tooltip));\n",
       "\n",
       "        var icon_img = document.createElement('img');\n",
       "        icon_img.src = '_images/' + image + '.png';\n",
       "        icon_img.srcset = '_images/' + image + '_large.png 2x';\n",
       "        icon_img.alt = tooltip;\n",
       "        button.appendChild(icon_img);\n",
       "\n",
       "        buttonGroup.appendChild(button);\n",
       "    }\n",
       "\n",
       "    if (buttonGroup.hasChildNodes()) {\n",
       "        toolbar.appendChild(buttonGroup);\n",
       "    }\n",
       "\n",
       "    var fmt_picker = document.createElement('select');\n",
       "    fmt_picker.classList = 'mpl-widget';\n",
       "    toolbar.appendChild(fmt_picker);\n",
       "    this.format_dropdown = fmt_picker;\n",
       "\n",
       "    for (var ind in mpl.extensions) {\n",
       "        var fmt = mpl.extensions[ind];\n",
       "        var option = document.createElement('option');\n",
       "        option.selected = fmt === mpl.default_extension;\n",
       "        option.innerHTML = fmt;\n",
       "        fmt_picker.appendChild(option);\n",
       "    }\n",
       "\n",
       "    var status_bar = document.createElement('span');\n",
       "    status_bar.classList = 'mpl-message';\n",
       "    toolbar.appendChild(status_bar);\n",
       "    this.message = status_bar;\n",
       "};\n",
       "\n",
       "mpl.figure.prototype.request_resize = function (x_pixels, y_pixels) {\n",
       "    // Request matplotlib to resize the figure. Matplotlib will then trigger a resize in the client,\n",
       "    // which will in turn request a refresh of the image.\n",
       "    this.send_message('resize', { width: x_pixels, height: y_pixels });\n",
       "};\n",
       "\n",
       "mpl.figure.prototype.send_message = function (type, properties) {\n",
       "    properties['type'] = type;\n",
       "    properties['figure_id'] = this.id;\n",
       "    this.ws.send(JSON.stringify(properties));\n",
       "};\n",
       "\n",
       "mpl.figure.prototype.send_draw_message = function () {\n",
       "    if (!this.waiting) {\n",
       "        this.waiting = true;\n",
       "        this.ws.send(JSON.stringify({ type: 'draw', figure_id: this.id }));\n",
       "    }\n",
       "};\n",
       "\n",
       "mpl.figure.prototype.handle_save = function (fig, _msg) {\n",
       "    var format_dropdown = fig.format_dropdown;\n",
       "    var format = format_dropdown.options[format_dropdown.selectedIndex].value;\n",
       "    fig.ondownload(fig, format);\n",
       "};\n",
       "\n",
       "mpl.figure.prototype.handle_resize = function (fig, msg) {\n",
       "    var size = msg['size'];\n",
       "    if (size[0] !== fig.canvas.width || size[1] !== fig.canvas.height) {\n",
       "        fig._resize_canvas(size[0], size[1], msg['forward']);\n",
       "        fig.send_message('refresh', {});\n",
       "    }\n",
       "};\n",
       "\n",
       "mpl.figure.prototype.handle_rubberband = function (fig, msg) {\n",
       "    var x0 = msg['x0'] / fig.ratio;\n",
       "    var y0 = (fig.canvas.height - msg['y0']) / fig.ratio;\n",
       "    var x1 = msg['x1'] / fig.ratio;\n",
       "    var y1 = (fig.canvas.height - msg['y1']) / fig.ratio;\n",
       "    x0 = Math.floor(x0) + 0.5;\n",
       "    y0 = Math.floor(y0) + 0.5;\n",
       "    x1 = Math.floor(x1) + 0.5;\n",
       "    y1 = Math.floor(y1) + 0.5;\n",
       "    var min_x = Math.min(x0, x1);\n",
       "    var min_y = Math.min(y0, y1);\n",
       "    var width = Math.abs(x1 - x0);\n",
       "    var height = Math.abs(y1 - y0);\n",
       "\n",
       "    fig.rubberband_context.clearRect(\n",
       "        0,\n",
       "        0,\n",
       "        fig.canvas.width / fig.ratio,\n",
       "        fig.canvas.height / fig.ratio\n",
       "    );\n",
       "\n",
       "    fig.rubberband_context.strokeRect(min_x, min_y, width, height);\n",
       "};\n",
       "\n",
       "mpl.figure.prototype.handle_figure_label = function (fig, msg) {\n",
       "    // Updates the figure title.\n",
       "    fig.header.textContent = msg['label'];\n",
       "};\n",
       "\n",
       "mpl.figure.prototype.handle_cursor = function (fig, msg) {\n",
       "    fig.rubberband_canvas.style.cursor = msg['cursor'];\n",
       "};\n",
       "\n",
       "mpl.figure.prototype.handle_message = function (fig, msg) {\n",
       "    fig.message.textContent = msg['message'];\n",
       "};\n",
       "\n",
       "mpl.figure.prototype.handle_draw = function (fig, _msg) {\n",
       "    // Request the server to send over a new figure.\n",
       "    fig.send_draw_message();\n",
       "};\n",
       "\n",
       "mpl.figure.prototype.handle_image_mode = function (fig, msg) {\n",
       "    fig.image_mode = msg['mode'];\n",
       "};\n",
       "\n",
       "mpl.figure.prototype.handle_history_buttons = function (fig, msg) {\n",
       "    for (var key in msg) {\n",
       "        if (!(key in fig.buttons)) {\n",
       "            continue;\n",
       "        }\n",
       "        fig.buttons[key].disabled = !msg[key];\n",
       "        fig.buttons[key].setAttribute('aria-disabled', !msg[key]);\n",
       "    }\n",
       "};\n",
       "\n",
       "mpl.figure.prototype.handle_navigate_mode = function (fig, msg) {\n",
       "    if (msg['mode'] === 'PAN') {\n",
       "        fig.buttons['Pan'].classList.add('active');\n",
       "        fig.buttons['Zoom'].classList.remove('active');\n",
       "    } else if (msg['mode'] === 'ZOOM') {\n",
       "        fig.buttons['Pan'].classList.remove('active');\n",
       "        fig.buttons['Zoom'].classList.add('active');\n",
       "    } else {\n",
       "        fig.buttons['Pan'].classList.remove('active');\n",
       "        fig.buttons['Zoom'].classList.remove('active');\n",
       "    }\n",
       "};\n",
       "\n",
       "mpl.figure.prototype.updated_canvas_event = function () {\n",
       "    // Called whenever the canvas gets updated.\n",
       "    this.send_message('ack', {});\n",
       "};\n",
       "\n",
       "// A function to construct a web socket function for onmessage handling.\n",
       "// Called in the figure constructor.\n",
       "mpl.figure.prototype._make_on_message_function = function (fig) {\n",
       "    return function socket_on_message(evt) {\n",
       "        if (evt.data instanceof Blob) {\n",
       "            var img = evt.data;\n",
       "            if (img.type !== 'image/png') {\n",
       "                /* FIXME: We get \"Resource interpreted as Image but\n",
       "                 * transferred with MIME type text/plain:\" errors on\n",
       "                 * Chrome.  But how to set the MIME type?  It doesn't seem\n",
       "                 * to be part of the websocket stream */\n",
       "                img.type = 'image/png';\n",
       "            }\n",
       "\n",
       "            /* Free the memory for the previous frames */\n",
       "            if (fig.imageObj.src) {\n",
       "                (window.URL || window.webkitURL).revokeObjectURL(\n",
       "                    fig.imageObj.src\n",
       "                );\n",
       "            }\n",
       "\n",
       "            fig.imageObj.src = (window.URL || window.webkitURL).createObjectURL(\n",
       "                img\n",
       "            );\n",
       "            fig.updated_canvas_event();\n",
       "            fig.waiting = false;\n",
       "            return;\n",
       "        } else if (\n",
       "            typeof evt.data === 'string' &&\n",
       "            evt.data.slice(0, 21) === 'data:image/png;base64'\n",
       "        ) {\n",
       "            fig.imageObj.src = evt.data;\n",
       "            fig.updated_canvas_event();\n",
       "            fig.waiting = false;\n",
       "            return;\n",
       "        }\n",
       "\n",
       "        var msg = JSON.parse(evt.data);\n",
       "        var msg_type = msg['type'];\n",
       "\n",
       "        // Call the  \"handle_{type}\" callback, which takes\n",
       "        // the figure and JSON message as its only arguments.\n",
       "        try {\n",
       "            var callback = fig['handle_' + msg_type];\n",
       "        } catch (e) {\n",
       "            console.log(\n",
       "                \"No handler for the '\" + msg_type + \"' message type: \",\n",
       "                msg\n",
       "            );\n",
       "            return;\n",
       "        }\n",
       "\n",
       "        if (callback) {\n",
       "            try {\n",
       "                // console.log(\"Handling '\" + msg_type + \"' message: \", msg);\n",
       "                callback(fig, msg);\n",
       "            } catch (e) {\n",
       "                console.log(\n",
       "                    \"Exception inside the 'handler_\" + msg_type + \"' callback:\",\n",
       "                    e,\n",
       "                    e.stack,\n",
       "                    msg\n",
       "                );\n",
       "            }\n",
       "        }\n",
       "    };\n",
       "};\n",
       "\n",
       "// from https://stackoverflow.com/questions/1114465/getting-mouse-location-in-canvas\n",
       "mpl.findpos = function (e) {\n",
       "    //this section is from http://www.quirksmode.org/js/events_properties.html\n",
       "    var targ;\n",
       "    if (!e) {\n",
       "        e = window.event;\n",
       "    }\n",
       "    if (e.target) {\n",
       "        targ = e.target;\n",
       "    } else if (e.srcElement) {\n",
       "        targ = e.srcElement;\n",
       "    }\n",
       "    if (targ.nodeType === 3) {\n",
       "        // defeat Safari bug\n",
       "        targ = targ.parentNode;\n",
       "    }\n",
       "\n",
       "    // pageX,Y are the mouse positions relative to the document\n",
       "    var boundingRect = targ.getBoundingClientRect();\n",
       "    var x = e.pageX - (boundingRect.left + document.body.scrollLeft);\n",
       "    var y = e.pageY - (boundingRect.top + document.body.scrollTop);\n",
       "\n",
       "    return { x: x, y: y };\n",
       "};\n",
       "\n",
       "/*\n",
       " * return a copy of an object with only non-object keys\n",
       " * we need this to avoid circular references\n",
       " * https://stackoverflow.com/a/24161582/3208463\n",
       " */\n",
       "function simpleKeys(original) {\n",
       "    return Object.keys(original).reduce(function (obj, key) {\n",
       "        if (typeof original[key] !== 'object') {\n",
       "            obj[key] = original[key];\n",
       "        }\n",
       "        return obj;\n",
       "    }, {});\n",
       "}\n",
       "\n",
       "mpl.figure.prototype.mouse_event = function (event, name) {\n",
       "    var canvas_pos = mpl.findpos(event);\n",
       "\n",
       "    if (name === 'button_press') {\n",
       "        this.canvas.focus();\n",
       "        this.canvas_div.focus();\n",
       "    }\n",
       "\n",
       "    var x = canvas_pos.x * this.ratio;\n",
       "    var y = canvas_pos.y * this.ratio;\n",
       "\n",
       "    this.send_message(name, {\n",
       "        x: x,\n",
       "        y: y,\n",
       "        button: event.button,\n",
       "        step: event.step,\n",
       "        guiEvent: simpleKeys(event),\n",
       "    });\n",
       "\n",
       "    /* This prevents the web browser from automatically changing to\n",
       "     * the text insertion cursor when the button is pressed.  We want\n",
       "     * to control all of the cursor setting manually through the\n",
       "     * 'cursor' event from matplotlib */\n",
       "    event.preventDefault();\n",
       "    return false;\n",
       "};\n",
       "\n",
       "mpl.figure.prototype._key_event_extra = function (_event, _name) {\n",
       "    // Handle any extra behaviour associated with a key event\n",
       "};\n",
       "\n",
       "mpl.figure.prototype.key_event = function (event, name) {\n",
       "    // Prevent repeat events\n",
       "    if (name === 'key_press') {\n",
       "        if (event.key === this._key) {\n",
       "            return;\n",
       "        } else {\n",
       "            this._key = event.key;\n",
       "        }\n",
       "    }\n",
       "    if (name === 'key_release') {\n",
       "        this._key = null;\n",
       "    }\n",
       "\n",
       "    var value = '';\n",
       "    if (event.ctrlKey && event.key !== 'Control') {\n",
       "        value += 'ctrl+';\n",
       "    }\n",
       "    else if (event.altKey && event.key !== 'Alt') {\n",
       "        value += 'alt+';\n",
       "    }\n",
       "    else if (event.shiftKey && event.key !== 'Shift') {\n",
       "        value += 'shift+';\n",
       "    }\n",
       "\n",
       "    value += 'k' + event.key;\n",
       "\n",
       "    this._key_event_extra(event, name);\n",
       "\n",
       "    this.send_message(name, { key: value, guiEvent: simpleKeys(event) });\n",
       "    return false;\n",
       "};\n",
       "\n",
       "mpl.figure.prototype.toolbar_button_onclick = function (name) {\n",
       "    if (name === 'download') {\n",
       "        this.handle_save(this, null);\n",
       "    } else {\n",
       "        this.send_message('toolbar_button', { name: name });\n",
       "    }\n",
       "};\n",
       "\n",
       "mpl.figure.prototype.toolbar_button_onmouseover = function (tooltip) {\n",
       "    this.message.textContent = tooltip;\n",
       "};\n",
       "\n",
       "///////////////// REMAINING CONTENT GENERATED BY embed_js.py /////////////////\n",
       "// prettier-ignore\n",
       "var _JSXTOOLS_RESIZE_OBSERVER=function(A){var t,i=new WeakMap,n=new WeakMap,a=new WeakMap,r=new WeakMap,o=new Set;function s(e){if(!(this instanceof s))throw new TypeError(\"Constructor requires 'new' operator\");i.set(this,e)}function h(){throw new TypeError(\"Function is not a constructor\")}function c(e,t,i,n){e=0 in arguments?Number(arguments[0]):0,t=1 in arguments?Number(arguments[1]):0,i=2 in arguments?Number(arguments[2]):0,n=3 in arguments?Number(arguments[3]):0,this.right=(this.x=this.left=e)+(this.width=i),this.bottom=(this.y=this.top=t)+(this.height=n),Object.freeze(this)}function d(){t=requestAnimationFrame(d);var s=new WeakMap,p=new Set;o.forEach((function(t){r.get(t).forEach((function(i){var r=t instanceof window.SVGElement,o=a.get(t),d=r?0:parseFloat(o.paddingTop),f=r?0:parseFloat(o.paddingRight),l=r?0:parseFloat(o.paddingBottom),u=r?0:parseFloat(o.paddingLeft),g=r?0:parseFloat(o.borderTopWidth),m=r?0:parseFloat(o.borderRightWidth),w=r?0:parseFloat(o.borderBottomWidth),b=u+f,F=d+l,v=(r?0:parseFloat(o.borderLeftWidth))+m,W=g+w,y=r?0:t.offsetHeight-W-t.clientHeight,E=r?0:t.offsetWidth-v-t.clientWidth,R=b+v,z=F+W,M=r?t.width:parseFloat(o.width)-R-E,O=r?t.height:parseFloat(o.height)-z-y;if(n.has(t)){var k=n.get(t);if(k[0]===M&&k[1]===O)return}n.set(t,[M,O]);var S=Object.create(h.prototype);S.target=t,S.contentRect=new c(u,d,M,O),s.has(i)||(s.set(i,[]),p.add(i)),s.get(i).push(S)}))})),p.forEach((function(e){i.get(e).call(e,s.get(e),e)}))}return s.prototype.observe=function(i){if(i instanceof window.Element){r.has(i)||(r.set(i,new Set),o.add(i),a.set(i,window.getComputedStyle(i)));var n=r.get(i);n.has(this)||n.add(this),cancelAnimationFrame(t),t=requestAnimationFrame(d)}},s.prototype.unobserve=function(i){if(i instanceof window.Element&&r.has(i)){var n=r.get(i);n.has(this)&&(n.delete(this),n.size||(r.delete(i),o.delete(i))),n.size||r.delete(i),o.size||cancelAnimationFrame(t)}},A.DOMRectReadOnly=c,A.ResizeObserver=s,A.ResizeObserverEntry=h,A}; // eslint-disable-line\n",
       "mpl.toolbar_items = [[\"Home\", \"Reset original view\", \"fa fa-home icon-home\", \"home\"], [\"Back\", \"Back to previous view\", \"fa fa-arrow-left icon-arrow-left\", \"back\"], [\"Forward\", \"Forward to next view\", \"fa fa-arrow-right icon-arrow-right\", \"forward\"], [\"\", \"\", \"\", \"\"], [\"Pan\", \"Left button pans, Right button zooms\\nx/y fixes axis, CTRL fixes aspect\", \"fa fa-arrows icon-move\", \"pan\"], [\"Zoom\", \"Zoom to rectangle\\nx/y fixes axis\", \"fa fa-square-o icon-check-empty\", \"zoom\"], [\"\", \"\", \"\", \"\"], [\"Download\", \"Download plot\", \"fa fa-floppy-o icon-save\", \"download\"]];\n",
       "\n",
       "mpl.extensions = [\"eps\", \"jpeg\", \"pgf\", \"pdf\", \"png\", \"ps\", \"raw\", \"svg\", \"tif\"];\n",
       "\n",
       "mpl.default_extension = \"png\";/* global mpl */\n",
       "\n",
       "var comm_websocket_adapter = function (comm) {\n",
       "    // Create a \"websocket\"-like object which calls the given IPython comm\n",
       "    // object with the appropriate methods. Currently this is a non binary\n",
       "    // socket, so there is still some room for performance tuning.\n",
       "    var ws = {};\n",
       "\n",
       "    ws.binaryType = comm.kernel.ws.binaryType;\n",
       "    ws.readyState = comm.kernel.ws.readyState;\n",
       "    function updateReadyState(_event) {\n",
       "        if (comm.kernel.ws) {\n",
       "            ws.readyState = comm.kernel.ws.readyState;\n",
       "        } else {\n",
       "            ws.readyState = 3; // Closed state.\n",
       "        }\n",
       "    }\n",
       "    comm.kernel.ws.addEventListener('open', updateReadyState);\n",
       "    comm.kernel.ws.addEventListener('close', updateReadyState);\n",
       "    comm.kernel.ws.addEventListener('error', updateReadyState);\n",
       "\n",
       "    ws.close = function () {\n",
       "        comm.close();\n",
       "    };\n",
       "    ws.send = function (m) {\n",
       "        //console.log('sending', m);\n",
       "        comm.send(m);\n",
       "    };\n",
       "    // Register the callback with on_msg.\n",
       "    comm.on_msg(function (msg) {\n",
       "        //console.log('receiving', msg['content']['data'], msg);\n",
       "        var data = msg['content']['data'];\n",
       "        if (data['blob'] !== undefined) {\n",
       "            data = {\n",
       "                data: new Blob(msg['buffers'], { type: data['blob'] }),\n",
       "            };\n",
       "        }\n",
       "        // Pass the mpl event to the overridden (by mpl) onmessage function.\n",
       "        ws.onmessage(data);\n",
       "    });\n",
       "    return ws;\n",
       "};\n",
       "\n",
       "mpl.mpl_figure_comm = function (comm, msg) {\n",
       "    // This is the function which gets called when the mpl process\n",
       "    // starts-up an IPython Comm through the \"matplotlib\" channel.\n",
       "\n",
       "    var id = msg.content.data.id;\n",
       "    // Get hold of the div created by the display call when the Comm\n",
       "    // socket was opened in Python.\n",
       "    var element = document.getElementById(id);\n",
       "    var ws_proxy = comm_websocket_adapter(comm);\n",
       "\n",
       "    function ondownload(figure, _format) {\n",
       "        window.open(figure.canvas.toDataURL());\n",
       "    }\n",
       "\n",
       "    var fig = new mpl.figure(id, ws_proxy, ondownload, element);\n",
       "\n",
       "    // Call onopen now - mpl needs it, as it is assuming we've passed it a real\n",
       "    // web socket which is closed, not our websocket->open comm proxy.\n",
       "    ws_proxy.onopen();\n",
       "\n",
       "    fig.parent_element = element;\n",
       "    fig.cell_info = mpl.find_output_cell(\"<div id='\" + id + \"'></div>\");\n",
       "    if (!fig.cell_info) {\n",
       "        console.error('Failed to find cell for figure', id, fig);\n",
       "        return;\n",
       "    }\n",
       "    fig.cell_info[0].output_area.element.on(\n",
       "        'cleared',\n",
       "        { fig: fig },\n",
       "        fig._remove_fig_handler\n",
       "    );\n",
       "};\n",
       "\n",
       "mpl.figure.prototype.handle_close = function (fig, msg) {\n",
       "    var width = fig.canvas.width / fig.ratio;\n",
       "    fig.cell_info[0].output_area.element.off(\n",
       "        'cleared',\n",
       "        fig._remove_fig_handler\n",
       "    );\n",
       "    fig.resizeObserverInstance.unobserve(fig.canvas_div);\n",
       "\n",
       "    // Update the output cell to use the data from the current canvas.\n",
       "    fig.push_to_output();\n",
       "    var dataURL = fig.canvas.toDataURL();\n",
       "    // Re-enable the keyboard manager in IPython - without this line, in FF,\n",
       "    // the notebook keyboard shortcuts fail.\n",
       "    IPython.keyboard_manager.enable();\n",
       "    fig.parent_element.innerHTML =\n",
       "        '<img src=\"' + dataURL + '\" width=\"' + width + '\">';\n",
       "    fig.close_ws(fig, msg);\n",
       "};\n",
       "\n",
       "mpl.figure.prototype.close_ws = function (fig, msg) {\n",
       "    fig.send_message('closing', msg);\n",
       "    // fig.ws.close()\n",
       "};\n",
       "\n",
       "mpl.figure.prototype.push_to_output = function (_remove_interactive) {\n",
       "    // Turn the data on the canvas into data in the output cell.\n",
       "    var width = this.canvas.width / this.ratio;\n",
       "    var dataURL = this.canvas.toDataURL();\n",
       "    this.cell_info[1]['text/html'] =\n",
       "        '<img src=\"' + dataURL + '\" width=\"' + width + '\">';\n",
       "};\n",
       "\n",
       "mpl.figure.prototype.updated_canvas_event = function () {\n",
       "    // Tell IPython that the notebook contents must change.\n",
       "    IPython.notebook.set_dirty(true);\n",
       "    this.send_message('ack', {});\n",
       "    var fig = this;\n",
       "    // Wait a second, then push the new image to the DOM so\n",
       "    // that it is saved nicely (might be nice to debounce this).\n",
       "    setTimeout(function () {\n",
       "        fig.push_to_output();\n",
       "    }, 1000);\n",
       "};\n",
       "\n",
       "mpl.figure.prototype._init_toolbar = function () {\n",
       "    var fig = this;\n",
       "\n",
       "    var toolbar = document.createElement('div');\n",
       "    toolbar.classList = 'btn-toolbar';\n",
       "    this.root.appendChild(toolbar);\n",
       "\n",
       "    function on_click_closure(name) {\n",
       "        return function (_event) {\n",
       "            return fig.toolbar_button_onclick(name);\n",
       "        };\n",
       "    }\n",
       "\n",
       "    function on_mouseover_closure(tooltip) {\n",
       "        return function (event) {\n",
       "            if (!event.currentTarget.disabled) {\n",
       "                return fig.toolbar_button_onmouseover(tooltip);\n",
       "            }\n",
       "        };\n",
       "    }\n",
       "\n",
       "    fig.buttons = {};\n",
       "    var buttonGroup = document.createElement('div');\n",
       "    buttonGroup.classList = 'btn-group';\n",
       "    var button;\n",
       "    for (var toolbar_ind in mpl.toolbar_items) {\n",
       "        var name = mpl.toolbar_items[toolbar_ind][0];\n",
       "        var tooltip = mpl.toolbar_items[toolbar_ind][1];\n",
       "        var image = mpl.toolbar_items[toolbar_ind][2];\n",
       "        var method_name = mpl.toolbar_items[toolbar_ind][3];\n",
       "\n",
       "        if (!name) {\n",
       "            /* Instead of a spacer, we start a new button group. */\n",
       "            if (buttonGroup.hasChildNodes()) {\n",
       "                toolbar.appendChild(buttonGroup);\n",
       "            }\n",
       "            buttonGroup = document.createElement('div');\n",
       "            buttonGroup.classList = 'btn-group';\n",
       "            continue;\n",
       "        }\n",
       "\n",
       "        button = fig.buttons[name] = document.createElement('button');\n",
       "        button.classList = 'btn btn-default';\n",
       "        button.href = '#';\n",
       "        button.title = name;\n",
       "        button.innerHTML = '<i class=\"fa ' + image + ' fa-lg\"></i>';\n",
       "        button.addEventListener('click', on_click_closure(method_name));\n",
       "        button.addEventListener('mouseover', on_mouseover_closure(tooltip));\n",
       "        buttonGroup.appendChild(button);\n",
       "    }\n",
       "\n",
       "    if (buttonGroup.hasChildNodes()) {\n",
       "        toolbar.appendChild(buttonGroup);\n",
       "    }\n",
       "\n",
       "    // Add the status bar.\n",
       "    var status_bar = document.createElement('span');\n",
       "    status_bar.classList = 'mpl-message pull-right';\n",
       "    toolbar.appendChild(status_bar);\n",
       "    this.message = status_bar;\n",
       "\n",
       "    // Add the close button to the window.\n",
       "    var buttongrp = document.createElement('div');\n",
       "    buttongrp.classList = 'btn-group inline pull-right';\n",
       "    button = document.createElement('button');\n",
       "    button.classList = 'btn btn-mini btn-primary';\n",
       "    button.href = '#';\n",
       "    button.title = 'Stop Interaction';\n",
       "    button.innerHTML = '<i class=\"fa fa-power-off icon-remove icon-large\"></i>';\n",
       "    button.addEventListener('click', function (_evt) {\n",
       "        fig.handle_close(fig, {});\n",
       "    });\n",
       "    button.addEventListener(\n",
       "        'mouseover',\n",
       "        on_mouseover_closure('Stop Interaction')\n",
       "    );\n",
       "    buttongrp.appendChild(button);\n",
       "    var titlebar = this.root.querySelector('.ui-dialog-titlebar');\n",
       "    titlebar.insertBefore(buttongrp, titlebar.firstChild);\n",
       "};\n",
       "\n",
       "mpl.figure.prototype._remove_fig_handler = function (event) {\n",
       "    var fig = event.data.fig;\n",
       "    if (event.target !== this) {\n",
       "        // Ignore bubbled events from children.\n",
       "        return;\n",
       "    }\n",
       "    fig.close_ws(fig, {});\n",
       "};\n",
       "\n",
       "mpl.figure.prototype._root_extra_style = function (el) {\n",
       "    el.style.boxSizing = 'content-box'; // override notebook setting of border-box.\n",
       "};\n",
       "\n",
       "mpl.figure.prototype._canvas_extra_style = function (el) {\n",
       "    // this is important to make the div 'focusable\n",
       "    el.setAttribute('tabindex', 0);\n",
       "    // reach out to IPython and tell the keyboard manager to turn it's self\n",
       "    // off when our div gets focus\n",
       "\n",
       "    // location in version 3\n",
       "    if (IPython.notebook.keyboard_manager) {\n",
       "        IPython.notebook.keyboard_manager.register_events(el);\n",
       "    } else {\n",
       "        // location in version 2\n",
       "        IPython.keyboard_manager.register_events(el);\n",
       "    }\n",
       "};\n",
       "\n",
       "mpl.figure.prototype._key_event_extra = function (event, _name) {\n",
       "    // Check for shift+enter\n",
       "    if (event.shiftKey && event.which === 13) {\n",
       "        this.canvas_div.blur();\n",
       "        // select the cell after this one\n",
       "        var index = IPython.notebook.find_cell_index(this.cell_info[0]);\n",
       "        IPython.notebook.select(index + 1);\n",
       "    }\n",
       "};\n",
       "\n",
       "mpl.figure.prototype.handle_save = function (fig, _msg) {\n",
       "    fig.ondownload(fig, null);\n",
       "};\n",
       "\n",
       "mpl.find_output_cell = function (html_output) {\n",
       "    // Return the cell and output element which can be found *uniquely* in the notebook.\n",
       "    // Note - this is a bit hacky, but it is done because the \"notebook_saving.Notebook\"\n",
       "    // IPython event is triggered only after the cells have been serialised, which for\n",
       "    // our purposes (turning an active figure into a static one), is too late.\n",
       "    var cells = IPython.notebook.get_cells();\n",
       "    var ncells = cells.length;\n",
       "    for (var i = 0; i < ncells; i++) {\n",
       "        var cell = cells[i];\n",
       "        if (cell.cell_type === 'code') {\n",
       "            for (var j = 0; j < cell.output_area.outputs.length; j++) {\n",
       "                var data = cell.output_area.outputs[j];\n",
       "                if (data.data) {\n",
       "                    // IPython >= 3 moved mimebundle to data attribute of output\n",
       "                    data = data.data;\n",
       "                }\n",
       "                if (data['text/html'] === html_output) {\n",
       "                    return [cell, data, j];\n",
       "                }\n",
       "            }\n",
       "        }\n",
       "    }\n",
       "};\n",
       "\n",
       "// Register the function which deals with the matplotlib target/channel.\n",
       "// The kernel may be null if the page has been refreshed.\n",
       "if (IPython.notebook.kernel !== null) {\n",
       "    IPython.notebook.kernel.comm_manager.register_target(\n",
       "        'matplotlib',\n",
       "        mpl.mpl_figure_comm\n",
       "    );\n",
       "}\n"
      ],
      "text/plain": [
       "<IPython.core.display.Javascript object>"
      ]
     },
     "metadata": {},
     "output_type": "display_data"
    },
    {
     "data": {
      "text/html": [
       "<img src=\"data:image/png;base64,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\" width=\"640\">"
      ],
      "text/plain": [
       "<IPython.core.display.HTML object>"
      ]
     },
     "metadata": {},
     "output_type": "display_data"
    }
   ],
   "source": [
    "x_n = x.detach().numpy()\n",
    "yp_n = x.grad.detach().numpy()\n",
    "y_n = y.detach().numpy()\n",
    "\n",
    "plt.plot(x_n, y_n, 'o--', label = r'$y(x)$')\n",
    "plt.plot(x_n, yp_n, 'o:', label = r'$y^\\prime(x)$')\n",
    "plt.legend(loc = 'best')\n",
    "opt_plot()"
   ]
  },
  {
   "cell_type": "markdown",
   "id": "5ad78cdf",
   "metadata": {
    "slideshow": {
     "slide_type": "fragment"
    }
   },
   "source": [
    "Observe que essas derivadas são calculadas com precisão total da máquina e não são afetadas pelo espaçamento aproximado em $x$."
   ]
  },
  {
   "cell_type": "markdown",
   "id": "b1d6f131",
   "metadata": {
    "slideshow": {
     "slide_type": "fragment"
    }
   },
   "source": [
    "[Jax](https://github.com/google/jax) é uma estrutura relativamente nova para diferenciação automática (desenvolvida pelo Google, mas independente do `TensorFlow`) que se baseia na compilação \"*just-in-time*\" e é projetada para pesquisa de ML."
   ]
  },
  {
   "cell_type": "markdown",
   "id": "75e5faf0",
   "metadata": {
    "slideshow": {
     "slide_type": "slide"
    }
   },
   "source": [
    "## 6. APIs de nível superior para computação tensorial"
   ]
  },
  {
   "cell_type": "markdown",
   "id": "ee617ac5",
   "metadata": {
    "slideshow": {
     "slide_type": "-"
    }
   },
   "source": [
    "Embora o `TensorFlow` e o `PyTorch` sejam semelhantes ao Numpy, eles têm APIs diferentes, então você é forçado a escolher um para aproveitar seus recursos exclusivos. No entanto, para muitos cálculos, eles são intercambiáveis e um novo ecossistema de APIs de nível superior está crescendo para oferecer suporte a isso. Por exemplo, confira:"
   ]
  },
  {
   "cell_type": "markdown",
   "id": "21a13b80",
   "metadata": {
    "slideshow": {
     "slide_type": "-"
    }
   },
   "source": [
    "- [Tensorly](http://tensorly.org/stable/index.html) (*Tensor learning in Python*): Inclui [decomposição](https://arxiv.org/abs/1711.10781) poderosa (PCA generalizado) e algoritmos de regressão.\n",
    "\n",
    "- [Einops](https://github.com/arogozhnikov/einops) (*Deep learning operations reinvented*): Suporta expressões compactas para operações de indexação complexas ([`np.einsum`](https://numpy.org/doc/stable/reference/generated/numpy.einsum.html) com esteróides)."
   ]
  },
  {
   "cell_type": "markdown",
   "id": "4e53b934",
   "metadata": {
    "slideshow": {
     "slide_type": "-"
    }
   },
   "source": [
    "Nenhum desses pacotes está incluído no ambiente MLS conda, mas encorajo você a experimentá-los se quiser escrever código tensorial independente de estrutura."
   ]
  },
  {
   "cell_type": "markdown",
   "id": "dcfa0b95",
   "metadata": {
    "slideshow": {
     "slide_type": "slide"
    }
   },
   "source": [
    "![image](https://c.tenor.com/hEOM8E4epvgAAAAC/hahaha-thats-all-folks.gif)"
   ]
  },
  {
   "cell_type": "markdown",
   "id": "c3d5e537",
   "metadata": {
    "slideshow": {
     "slide_type": "-"
    }
   },
   "source": [
    "---"
   ]
  },
  {
   "cell_type": "markdown",
   "id": "8f4dfb65",
   "metadata": {
    "slideshow": {
     "slide_type": "slide"
    }
   },
   "source": [
    "## Para se divertir!"
   ]
  },
  {
   "cell_type": "markdown",
   "id": "44c4423f",
   "metadata": {
    "slideshow": {
     "slide_type": "-"
    }
   },
   "source": [
    "- [Lista de problemas #02](https://github.com/GabrielWendell/Intro_ML/blob/main/Listas/Problemas2.ipynb)"
   ]
  },
  {
   "cell_type": "markdown",
   "id": "37c70634",
   "metadata": {
    "slideshow": {
     "slide_type": "-"
    }
   },
   "source": [
    "---"
   ]
  }
 ],
 "metadata": {
  "celltoolbar": "Slideshow",
  "kernelspec": {
   "display_name": "Python 3 (ipykernel)",
   "language": "python",
   "name": "python3"
  },
  "language_info": {
   "codemirror_mode": {
    "name": "ipython",
    "version": 3
   },
   "file_extension": ".py",
   "mimetype": "text/x-python",
   "name": "python",
   "nbconvert_exporter": "python",
   "pygments_lexer": "ipython3",
   "version": "3.9.8"
  }
 },
 "nbformat": 4,
 "nbformat_minor": 5
}
