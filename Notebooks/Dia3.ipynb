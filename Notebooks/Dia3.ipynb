{
 "cells": [
  {
   "cell_type": "markdown",
   "id": "b5525126",
   "metadata": {
    "slideshow": {
     "slide_type": "slide"
    }
   },
   "source": [
    "\n",
    "# Uma breve introdução ao Machine Learning: Dia 3"
   ]
  },
  {
   "cell_type": "markdown",
   "id": "3c27b5be",
   "metadata": {
    "slideshow": {
     "slide_type": "-"
    }
   },
   "source": [
    "Gabriel Wendell Celestino Rocha"
   ]
  },
  {
   "cell_type": "markdown",
   "id": "b44af276",
   "metadata": {
    "slideshow": {
     "slide_type": "skip"
    }
   },
   "source": [
    "Material de um minicurso de introdução ao Machine Learning oferecido pelo [PET - Física](https://petfisica.home.blog)."
   ]
  },
  {
   "cell_type": "markdown",
   "id": "94e5f369",
   "metadata": {
    "slideshow": {
     "slide_type": "skip"
    }
   },
   "source": [
    "O conteúdo é mantido no [GitHub](https://github.com/GabrielWendell/Intro_ML) e distribuídos sob uma [licença BSD3](https://opensource.org/licenses/BSD-3-Clause)."
   ]
  },
  {
   "cell_type": "markdown",
   "id": "b5eee231",
   "metadata": {
    "slideshow": {
     "slide_type": "skip"
    }
   },
   "source": [
    "- [Veja a tabela de conteúdos](https://github.com/GabrielWendell/Intro_ML/blob/main/Infomações/Conteúdos.ipynb)"
   ]
  },
  {
   "cell_type": "markdown",
   "id": "8acf011e",
   "metadata": {
    "slideshow": {
     "slide_type": "skip"
    }
   },
   "source": [
    "Este `Notebook` pode, opcionalmente, ser visto como uma [apresentação de slides](https://medium.com/learning-machine-learning/present-your-data-science-projects-with-jupyter-slides-75f20735eb0f). Para apresentar os slides localmente, use:"
   ]
  },
  {
   "cell_type": "markdown",
   "id": "6efa26e1",
   "metadata": {
    "slideshow": {
     "slide_type": "skip"
    }
   },
   "source": [
    "```Python\n",
    "$ jupyter nbconvert Dia3.ipynb --to slides --post serve\n",
    "```"
   ]
  },
  {
   "cell_type": "markdown",
   "id": "9f6a4574",
   "metadata": {
    "slideshow": {
     "slide_type": "skip"
    }
   },
   "source": [
    "---"
   ]
  },
  {
   "cell_type": "markdown",
   "id": "42b62941",
   "metadata": {
    "slideshow": {
     "slide_type": "slide"
    }
   },
   "source": [
    "### Bibliotecas necessárias"
   ]
  },
  {
   "cell_type": "code",
   "execution_count": 1,
   "id": "9be472a5",
   "metadata": {},
   "outputs": [],
   "source": [
    "import seaborn as sns; sns.set()\n",
    "import matplotlib.pyplot as plt\n",
    "import pandas as pd\n",
    "import numpy as np\n",
    "\n",
    "%matplotlib notebook\n",
    "\n",
    "def opt_plot():\n",
    "    # plt.style.use('dark_background')\n",
    "    plt.grid(True, linestyle=':', color='0.50')\n",
    "    plt.minorticks_on()\n",
    "    plt.tick_params(axis='both',which='minor', direction = \"in\",\n",
    "                        top = True,right = True, length = 5,width = 1,labelsize = 15)\n",
    "    plt.tick_params(axis='both',which='major', direction = \"in\",\n",
    "                        top = True,right = True, length = 8,width = 1,labelsize = 15)"
   ]
  },
  {
   "cell_type": "markdown",
   "id": "3123f1fb",
   "metadata": {
    "slideshow": {
     "slide_type": "subslide"
    }
   },
   "source": [
    "### Versões das bibliotecas"
   ]
  },
  {
   "cell_type": "code",
   "execution_count": 2,
   "id": "eb7db1ad",
   "metadata": {
    "slideshow": {
     "slide_type": "-"
    }
   },
   "outputs": [
    {
     "data": {
      "application/json": {
       "Software versions": [
        {
         "module": "Python",
         "version": "3.9.8 64bit [MSC v.1929 64 bit (AMD64)]"
        },
        {
         "module": "IPython",
         "version": "8.0.1"
        },
        {
         "module": "OS",
         "version": "Windows 10 10.0.19043"
        },
        {
         "module": "Matplotlib",
         "version": "3.5.1"
        },
        {
         "module": "Numpy",
         "version": "1.22.2"
        },
        {
         "module": "Pandas",
         "version": "1.4.0"
        },
        {
         "module": "Seaborn",
         "version": "0.11.2"
        }
       ]
      },
      "text/html": [
       "<table><tr><th>Software</th><th>Version</th></tr><tr><td>Python</td><td>3.9.8 64bit [MSC v.1929 64 bit (AMD64)]</td></tr><tr><td>IPython</td><td>8.0.1</td></tr><tr><td>OS</td><td>Windows 10 10.0.19043</td></tr><tr><td>Matplotlib</td><td>3.5.1</td></tr><tr><td>Numpy</td><td>1.22.2</td></tr><tr><td>Pandas</td><td>1.4.0</td></tr><tr><td>Seaborn</td><td>0.11.2</td></tr><tr><td colspan='2'>Sat Jun 04 16:27:04 2022 Hora Padrão de Buenos Aires</td></tr></table>"
      ],
      "text/latex": [
       "\\begin{tabular}{|l|l|}\\hline\n",
       "{\\bf Software} & {\\bf Version} \\\\ \\hline\\hline\n",
       "Python & 3.9.8 64bit [MSC v.1929 64 bit (AMD64)] \\\\ \\hline\n",
       "IPython & 8.0.1 \\\\ \\hline\n",
       "OS & Windows 10 10.0.19043 \\\\ \\hline\n",
       "Matplotlib & 3.5.1 \\\\ \\hline\n",
       "Numpy & 1.22.2 \\\\ \\hline\n",
       "Pandas & 1.4.0 \\\\ \\hline\n",
       "Seaborn & 0.11.2 \\\\ \\hline\n",
       "\\hline \\multicolumn{2}{|l|}{Sat Jun 04 16:27:04 2022 Hora Padrão de Buenos Aires} \\\\ \\hline\n",
       "\\end{tabular}\n"
      ],
      "text/plain": [
       "Software versions\n",
       "Python 3.9.8 64bit [MSC v.1929 64 bit (AMD64)]\n",
       "IPython 8.0.1\n",
       "OS Windows 10 10.0.19043\n",
       "Matplotlib 3.5.1\n",
       "Numpy 1.22.2\n",
       "Pandas 1.4.0\n",
       "Seaborn 0.11.2\n",
       "Sat Jun 04 16:27:04 2022 Hora Padrão de Buenos Aires"
      ]
     },
     "execution_count": 2,
     "metadata": {},
     "output_type": "execute_result"
    }
   ],
   "source": [
    "%load_ext version_information\n",
    "%version_information Matplotlib, Numpy, Pandas, Seaborn"
   ]
  },
  {
   "cell_type": "markdown",
   "id": "76f288f3",
   "metadata": {
    "slideshow": {
     "slide_type": "fragment"
    }
   },
   "source": [
    "#### Instalação:"
   ]
  },
  {
   "cell_type": "markdown",
   "id": "2a17b600",
   "metadata": {
    "slideshow": {
     "slide_type": "-"
    }
   },
   "source": [
    "```\n",
    "$ pip install version_information\n",
    "```"
   ]
  },
  {
   "cell_type": "markdown",
   "id": "0719bda8",
   "metadata": {
    "slideshow": {
     "slide_type": "-"
    }
   },
   "source": [
    "---"
   ]
  },
  {
   "cell_type": "markdown",
   "id": "b9da7b78",
   "metadata": {
    "slideshow": {
     "slide_type": "slide"
    }
   },
   "source": [
    "# Baixando os dados"
   ]
  },
  {
   "cell_type": "code",
   "execution_count": null,
   "id": "e94e92e3",
   "metadata": {
    "slideshow": {
     "slide_type": "-"
    }
   },
   "outputs": [],
   "source": []
  },
  {
   "cell_type": "code",
   "execution_count": null,
   "id": "fb93d51a",
   "metadata": {
    "slideshow": {
     "slide_type": "-"
    }
   },
   "outputs": [],
   "source": []
  },
  {
   "cell_type": "code",
   "execution_count": null,
   "id": "391f57a3",
   "metadata": {
    "slideshow": {
     "slide_type": "-"
    }
   },
   "outputs": [],
   "source": []
  },
  {
   "cell_type": "code",
   "execution_count": null,
   "id": "6cd7bfb7",
   "metadata": {
    "slideshow": {
     "slide_type": "-"
    }
   },
   "outputs": [],
   "source": []
  },
  {
   "cell_type": "markdown",
   "id": "bd39ec28",
   "metadata": {
    "slideshow": {
     "slide_type": "slide"
    }
   },
   "source": [
    "# SciKit Learn"
   ]
  },
  {
   "cell_type": "markdown",
   "id": "01d9b7ec",
   "metadata": {
    "slideshow": {
     "slide_type": "-"
    }
   },
   "source": [
    "Normalmente não incluímos o [pacote SciKit Learn](https://scikit-learn.org/stable/) no nosso preâmbulo padrão, pois contém muitos módulos (sub-pacotes). Em vez disso, importamos cada módulo conforme necessário. Os que precisamos agora são:"
   ]
  },
  {
   "cell_type": "code",
   "execution_count": null,
   "id": "6c86d158",
   "metadata": {
    "slideshow": {
     "slide_type": "-"
    }
   },
   "outputs": [],
   "source": []
  },
  {
   "cell_type": "markdown",
   "id": "226f22ff",
   "metadata": {
    "slideshow": {
     "slide_type": "slide"
    }
   },
   "source": [
    "# Localizando estruturas em dados"
   ]
  },
  {
   "cell_type": "markdown",
   "id": "f8075d00",
   "metadata": {
    "slideshow": {
     "slide_type": "-"
    }
   },
   "source": [
    "O tipo de estrutura que podemos procurar são \"*clusters*\" (ou aglomerados) de *samples* \"próximos\", mas a definição desses termos requer alguns cuidados."
   ]
  },
  {
   "cell_type": "markdown",
   "id": "e3a38ff0",
   "metadata": {
    "slideshow": {
     "slide_type": "subslide"
    }
   },
   "source": [
    "## 1. Distância entre *samples*"
   ]
  },
  {
   "cell_type": "markdown",
   "id": "b01bcecf",
   "metadata": {
    "slideshow": {
     "slide_type": "-"
    }
   },
   "source": [
    "No caso mais simples, todos os *samples* $x_{j}$ têm as mesmas unidades (possivelmente adimensionais), e a distância natural entre os *samples* (linhas) $j$ e $k$ é:"
   ]
  },
  {
   "cell_type": "markdown",
   "id": "527eb171",
   "metadata": {
    "slideshow": {
     "slide_type": "-"
    }
   },
   "source": [
    "$$\\boxed{d(j,k)=\\sum_{\\text{features i}}(x_{ji}-x_{ki})^{2}}$$."
   ]
  },
  {
   "cell_type": "markdown",
   "id": "f117baf8",
   "metadata": {
    "slideshow": {
     "slide_type": "fragment"
    }
   },
   "source": [
    "No entanto, e se algumas colunas tiverem unidades diferentes? Por exemplo, qual é a distância entre os dois *samples* abaixo:"
   ]
  },
  {
   "cell_type": "markdown",
   "id": "fbc3cbf4",
   "metadata": {
    "slideshow": {
     "slide_type": "-"
    }
   },
   "source": [
    "$$(\\text{1.2},\\text{ 0.4 cm},\\text{ 5.2 kPa})$$"
   ]
  },
  {
   "cell_type": "markdown",
   "id": "adfd02d5",
   "metadata": {
    "slideshow": {
     "slide_type": "-"
    }
   },
   "source": [
    "$$(\\text{0.7},\\text{ 0.5 cm},\\text{ 4.9 kPa})$$"
   ]
  },
  {
   "cell_type": "markdown",
   "id": "fd0fcfd4",
   "metadata": {
    "slideshow": {
     "slide_type": "subslide"
    }
   },
   "source": [
    "Os algoritmos de ML geralmente são independentes de unidade, portanto, combinarão alegremente recursos com unidades diferentes, mas isso pode não ser o que você realmente deseja."
   ]
  },
  {
   "cell_type": "markdown",
   "id": "4ee3dac2",
   "metadata": {
    "slideshow": {
     "slide_type": "-"
    }
   },
   "source": [
    "Uma solução razoável é normalizar cada recurso com a [transformação esférica](https://en.wikipedia.org/wiki/Whitening_transformation):"
   ]
  },
  {
   "cell_type": "markdown",
   "id": "22f02992",
   "metadata": {
    "slideshow": {
     "slide_type": "-"
    }
   },
   "source": [
    "$$\\boxed{x\\rightarrow\\frac{(x-\\mu)}{\\sigma}}$$"
   ]
  },
  {
   "cell_type": "markdown",
   "id": "76163f44",
   "metadata": {
    "slideshow": {
     "slide_type": "-"
    }
   },
   "source": [
    "onde $\\mu$ e $\\sigma$ são a média e o desvio padrão dos valores originais do *sample*."
   ]
  },
  {
   "cell_type": "markdown",
   "id": "fc3f912d",
   "metadata": {
    "slideshow": {
     "slide_type": "subslide"
    }
   },
   "source": [
    "O módulo [`sklearn.preprocessing`](https://scikit-learn.org/stable/modules/preprocessing.html) automatiza esse processo com:"
   ]
  },
  {
   "cell_type": "code",
   "execution_count": null,
   "id": "af14072e",
   "metadata": {
    "slideshow": {
     "slide_type": "-"
    }
   },
   "outputs": [],
   "source": []
  },
  {
   "cell_type": "code",
   "execution_count": null,
   "id": "4633e975",
   "metadata": {
    "slideshow": {
     "slide_type": "subslide"
    }
   },
   "outputs": [],
   "source": []
  },
  {
   "cell_type": "code",
   "execution_count": null,
   "id": "f5b2ae85",
   "metadata": {
    "slideshow": {
     "slide_type": "-"
    }
   },
   "outputs": [],
   "source": []
  },
  {
   "cell_type": "markdown",
   "id": "9958cee2",
   "metadata": {
    "slideshow": {
     "slide_type": "subslide"
    }
   },
   "source": [
    "No entanto, isso pode descartar informações úteis contidas na normalização relativa entre os recursos. Para normalizar apenas determinadas colunas use, por exemplo:"
   ]
  },
  {
   "cell_type": "code",
   "execution_count": null,
   "id": "1e8d94c4",
   "metadata": {
    "slideshow": {
     "slide_type": "-"
    }
   },
   "outputs": [],
   "source": []
  },
  {
   "cell_type": "markdown",
   "id": "10975b5e",
   "metadata": {
    "slideshow": {
     "slide_type": "subslide"
    }
   },
   "source": [
    "## 2. O que é um \"*cluster*\"?"
   ]
  },
  {
   "cell_type": "markdown",
   "id": "6806d5c5",
   "metadata": {
    "slideshow": {
     "slide_type": "-"
    }
   },
   "source": [
    "No caso mais simples (a), os clusters são bem separados por uma linha (em 2D, ou hiperplano em mais dimensões) e podem ser identificados sem ambiguidade observando-se apenas a distância entre pares de amostras."
   ]
  },
  {
   "cell_type": "markdown",
   "id": "4f9241f9",
   "metadata": {
    "slideshow": {
     "slide_type": "-"
    }
   },
   "source": [
    "Na prática, os *clusters* podem se sobrepor levando a ambiguidades (b), ou os clusters que esperamos encontrar podem exigir a consideração de grupos de mais de duas amostras por vez (c), ou podem ter um limite de separação não linear (d)."
   ]
  },
  {
   "cell_type": "markdown",
   "id": "fae03f6c",
   "metadata": {
    "slideshow": {
     "slide_type": "-"
    }
   },
   "source": [
    "![image](img\\cluster_types.png)"
   ]
  },
  {
   "cell_type": "markdown",
   "id": "255b699c",
   "metadata": {
    "slideshow": {
     "slide_type": "slide"
    }
   },
   "source": [
    "## 3. Agrupamento de K-médios (*K-means clustering*)"
   ]
  },
  {
   "cell_type": "markdown",
   "id": "cabf1d17",
   "metadata": {
    "slideshow": {
     "slide_type": "-"
    }
   },
   "source": [
    "O [algoritmo K-means](https://en.wikipedia.org/wiki/K-means_clustering) é rápido e robusto, mas pressupõe que seus dados consistem em clusters aproximadamente redondos do mesmo tamanho (onde os significados de \"redondo\" e \"tamanho\" dependem de como seus dados são dimensionados)."
   ]
  },
  {
   "cell_type": "markdown",
   "id": "6e4a8bcb",
   "metadata": {
    "slideshow": {
     "slide_type": "-"
    }
   },
   "source": [
    "A maioria dos algoritmos sklearn usa um padrão de chamada semelhante:"
   ]
  },
  {
   "cell_type": "markdown",
   "id": "cf16b9ab",
   "metadata": {
    "slideshow": {
     "slide_type": "-"
    }
   },
   "source": [
    "```Python\n",
    "result = module.ClassName(..args..).fit(data)\n",
    "```"
   ]
  },
  {
   "cell_type": "markdown",
   "id": "3177d32d",
   "metadata": {
    "slideshow": {
     "slide_type": "subslide"
    }
   },
   "source": [
    "Para o [algoritmo KMeans](https://scikit-learn.org/stable/modules/generated/sklearn.cluster.KMeans.html#sklearn.cluster.KMeans):"
   ]
  },
  {
   "cell_type": "code",
   "execution_count": null,
   "id": "01a7ed17",
   "metadata": {
    "slideshow": {
     "slide_type": "-"
    }
   },
   "outputs": [],
   "source": []
  },
  {
   "cell_type": "markdown",
   "id": "cccdb0e1",
   "metadata": {
    "slideshow": {
     "slide_type": "subslide"
    }
   },
   "source": [
    "Usaremos a seguinte função para exibir os resultados do cluster 2D (não se preocupe com os [detalhes](https://seaborn.pydata.org/tutorial/color_palettes.html), a menos que esteja interessado):"
   ]
  },
  {
   "cell_type": "code",
   "execution_count": null,
   "id": "93949258",
   "metadata": {
    "slideshow": {
     "slide_type": "-"
    }
   },
   "outputs": [],
   "source": []
  },
  {
   "cell_type": "code",
   "execution_count": null,
   "id": "17d892a7",
   "metadata": {
    "slideshow": {
     "slide_type": "subslide"
    }
   },
   "outputs": [],
   "source": []
  },
  {
   "cell_type": "markdown",
   "id": "74fc5bc3",
   "metadata": {
    "slideshow": {
     "slide_type": "subslide"
    }
   },
   "source": [
    "Vamos usar o KMeans para ajustar os três outros conjuntos de dados 2D (b, c, d) com `n_clusters = 2` e gerar gráficos semelhantes. "
   ]
  },
  {
   "cell_type": "code",
   "execution_count": null,
   "id": "5d653e1a",
   "metadata": {
    "slideshow": {
     "slide_type": "subslide"
    }
   },
   "outputs": [],
   "source": []
  },
  {
   "cell_type": "code",
   "execution_count": null,
   "id": "7b353f1c",
   "metadata": {
    "slideshow": {
     "slide_type": "subslide"
    }
   },
   "outputs": [],
   "source": []
  },
  {
   "cell_type": "code",
   "execution_count": null,
   "id": "5bf5da4c",
   "metadata": {
    "slideshow": {
     "slide_type": "subslide"
    }
   },
   "outputs": [],
   "source": []
  },
  {
   "cell_type": "markdown",
   "id": "bb41e181",
   "metadata": {
    "slideshow": {
     "slide_type": "subslide"
    }
   },
   "source": [
    "Os resultados de ajuste parecem razoáveis para (b), embora a linha divisória nítida entre os dois grupos pareça artificial."
   ]
  },
  {
   "cell_type": "markdown",
   "id": "384bdb79",
   "metadata": {
    "slideshow": {
     "slide_type": "-"
    }
   },
   "source": [
    "Os resultados de ajuste para (c) e (d) não correspondem ao que esperamos porque o KMeans considera apenas um par de cada vez, portanto, não pode identificar padrões de escala maiores que são óbvios a olho nu."
   ]
  },
  {
   "cell_type": "markdown",
   "id": "f0663deb",
   "metadata": {
    "slideshow": {
     "slide_type": "slide"
    }
   },
   "source": [
    "## 4. Hiperparâmetros"
   ]
  },
  {
   "cell_type": "markdown",
   "id": "1c9b01f8",
   "metadata": {
    "slideshow": {
     "slide_type": "-"
    }
   },
   "source": [
    "Os algoritmos têm muitos parâmetros que influenciam seus resultados para um determinado conjunto de dados, mas eles se enquadram em duas categorias:"
   ]
  },
  {
   "cell_type": "markdown",
   "id": "312957f7",
   "metadata": {
    "slideshow": {
     "slide_type": "-"
    }
   },
   "source": [
    "- Parâmetros cujos valores são determinados pelos dados durante o processo de ajuste.\n",
    "- Parâmetros que devem ser ajustados externamente."
   ]
  },
  {
   "cell_type": "markdown",
   "id": "3a8542d5",
   "metadata": {
    "slideshow": {
     "slide_type": "-"
    }
   },
   "source": [
    "Referimo-nos ao segundo grupo como \"hiperparâmetros\" e definimos seus valores durante o processo de \"seleção do modelo\", que discutiremos mais adiante."
   ]
  },
  {
   "cell_type": "markdown",
   "id": "0c2a8966",
   "metadata": {
    "slideshow": {
     "slide_type": "fragment"
    }
   },
   "source": [
    "**QUESTIONAMENTO:** Todos os argumentos do construtor KMeans são hiperparâmetros?"
   ]
  },
  {
   "cell_type": "markdown",
   "id": "91cf80ab",
   "metadata": {
    "slideshow": {
     "slide_type": "subslide"
    }
   },
   "source": [
    "Em princípio, sim, mas na prática alguns desses argumentos não terão (ou terão um impacto mínimo) no resultado do algoritmo em condições normais. Os argumentos que são mais claramente hiperparâmetros são:"
   ]
  },
  {
   "cell_type": "markdown",
   "id": "0d154654",
   "metadata": {
    "slideshow": {
     "slide_type": "-"
    }
   },
   "source": [
    "```Python\n",
    "n_clusters, algorithm, tol\n",
    "```"
   ]
  },
  {
   "cell_type": "markdown",
   "id": "2c81ccce",
   "metadata": {
    "slideshow": {
     "slide_type": "fragment"
    }
   },
   "source": [
    "Os argumentos que claramente não são hiperparâmetros são:"
   ]
  },
  {
   "cell_type": "markdown",
   "id": "9bd3527e",
   "metadata": {
    "slideshow": {
     "slide_type": "-"
    }
   },
   "source": [
    "```Python\n",
    "verbose, precompute_distances, n_jobs\n",
    "```"
   ]
  },
  {
   "cell_type": "markdown",
   "id": "ed0753da",
   "metadata": {
    "slideshow": {
     "slide_type": "fragment"
    }
   },
   "source": [
    "Os argumentos restantes estão na área cinza. Em geral, é prudente experimentar seus dados reais para identificar quais argumentos afetam significativamente seus resultados."
   ]
  },
  {
   "cell_type": "markdown",
   "id": "a3a9bed1",
   "metadata": {
    "slideshow": {
     "slide_type": "subslide"
    }
   },
   "source": [
    "Vamos ajustar o conjunto de dados (b) com o hiperparâmetro `n_clusters` definido como 3 e exibir os resultados. Comparando com o ajuste de 2 *clusters* anteriores, a olho nu, o que você acha que é o número \"verdadeiro\" de *clusters*? Como você pode decidir entre 2 e 3 mais objetivamente?"
   ]
  },
  {
   "cell_type": "code",
   "execution_count": null,
   "id": "e3ccd394",
   "metadata": {
    "slideshow": {
     "slide_type": "-"
    }
   },
   "outputs": [],
   "source": []
  },
  {
   "cell_type": "markdown",
   "id": "dee27fd7",
   "metadata": {
    "slideshow": {
     "slide_type": "fragment"
    }
   },
   "source": [
    "O gráfico acima é um caso convincente (para mim, pelo menos) de que existem três grupos. No entanto, a \"verdade\" neste caso são dois *clusters*."
   ]
  },
  {
   "cell_type": "markdown",
   "id": "59dda070",
   "metadata": {
    "slideshow": {
     "slide_type": "subslide"
    }
   },
   "source": [
    "Isso ilustra os perigos de sobrepor um resultado de ajuste em seus dados: inevitavelmente \"chama sua atenção\" e torna o ajuste mais confiável. Procure exemplos disso ao ler jornais ou ouvir palestras!"
   ]
  },
  {
   "cell_type": "markdown",
   "id": "33fdeaa1",
   "metadata": {
    "slideshow": {
     "slide_type": "slide"
    }
   },
   "source": [
    "## 5. Agrupamento em várias dimensões"
   ]
  },
  {
   "cell_type": "markdown",
   "id": "ea356b3e",
   "metadata": {
    "slideshow": {
     "slide_type": "-"
    }
   },
   "source": [
    "Um algoritmo para encontrar clusters em dados 2D está apenas automatizando o que você já poderia fazer a olho nu. No entanto, a maioria dos algoritmos de agrupamento também funciona bem com dados dimensionais mais altos, onde os agrupamentos podem não ser visíveis em nenhuma projeção 2D única."
   ]
  },
  {
   "cell_type": "code",
   "execution_count": null,
   "id": "9fc11c99",
   "metadata": {
    "slideshow": {
     "slide_type": "subslide"
    }
   },
   "outputs": [],
   "source": []
  },
  {
   "cell_type": "markdown",
   "id": "7ccccb9e",
   "metadata": {
    "slideshow": {
     "slide_type": "subslide"
    }
   },
   "source": [
    "Esses *clusters* parecem bastante arbitrários em cada um dos gráficos de dispersão 2D. No entanto, eles estão realmente muito bem separados, como podemos ver se girarmos os eixos!"
   ]
  },
  {
   "cell_type": "code",
   "execution_count": null,
   "id": "335f9ab5",
   "metadata": {
    "slideshow": {
     "slide_type": "subslide"
    }
   },
   "outputs": [],
   "source": []
  },
  {
   "cell_type": "markdown",
   "id": "a52f4f81",
   "metadata": {
    "slideshow": {
     "slide_type": "subslide"
    }
   },
   "source": [
    "Este exemplo é artificial, mas a lição é que os algoritmos de clustering podem descobrir uma estrutura de dimensão superior que você pode perder com a visualização!"
   ]
  },
  {
   "cell_type": "markdown",
   "id": "a7deeb36",
   "metadata": {
    "slideshow": {
     "slide_type": "slide"
    }
   },
   "source": [
    "## 6. Anatomia de um algoritmo de Machine Learning"
   ]
  },
  {
   "cell_type": "markdown",
   "id": "7b41855d",
   "metadata": {
    "slideshow": {
     "slide_type": "-"
    }
   },
   "source": [
    "Agora que apresentamos nosso primeiro algoritmo de ML, este é um bom momento para alguns comentários gerais."
   ]
  },
  {
   "cell_type": "markdown",
   "id": "22992e36",
   "metadata": {
    "slideshow": {
     "slide_type": "-"
    }
   },
   "source": [
    "A maioria dos algoritmos de ML tem alguns recursos comuns:"
   ]
  },
  {
   "cell_type": "markdown",
   "id": "b4565765",
   "metadata": {
    "slideshow": {
     "slide_type": "-"
    }
   },
   "source": [
    "- Eles procuram maximizar (ou minimizar) alguma função objetivo $f(\\theta,D)$ dos dados (fixos) $D$, para alguns parâmetros (desconhecidos).\n",
    "\n",
    "- A função objetivo incorpora algum modelo (talvez apenas implicitamente) de como se espera que os dados se pareçam."
   ]
  },
  {
   "cell_type": "markdown",
   "id": "5168f82e",
   "metadata": {
    "slideshow": {
     "slide_type": "subslide"
    }
   },
   "source": [
    "A função objetivo do algoritmo KMeans é:"
   ]
  },
  {
   "cell_type": "markdown",
   "id": "d4d59c7a",
   "metadata": {
    "slideshow": {
     "slide_type": "-"
    }
   },
   "source": [
    "$$\\boxed{\\sum_{i=1}^{n}\\sum_{c_{j}=1}|x_{j}-\\mu_{i}|^{2}}$$"
   ]
  },
  {
   "cell_type": "markdown",
   "id": "fba75d43",
   "metadata": {
    "slideshow": {
     "slide_type": "-"
    }
   },
   "source": [
    "onde $c_{j}=1$ se o *sample* $j$ for atribuído ao *cluster* $i$ e $c_{j}=0$ caso contrário. Além disso"
   ]
  },
  {
   "cell_type": "markdown",
   "id": "da20eb1b",
   "metadata": {
    "slideshow": {
     "slide_type": "-"
    }
   },
   "source": [
    "$$\\boxed{\\mu_{i}=\\sum_{c_{j}=1}x_{j}}$$"
   ]
  },
  {
   "cell_type": "markdown",
   "id": "c94164c6",
   "metadata": {
    "slideshow": {
     "slide_type": "-"
    }
   },
   "source": [
    "é a média das amostras atribuídas ao *cluster* $i$. A soma externa é sobre o número de clusters $n$ e os índices dos *samples* $j$. Se considerarmos o *sample* $x_{j}$ para ser um vetor, então seus elementos são os valores das *features*."
   ]
  },
  {
   "cell_type": "markdown",
   "id": "e9b5b259",
   "metadata": {
    "slideshow": {
     "slide_type": "subslide"
    }
   },
   "source": [
    "**QUESTIONAMENTO:** Quais são os parâmetros da função objetivo do KMeans? Quantos parâmetros existem?"
   ]
  },
  {
   "cell_type": "markdown",
   "id": "8741bc46",
   "metadata": {
    "slideshow": {
     "slide_type": "fragment"
    }
   },
   "source": [
    "Os parâmetros são os valores binários $c_{j}$ e há um por amostra (linha). Observe que o número de parâmetros é independente do número de recursos (colunas) nos dados."
   ]
  },
  {
   "cell_type": "markdown",
   "id": "101a7657",
   "metadata": {
    "slideshow": {
     "slide_type": "-"
    }
   },
   "source": [
    "O número de clusters $n$ é um hiperparâmetro, pois é definido externamente e não ajustado pelo algoritmo em resposta aos dados."
   ]
  },
  {
   "cell_type": "markdown",
   "id": "7ac16b6b",
   "metadata": {
    "slideshow": {
     "slide_type": "-"
    }
   },
   "source": [
    "As médias $\\mu_{i}$ não são parâmetros independentes, pois seus valores são fixados pelo valores $c_{j}$ (fornecido nos dados)."
   ]
  },
  {
   "cell_type": "markdown",
   "id": "f6391b55",
   "metadata": {
    "slideshow": {
     "slide_type": "slide"
    }
   },
   "source": [
    "## 7. Supervisionado vs Não supervisionado"
   ]
  },
  {
   "cell_type": "markdown",
   "id": "d0858615",
   "metadata": {
    "slideshow": {
     "slide_type": "-"
    }
   },
   "source": [
    "Os algoritmos de ML vêm em dois tipos, dependendo se eles exigem alguns dados de treinamento em que você já sabe a resposta (\"supervisionado\") ou não (\"não supervisionado\"). Os algoritmos de agrupamento não são supervisionados."
   ]
  },
  {
   "cell_type": "markdown",
   "id": "6aea8c76",
   "metadata": {
    "slideshow": {
     "slide_type": "-"
    }
   },
   "source": [
    "Uma vantagem do ML não supervisionado é que ele funciona com qualquer dado de entrada e pode descobrir padrões que talvez você ainda não conheça (como no exemplo 3D acima). Mesmo quando você tem dados de treinamento disponíveis, um algoritmo não supervisionado ainda pode ser útil."
   ]
  },
  {
   "cell_type": "markdown",
   "id": "f2790a82",
   "metadata": {
    "slideshow": {
     "slide_type": "-"
    }
   },
   "source": [
    "A desvantagem do aprendizado não supervisionado é que não podemos formular medidas objetivas para o desempenho de um algoritmo, de modo que os resultados são sempre um pouco subjetivos."
   ]
  },
  {
   "cell_type": "markdown",
   "id": "ebc1f231",
   "metadata": {
    "slideshow": {
     "slide_type": "slide"
    }
   },
   "source": [
    "## 8. Maximização da expectativa"
   ]
  },
  {
   "cell_type": "markdown",
   "id": "74ba9971",
   "metadata": {
    "slideshow": {
     "slide_type": "-"
    }
   },
   "source": [
    "O algoritmo KMeans usa uma solução iterativa baseada no princípio [*Expectation-Maximization (EM)*](https://en.wikipedia.org/wiki/Expectation–maximization_algorithm). Esta é uma abordagem poderosa usada por muitos algoritmos, que revisaremos várias vezes durante o curso e você explorará mais em uma tarefa de casa."
   ]
  },
  {
   "cell_type": "markdown",
   "id": "99819ce8",
   "metadata": {
    "slideshow": {
     "slide_type": "slide"
    }
   },
   "source": [
    "## 9. Outros métodos de agrupamento"
   ]
  },
  {
   "cell_type": "markdown",
   "id": "fc3735c3",
   "metadata": {
    "slideshow": {
     "slide_type": "-"
    }
   },
   "source": [
    "Nós nos concentramos no KMeans como um algoritmo de agrupamento prototípico, mas [há muitos outros para escolher](https://scikit-learn.org/stable/auto_examples/cluster/plot_cluster_comparison.html)."
   ]
  },
  {
   "cell_type": "markdown",
   "id": "432751b7",
   "metadata": {
    "slideshow": {
     "slide_type": "-"
    }
   },
   "source": [
    "Terminaremos esta seção com algumas breves experiências com duas alternativas que usam mais informações globais que o KMeans, portanto, são mais adequadas aos exemplos (c) e (d) acima:"
   ]
  },
  {
   "cell_type": "markdown",
   "id": "839f99a4",
   "metadata": {
    "slideshow": {
     "slide_type": "-"
    }
   },
   "source": [
    "- [Agrupamento espectral](https://en.wikipedia.org/wiki/Spectral_clustering): [`sklearn`](https://scikit-learn.org/stable/modules/generated/sklearn.cluster.SpectralClustering.html).\n",
    "\n",
    "- [Agrupamento espacial de aplicações com ruído baseado em densidade (DBSCAN)](https://en.wikipedia.org/wiki/DBSCAN): [`sklearn`](https://scikit-learn.org/stable/modules/clustering.html#spectral-clustering)."
   ]
  },
  {
   "cell_type": "markdown",
   "id": "b2440f11",
   "metadata": {
    "slideshow": {
     "slide_type": "subslide"
    }
   },
   "source": [
    "Vamos usar `cluster.SpectralClustering` para ajustar `c_data` e `d_data` e exibir os resultados. "
   ]
  },
  {
   "cell_type": "code",
   "execution_count": null,
   "id": "1e526db7",
   "metadata": {
    "slideshow": {
     "slide_type": "-"
    }
   },
   "outputs": [],
   "source": []
  },
  {
   "cell_type": "code",
   "execution_count": null,
   "id": "2063dbcf",
   "metadata": {
    "slideshow": {
     "slide_type": "subslide"
    }
   },
   "outputs": [],
   "source": []
  },
  {
   "cell_type": "markdown",
   "id": "066710ca",
   "metadata": {
    "slideshow": {
     "slide_type": "subslide"
    }
   },
   "source": [
    "Usemos agora `cluster.DBSCAN` para ajustar `c_data` e `d_data` e exibir os resultados. "
   ]
  },
  {
   "cell_type": "code",
   "execution_count": null,
   "id": "aeef7bff",
   "metadata": {
    "slideshow": {
     "slide_type": "-"
    }
   },
   "outputs": [],
   "source": []
  },
  {
   "cell_type": "code",
   "execution_count": null,
   "id": "f071f360",
   "metadata": {
    "slideshow": {
     "slide_type": "subslide"
    }
   },
   "outputs": [],
   "source": []
  },
  {
   "cell_type": "markdown",
   "id": "e47983ba",
   "metadata": {
    "slideshow": {
     "slide_type": "slide"
    }
   },
   "source": [
    "![image](https://c.tenor.com/hEOM8E4epvgAAAAC/hahaha-thats-all-folks.gif)"
   ]
  },
  {
   "cell_type": "markdown",
   "id": "8f6436f2",
   "metadata": {
    "slideshow": {
     "slide_type": "-"
    }
   },
   "source": [
    "---"
   ]
  },
  {
   "cell_type": "markdown",
   "id": "2c44cc9e",
   "metadata": {
    "slideshow": {
     "slide_type": "slide"
    }
   },
   "source": [
    "## Para se divertir!"
   ]
  },
  {
   "cell_type": "markdown",
   "id": "132cbb75",
   "metadata": {
    "slideshow": {
     "slide_type": "-"
    }
   },
   "source": [
    "- [Lista de problemas #03](https://github.com/GabrielWendell/Intro_ML/blob/main/Listas/Problemas3.ipynb)"
   ]
  },
  {
   "cell_type": "markdown",
   "id": "1ee537aa",
   "metadata": {
    "slideshow": {
     "slide_type": "-"
    }
   },
   "source": [
    "---"
   ]
  }
 ],
 "metadata": {
  "celltoolbar": "Slideshow",
  "kernelspec": {
   "display_name": "Python 3 (ipykernel)",
   "language": "python",
   "name": "python3"
  },
  "language_info": {
   "codemirror_mode": {
    "name": "ipython",
    "version": 3
   },
   "file_extension": ".py",
   "mimetype": "text/x-python",
   "name": "python",
   "nbconvert_exporter": "python",
   "pygments_lexer": "ipython3",
   "version": "3.9.8"
  }
 },
 "nbformat": 4,
 "nbformat_minor": 5
}
