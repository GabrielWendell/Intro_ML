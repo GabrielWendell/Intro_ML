{
 "cells": [
  {
   "cell_type": "markdown",
   "id": "847c1ed6",
   "metadata": {
    "slideshow": {
     "slide_type": "slide"
    }
   },
   "source": [
    "\n",
    "# Uma breve introdução ao Machine Learning: Dia 1"
   ]
  },
  {
   "cell_type": "markdown",
   "id": "02072ad9",
   "metadata": {
    "slideshow": {
     "slide_type": "-"
    }
   },
   "source": [
    "Gabriel Wendell Celestino Rocha"
   ]
  },
  {
   "cell_type": "markdown",
   "id": "3ee7e6a6",
   "metadata": {
    "slideshow": {
     "slide_type": "skip"
    }
   },
   "source": [
    "Material de um minicurso de introdução ao Machine Learning oferecido pelo [PET - Física](https://petfisica.home.blog)."
   ]
  },
  {
   "cell_type": "markdown",
   "id": "fa2c4b4d",
   "metadata": {
    "slideshow": {
     "slide_type": "skip"
    }
   },
   "source": [
    "O conteúdo é mantido no [GitHub](https://github.com/GabrielWendell/Intro_ML) e distribuídos sob uma [licença BSD3](https://opensource.org/licenses/BSD-3-Clause)."
   ]
  },
  {
   "cell_type": "markdown",
   "id": "afeea038",
   "metadata": {
    "slideshow": {
     "slide_type": "skip"
    }
   },
   "source": [
    "- [Veja a tabela de conteúdos](https://github.com/GabrielWendell/Intro_ML/blob/main/Infomações/Conteúdos.ipynb)"
   ]
  },
  {
   "cell_type": "markdown",
   "id": "654cb668",
   "metadata": {
    "slideshow": {
     "slide_type": "skip"
    }
   },
   "source": [
    "Este `Notebook` pode, opcionalmente, ser visto como uma [apresentação de slides](https://medium.com/learning-machine-learning/present-your-data-science-projects-with-jupyter-slides-75f20735eb0f). Para apresentar os slides localmente, use:"
   ]
  },
  {
   "cell_type": "markdown",
   "id": "6dafaaaf",
   "metadata": {
    "slideshow": {
     "slide_type": "skip"
    }
   },
   "source": [
    "```Python\n",
    "$ jupyter nbconvert Dia1.ipynb --to slides --post serve\n",
    "```"
   ]
  },
  {
   "cell_type": "markdown",
   "id": "26cfe5b7",
   "metadata": {},
   "source": [
    "---"
   ]
  },
  {
   "cell_type": "markdown",
   "id": "66e9d125",
   "metadata": {
    "slideshow": {
     "slide_type": "slide"
    }
   },
   "source": [
    "## 1. Introdução teórica"
   ]
  },
  {
   "cell_type": "markdown",
   "id": "ea4d68b0",
   "metadata": {
    "slideshow": {
     "slide_type": "slide"
    }
   },
   "source": [
    "### O que é *Machine Learning*?"
   ]
  },
  {
   "cell_type": "markdown",
   "id": "46d82752",
   "metadata": {
    "slideshow": {
     "slide_type": "-"
    }
   },
   "source": [
    "O aprendizado de máquina (ou *machine learning*) consiste em usar **máquinas** para **aprender** a explicar dados com modelos."
   ]
  },
  {
   "cell_type": "markdown",
   "id": "3b03ecdf",
   "metadata": {
    "slideshow": {
     "slide_type": "-"
    }
   },
   "source": [
    "As \"máquinas\" responsáveis pela maior parte do progresso no ML são:"
   ]
  },
  {
   "cell_type": "markdown",
   "id": "687a11b7",
   "metadata": {
    "slideshow": {
     "slide_type": "-"
    }
   },
   "source": [
    "- algorítmos de softwares;\n",
    "- arquitetura de hardware;\n",
    "- ingenuidade humana."
   ]
  },
  {
   "cell_type": "markdown",
   "id": "6b9b1765",
   "metadata": {
    "slideshow": {
     "slide_type": "-"
    }
   },
   "source": [
    "O \"aprendizado\" consiste em identificar passivamente as correlações estatísticas, o que é muito diferente de como aprendemos com a experimentação ativa e identificamos relações causais."
   ]
  },
  {
   "cell_type": "markdown",
   "id": "5a34533d",
   "metadata": {
    "slideshow": {
     "slide_type": "subslide"
    }
   },
   "source": [
    "![image](https://media.giphy.com/media/DdEQhAyWEmXhMcZPiD/giphy.gif)"
   ]
  },
  {
   "cell_type": "markdown",
   "id": "e06d938c",
   "metadata": {
    "slideshow": {
     "slide_type": "subslide"
    }
   },
   "source": [
    "![image](https://media.giphy.com/media/6MGbVzyOy7e3sBkTuz/giphy.gif)"
   ]
  },
  {
   "cell_type": "markdown",
   "id": "7e56a1f2",
   "metadata": {
    "slideshow": {
     "slide_type": "slide"
    }
   },
   "source": [
    "### O que são *dados*?"
   ]
  },
  {
   "cell_type": "markdown",
   "id": "fbde9f89",
   "metadata": {
    "slideshow": {
     "slide_type": "-"
    }
   },
   "source": [
    "Dados são um conjunto finito de medidas:"
   ]
  },
  {
   "cell_type": "markdown",
   "id": "c79d9907",
   "metadata": {
    "slideshow": {
     "slide_type": "-"
    }
   },
   "source": [
    "- Geralmente vistos como uma tabela 2D, por exemplo, planilhas, [tabelas `FITS`](https://docs.astropy.org/en/stable/io/fits/usage/table.html), [dataframes `Pandas`](https://pandas.pydata.org/pandas-docs/stable/reference/api/pandas.DataFrame.html), ...\n",
    "\n",
    "- **Colunas = Características/Recursos (*features*)**\n",
    "\n",
    "- **Linhas = Amostras/Observações (*samples*)**\n",
    "\n",
    "- Estruturas de dados mais ricas (imagens, [árvores ROOT](https://root.cern/doc/master/#trees), etc) devem ser achatadas (*flattened*)."
   ]
  },
  {
   "cell_type": "markdown",
   "id": "e4f51665",
   "metadata": {
    "slideshow": {
     "slide_type": "subslide"
    }
   },
   "source": [
    "![image](img/data-table.png/)"
   ]
  },
  {
   "cell_type": "markdown",
   "id": "d70d911d",
   "metadata": {
    "slideshow": {
     "slide_type": "subslide"
    }
   },
   "source": [
    "Perguntas pertinentes a se fazer sobre os seus dados:"
   ]
  },
  {
   "cell_type": "markdown",
   "id": "01d08075",
   "metadata": {
    "slideshow": {
     "slide_type": "-"
    }
   },
   "source": [
    "- Minhas características são categóricas/discretas/contínuas? O pedido das minhas amostras é significativo?\n",
    "\n",
    "- Minhas amostras são estatisticamente independentes? São extraídas da mesma distribuição?\n",
    "\n",
    "- Quais são minhas incertezas de medição?\n",
    "\n",
    "- Meus dados estão armazenados/descombinados?\n",
    "\n",
    "- Existe uma medida natural de similaridade/distância nas minhas amostras (linhas)?"
   ]
  },
  {
   "cell_type": "markdown",
   "id": "4ae1204f",
   "metadata": {
    "slideshow": {
     "slide_type": "slide"
    }
   },
   "source": [
    "### O que é um *modelo*?"
   ]
  },
  {
   "cell_type": "markdown",
   "id": "cee3b113",
   "metadata": {
    "slideshow": {
     "slide_type": "-"
    }
   },
   "source": [
    "Existem dois tipos importantes de modelos: *generativos* e *probabilísticos*."
   ]
  },
  {
   "cell_type": "markdown",
   "id": "a249b6a7",
   "metadata": {
    "slideshow": {
     "slide_type": "-"
    }
   },
   "source": [
    "Todos os algorítmos de ML usam um modelo para explicar os seus dados. "
   ]
  },
  {
   "cell_type": "markdown",
   "id": "17327090",
   "metadata": {
    "slideshow": {
     "slide_type": "-"
    }
   },
   "source": [
    "Os modelos têm parâmetros."
   ]
  },
  {
   "cell_type": "markdown",
   "id": "f6800f23",
   "metadata": {
    "slideshow": {
     "slide_type": "subslide"
    }
   },
   "source": [
    "![image](img/models1.png)"
   ]
  },
  {
   "cell_type": "markdown",
   "id": "7bad2b41",
   "metadata": {
    "slideshow": {
     "slide_type": "subslide"
    }
   },
   "source": [
    "![image](img/models2.png)"
   ]
  },
  {
   "cell_type": "markdown",
   "id": "ae1c3e49",
   "metadata": {
    "slideshow": {
     "slide_type": "slide"
    }
   },
   "source": [
    "### O que é o *aprendizado*?"
   ]
  },
  {
   "cell_type": "markdown",
   "id": "e164c87d",
   "metadata": {
    "slideshow": {
     "slide_type": "-"
    }
   },
   "source": [
    "Existem três grandes tipos de aprendizagem:"
   ]
  },
  {
   "cell_type": "markdown",
   "id": "9d69aefd",
   "metadata": {
    "slideshow": {
     "slide_type": "fragment"
    }
   },
   "source": [
    "- **Sem supervisão: aprenda a prever novos dados.**\n",
    "> - Dados fornecidos: que padrões estão presentes? (aprender um modelo)\n",
    "> - Dados fornecidos e modelos: qual a probabilidade de novos dados serem do mesmo modelo? (gerar novos dados)."
   ]
  },
  {
   "cell_type": "markdown",
   "id": "39adbfe4",
   "metadata": {
    "slideshow": {
     "slide_type": "subslide"
    }
   },
   "source": [
    "- **Supervisionado: Aprenda a prever recursos específicos de novos dados.**\n",
    "> - Classificação: prever características discretas (aprender um modelo condicional).\n",
    "> - Regressão: preveja recursos contínuos (aprenda um modelo condicional)."
   ]
  },
  {
   "cell_type": "markdown",
   "id": "0fd49d8c",
   "metadata": {
    "slideshow": {
     "slide_type": "fragment"
    }
   },
   "source": [
    "- **Inferência: explicar os dados observados.**\n",
    "> - Assumindo um modelo: quais parâmetros (com quais incertezas) melhor descrevem meus dados? (aprender um modelo).\n",
    "> - Dados os modelos concorrentes: qual melhor descreve meus dados? (seleção do modelo)."
   ]
  },
  {
   "cell_type": "markdown",
   "id": "a3c5d0d5",
   "metadata": {
    "slideshow": {
     "slide_type": "-"
    }
   },
   "source": [
    "Há também o chamado de aprendizado por reforço!"
   ]
  },
  {
   "cell_type": "markdown",
   "id": "70be74fa",
   "metadata": {
    "slideshow": {
     "slide_type": "slide"
    }
   },
   "source": [
    "### Problemas de benchmark no ML"
   ]
  },
  {
   "cell_type": "markdown",
   "id": "5adafe30",
   "metadata": {
    "slideshow": {
     "slide_type": "-"
    }
   },
   "source": [
    "O progresso no ML se beneficiou enormemente dos conjuntos de dados públicos padrão."
   ]
  },
  {
   "cell_type": "markdown",
   "id": "c74a7e61",
   "metadata": {
    "slideshow": {
     "slide_type": "subslide"
    }
   },
   "source": [
    "- MNIST.\n",
    "> - Imagens em escala de cinza de 70K 23x23 pixels de dígitos manuscritos.\n",
    "> - Rotulado como 0 - 9.\n",
    "\n",
    "- CIFAR-10\n",
    "> - Imagens naturais RGB de 60K 32x32 pixels.\n",
    "> - Rotulado como aviões, carros, pássaros, gatos, veados, cães, sapos, cavalos, navios, caminhões, ...\n",
    "\n",
    "- ImageNet\n",
    "> - 200K de tamanho variável (média 469x387) de imagens naturais RGB.\n",
    "> - Rotulado com 1000 categorias (incluindo 90 raças de cães!)."
   ]
  },
  {
   "cell_type": "markdown",
   "id": "49626c2c",
   "metadata": {
    "slideshow": {
     "slide_type": "slide"
    }
   },
   "source": [
    "### Qual a linguaguem do ML?"
   ]
  },
  {
   "cell_type": "markdown",
   "id": "dbcfd3ab",
   "metadata": {
    "slideshow": {
     "slide_type": "-"
    }
   },
   "source": [
    "- C++?\n",
    "- Python?\n",
    "- R?\n",
    "- Julia?\n",
    "- Javascript?\n",
    "- Swift?"
   ]
  },
  {
   "cell_type": "markdown",
   "id": "32fa4e6a",
   "metadata": {
    "slideshow": {
     "slide_type": "fragment"
    }
   },
   "source": [
    "**RESPOSTA:** \n",
    "- Estatística!"
   ]
  },
  {
   "cell_type": "markdown",
   "id": "62910b30",
   "metadata": {
    "slideshow": {
     "slide_type": "subslide"
    }
   },
   "source": [
    "![image](img/img.png)"
   ]
  },
  {
   "cell_type": "markdown",
   "id": "d346db88",
   "metadata": {
    "slideshow": {
     "slide_type": "-"
    }
   },
   "source": [
    "- Kingma & Welling, \"*Auto-Encoding Variational Bayes*\", arxiv:**1312.6114**"
   ]
  },
  {
   "cell_type": "markdown",
   "id": "5b37b0a1",
   "metadata": {
    "slideshow": {
     "slide_type": "slide"
    }
   },
   "source": [
    "### O que há de especial no ML em Física?"
   ]
  },
  {
   "cell_type": "markdown",
   "id": "87c837f2",
   "metadata": {
    "slideshow": {
     "slide_type": "-"
    }
   },
   "source": [
    "As aplicações científicas do ML se beneficiam muito dos avanços da indústria, mas trabalhamos em um contexto diferente:"
   ]
  },
  {
   "cell_type": "markdown",
   "id": "a563acaf",
   "metadata": {
    "slideshow": {
     "slide_type": "subslide"
    }
   },
   "source": [
    "- Somos produtores de dados, não consumidores de dados:\n",
    "> - Projeto de experimento/pesquisa.\n",
    "> - Otimização de erros estatísticos.\n",
    "> - Controle de erros sistemáticos."
   ]
  },
  {
   "cell_type": "markdown",
   "id": "f3b77522",
   "metadata": {
    "slideshow": {
     "slide_type": "fragment"
    }
   },
   "source": [
    "- Nossos dados medem processos físicos:\n",
    "> - As medições geralmente se reduzem à contagem de fótons, etc., com erros aleatórios a priori conhecidos.\n",
    "> - Dimensões e unidades são importantes."
   ]
  },
  {
   "cell_type": "markdown",
   "id": "7b3eb85a",
   "metadata": {
    "slideshow": {
     "slide_type": "subslide"
    }
   },
   "source": [
    "- Nossos modelos geralmente são rastreáveis a uma teoria física subjacente:\n",
    "> - Modelos limitados pela teoria e observações anteriores.\n",
    "> - Os valores dos parâmetros geralmente são intrinsecamente interessantes."
   ]
  },
  {
   "cell_type": "markdown",
   "id": "f7abdda0",
   "metadata": {
    "slideshow": {
     "slide_type": "fragment"
    }
   },
   "source": [
    "- Uma estimativa de incerteza de parâmetro é tão importante quanto seu valor:\n",
    "> - Prefira métodos que lidem com incertezas de dados de entrada (pesos) e forneçam estimativas de incerteza de parâmetros de saída."
   ]
  },
  {
   "cell_type": "markdown",
   "id": "3637069e",
   "metadata": {
    "slideshow": {
     "slide_type": "slide"
    }
   },
   "source": [
    "### No que isso se diferencia de uma aula de Estatística Computacional?"
   ]
  },
  {
   "cell_type": "markdown",
   "id": "9a23e4d5",
   "metadata": {
    "slideshow": {
     "slide_type": "-"
    }
   },
   "source": [
    "Estudantes de física têm uma preparação diferente:"
   ]
  },
  {
   "cell_type": "markdown",
   "id": "d1d8e734",
   "metadata": {
    "slideshow": {
     "slide_type": "-"
    }
   },
   "source": [
    "- Forte formação e experiência com ferramentas matemáticas (álgebra linear, cálculo multivariado) necessárias para uma discussão rigorosa de estatística.\n",
    "- Experiência fraca / variada em tópicos tradicionais de estatística computacional de algoritmos fundamentais, bancos de dados, etc."
   ]
  },
  {
   "cell_type": "markdown",
   "id": "9518d8f9",
   "metadata": {
    "slideshow": {
     "slide_type": "subslide"
    }
   },
   "source": [
    "As diversas pesquisas também tem necessidades diferentes:"
   ]
  },
  {
   "cell_type": "markdown",
   "id": "f3e9a075",
   "metadata": {
    "slideshow": {
     "slide_type": "-"
    }
   },
   "source": [
    "- Nossos dados e modelos geralmente são fundamentalmente diferentes daqueles em contextos típicos de CS.\n",
    "- Fazemos diferentes tipos de perguntas sobre nossos dados, às vezes exigindo novos métodos.\n",
    "- Temos diferentes prioridades para julgar um método \"bom\": interpretabilidade, estimativas de erro, etc."
   ]
  },
  {
   "cell_type": "markdown",
   "id": "50495562",
   "metadata": {
    "slideshow": {
     "slide_type": "slide"
    }
   },
   "source": [
    "![image](img/outline.png)"
   ]
  },
  {
   "cell_type": "markdown",
   "id": "167d5c44",
   "metadata": {
    "slideshow": {
     "slide_type": "slide"
    }
   },
   "source": [
    "Leitura adicional:"
   ]
  },
  {
   "cell_type": "markdown",
   "id": "5e43fa56",
   "metadata": {},
   "source": [
    "- [Data mining and statistics: what's the connection?](https://jerryfriedman.su.domains/ftp/dm-stat.pdf)\n",
    "- [The rise of the \"data engineer\"](https://medium.com/free-code-camp/the-rise-of-the-data-engineer-91be18f1e603)\n",
    "- [The Actual Difference Between Statistics and Machine Learning](https://towardsdatascience.com/the-actual-difference-between-statistics-and-machine-learning-64b49f07ea3)\n",
    "- [No, Machine Learning is not just glorified Statistics](https://towardsdatascience.com/no-machine-learning-is-not-just-glorified-statistics-26d3952234e3)\n",
    "\n",
    "> - `Python` $\\iff$ `R` $\\iff$ `Julia` "
   ]
  },
  {
   "cell_type": "markdown",
   "id": "248d828c",
   "metadata": {},
   "source": [
    "---"
   ]
  },
  {
   "cell_type": "markdown",
   "id": "bcbbce65",
   "metadata": {
    "slideshow": {
     "slide_type": "slide"
    }
   },
   "source": [
    "## 2. Colocando a mão na massa!"
   ]
  },
  {
   "cell_type": "markdown",
   "id": "7dd4a651",
   "metadata": {
    "slideshow": {
     "slide_type": "subslide"
    }
   },
   "source": [
    "### Recapitulando..."
   ]
  },
  {
   "cell_type": "markdown",
   "id": "536c7aa9",
   "metadata": {
    "slideshow": {
     "slide_type": "-"
    }
   },
   "source": [
    "### Categorias"
   ]
  },
  {
   "cell_type": "markdown",
   "id": "ff919b88",
   "metadata": {
    "slideshow": {
     "slide_type": "-"
    }
   },
   "source": [
    "**Supervisionado:**\n",
    "- Classificação (ex: árvores de decisão)\n",
    "- Regressão (ex: regressão linear)"
   ]
  },
  {
   "cell_type": "markdown",
   "id": "1e0aea4c",
   "metadata": {
    "slideshow": {
     "slide_type": "-"
    }
   },
   "source": [
    "**Não supervisionado:**\n",
    "\n",
    "- Clusterização (ex: *$k$-means*)\n",
    "- Redução de Dimensionalidade (ex: PCA)\n",
    "- Detecção de Anomalias (ex: floresta de isolamento)"
   ]
  },
  {
   "cell_type": "markdown",
   "id": "65ff5c89",
   "metadata": {
    "slideshow": {
     "slide_type": "subslide"
    }
   },
   "source": [
    "### Vocabulário"
   ]
  },
  {
   "cell_type": "markdown",
   "id": "c1e5aac4",
   "metadata": {
    "slideshow": {
     "slide_type": "-"
    }
   },
   "source": [
    "- *Samples* (Amostras): linhas\n",
    "- *Features* (Características): colunas\n",
    "- Matriz de *features*: `(n_samples, n_features)`\n",
    "- *Label*/*Target* (Rótulo): variável dependente"
   ]
  },
  {
   "cell_type": "markdown",
   "id": "d630da75",
   "metadata": {
    "slideshow": {
     "slide_type": "subslide"
    }
   },
   "source": [
    "### Python aplicado ao ML: `scikit-learn`"
   ]
  },
  {
   "cell_type": "markdown",
   "id": "f7ee7a6e",
   "metadata": {
    "slideshow": {
     "slide_type": "-"
    }
   },
   "source": [
    "**Para todo tipo de dúvidas e informações adicionais, veja a documentação em <https://scikit-learn.org/stable/index.html>.**"
   ]
  },
  {
   "cell_type": "markdown",
   "id": "0e2d7458",
   "metadata": {},
   "source": [
    "#### Instalação:"
   ]
  },
  {
   "cell_type": "markdown",
   "id": "1d2c5a75",
   "metadata": {},
   "source": [
    "- Usando o `pip`:\n",
    "> ```\n",
    "$ pip install scikit-learn\n",
    "```\n",
    "\n",
    "- Usando o `conda`:\n",
    "> ```\n",
    "$ !conda install scikit-learn\n",
    "```"
   ]
  },
  {
   "cell_type": "code",
   "execution_count": 3,
   "id": "dd00b1e5",
   "metadata": {
    "slideshow": {
     "slide_type": "subslide"
    }
   },
   "outputs": [
    {
     "data": {
      "text/plain": [
       "'1.0.2'"
      ]
     },
     "execution_count": 3,
     "metadata": {},
     "output_type": "execute_result"
    }
   ],
   "source": [
    "import matplotlib.pyplot as plt\n",
    "import pandas as pd\n",
    "import numpy as np\n",
    "\n",
    "%matplotlib notebook\n",
    "\n",
    "def opt_plot():\n",
    "    plt.style.use('dark_background')\n",
    "    plt.grid(True, linestyle=':', color='0.50')\n",
    "    plt.minorticks_on()\n",
    "    plt.tick_params(axis='both',which='minor', direction = \"in\",\n",
    "                        top = True,right = True, length=5,width=1,labelsize=15)\n",
    "    plt.tick_params(axis='both',which='major', direction = \"in\",\n",
    "                        top = True,right = True, length=8,width=1,labelsize=15)\n",
    "    \n",
    "sklearn.__version__"
   ]
  },
  {
   "cell_type": "markdown",
   "id": "09785aab",
   "metadata": {
    "slideshow": {
     "slide_type": "slide"
    }
   },
   "source": [
    "## 2.1 Regressão linear"
   ]
  },
  {
   "cell_type": "markdown",
   "id": "76a60b52",
   "metadata": {
    "slideshow": {
     "slide_type": "-"
    }
   },
   "source": [
    "Nesse exemplo, mostramos o caso comum de encontrar a reta que melhor representa um conjunto de dados $(x,y)$ para perceber o passo a passo geral para todos os metodos do `sklearn`."
   ]
  },
  {
   "cell_type": "code",
   "execution_count": null,
   "id": "bf91f7ac",
   "metadata": {
    "slideshow": {
     "slide_type": "-"
    }
   },
   "outputs": [],
   "source": []
  },
  {
   "cell_type": "markdown",
   "id": "5e406256",
   "metadata": {
    "slideshow": {
     "slide_type": "subslide"
    }
   },
   "source": [
    "### Passo 1: Escolher um modelo"
   ]
  },
  {
   "cell_type": "code",
   "execution_count": null,
   "id": "a99d998f",
   "metadata": {
    "slideshow": {
     "slide_type": "-"
    }
   },
   "outputs": [],
   "source": []
  },
  {
   "cell_type": "markdown",
   "id": "2b4ab844",
   "metadata": {
    "slideshow": {
     "slide_type": "subslide"
    }
   },
   "source": [
    "### Passo 2: Inicializar modelo (hiperparâmetros)"
   ]
  },
  {
   "cell_type": "markdown",
   "id": "3dc9c8e1",
   "metadata": {
    "slideshow": {
     "slide_type": "-"
    }
   },
   "source": [
    "- `LinearRegression` so tem dois hiperparametros ajustaveis: `fit_intercept` e `normalize`.\n",
    "- Para cada modelo novo, confira a documentacao com o comando `?` para entender cada hiperparametro!"
   ]
  },
  {
   "cell_type": "code",
   "execution_count": null,
   "id": "4144d281",
   "metadata": {
    "slideshow": {
     "slide_type": "-"
    }
   },
   "outputs": [],
   "source": []
  },
  {
   "cell_type": "markdown",
   "id": "b3738232",
   "metadata": {
    "slideshow": {
     "slide_type": "subslide"
    }
   },
   "source": [
    "### Passo 3: Organizar os dados"
   ]
  },
  {
   "cell_type": "code",
   "execution_count": null,
   "id": "6d615aef",
   "metadata": {
    "slideshow": {
     "slide_type": "-"
    }
   },
   "outputs": [],
   "source": []
  },
  {
   "cell_type": "code",
   "execution_count": null,
   "id": "4e6532d3",
   "metadata": {
    "slideshow": {
     "slide_type": "-"
    }
   },
   "outputs": [],
   "source": []
  },
  {
   "cell_type": "markdown",
   "id": "3b8b61da",
   "metadata": {
    "slideshow": {
     "slide_type": "subslide"
    }
   },
   "source": [
    "### Passo 4: Treinar o modelo (fit)"
   ]
  },
  {
   "cell_type": "markdown",
   "id": "33be361b",
   "metadata": {
    "slideshow": {
     "slide_type": "-"
    }
   },
   "source": [
    "Após o treino, alguns parametros da regressao passam a existir..."
   ]
  },
  {
   "cell_type": "markdown",
   "id": "150ce322",
   "metadata": {},
   "source": [
    "#### Coeficiente angular:"
   ]
  },
  {
   "cell_type": "code",
   "execution_count": null,
   "id": "3bc0a798",
   "metadata": {
    "slideshow": {
     "slide_type": "-"
    }
   },
   "outputs": [],
   "source": []
  },
  {
   "cell_type": "markdown",
   "id": "35f74028",
   "metadata": {
    "slideshow": {
     "slide_type": "fragment"
    }
   },
   "source": [
    "Note que o coeficiente angular bate com o esperado!"
   ]
  },
  {
   "cell_type": "markdown",
   "id": "143efc79",
   "metadata": {
    "slideshow": {
     "slide_type": "subslide"
    }
   },
   "source": [
    "#### Coeficiente linear:"
   ]
  },
  {
   "cell_type": "code",
   "execution_count": null,
   "id": "ac9ec602",
   "metadata": {
    "slideshow": {
     "slide_type": "-"
    }
   },
   "outputs": [],
   "source": []
  },
  {
   "cell_type": "markdown",
   "id": "6cac353b",
   "metadata": {
    "slideshow": {
     "slide_type": "fragment"
    }
   },
   "source": [
    "O impacto do ruído é maior no coeficiente linear!"
   ]
  },
  {
   "cell_type": "markdown",
   "id": "1d9aaf19",
   "metadata": {
    "slideshow": {
     "slide_type": "subslide"
    }
   },
   "source": [
    "### Passo 5: Prever saídas para entradas desconhecidas"
   ]
  },
  {
   "cell_type": "markdown",
   "id": "dfd6aec9",
   "metadata": {
    "slideshow": {
     "slide_type": "-"
    }
   },
   "source": [
    "O método `predict` também precisa que a entrada esteja no formato de uma matriz de `features`:"
   ]
  },
  {
   "cell_type": "code",
   "execution_count": null,
   "id": "024baa16",
   "metadata": {
    "slideshow": {
     "slide_type": "-"
    }
   },
   "outputs": [],
   "source": []
  },
  {
   "cell_type": "markdown",
   "id": "e39af1a0",
   "metadata": {
    "slideshow": {
     "slide_type": "subslide"
    }
   },
   "source": [
    "### Passo 6: Visualização"
   ]
  },
  {
   "cell_type": "code",
   "execution_count": null,
   "id": "5433b2ba",
   "metadata": {
    "slideshow": {
     "slide_type": "-"
    }
   },
   "outputs": [],
   "source": []
  },
  {
   "cell_type": "markdown",
   "id": "e24b7f01",
   "metadata": {
    "slideshow": {
     "slide_type": "slide"
    }
   },
   "source": [
    "## 2.2 Classificação"
   ]
  },
  {
   "cell_type": "markdown",
   "id": "d260c55a",
   "metadata": {
    "slideshow": {
     "slide_type": "-"
    }
   },
   "source": [
    "Vários datasets simples podem ser encontrados no modulo `sklearn.datasets`"
   ]
  },
  {
   "cell_type": "code",
   "execution_count": null,
   "id": "dc725f75",
   "metadata": {
    "slideshow": {
     "slide_type": "-"
    }
   },
   "outputs": [],
   "source": []
  },
  {
   "cell_type": "markdown",
   "id": "d22ba3c2",
   "metadata": {
    "slideshow": {
     "slide_type": "-"
    }
   },
   "source": [
    "Este é um dataset de digitos escritos a mao, muito utilizado para aprender os princípios:"
   ]
  },
  {
   "cell_type": "code",
   "execution_count": null,
   "id": "247562e1",
   "metadata": {
    "slideshow": {
     "slide_type": "-"
    }
   },
   "outputs": [],
   "source": []
  },
  {
   "cell_type": "markdown",
   "id": "1762350b",
   "metadata": {
    "slideshow": {
     "slide_type": "subslide"
    }
   },
   "source": [
    "O atributo `DESCR` contém uma breve descrição do dataset."
   ]
  },
  {
   "cell_type": "code",
   "execution_count": null,
   "id": "61ed439c",
   "metadata": {
    "slideshow": {
     "slide_type": "-"
    }
   },
   "outputs": [],
   "source": []
  },
  {
   "cell_type": "markdown",
   "id": "dd3c0a10",
   "metadata": {
    "slideshow": {
     "slide_type": "subslide"
    }
   },
   "source": [
    "O atributo `data` contém a matriz de `features` no formato adequado:"
   ]
  },
  {
   "cell_type": "code",
   "execution_count": null,
   "id": "8970cd5f",
   "metadata": {
    "slideshow": {
     "slide_type": "-"
    }
   },
   "outputs": [],
   "source": []
  },
  {
   "cell_type": "markdown",
   "id": "2b9d46aa",
   "metadata": {
    "slideshow": {
     "slide_type": "-"
    }
   },
   "source": [
    "O atributo `images` contém a mesma informação de `data` (valores dos 64 pixels) mas ainda no formato de imagens 8x8:"
   ]
  },
  {
   "cell_type": "code",
   "execution_count": null,
   "id": "63107d28",
   "metadata": {
    "slideshow": {
     "slide_type": "-"
    }
   },
   "outputs": [],
   "source": []
  },
  {
   "cell_type": "markdown",
   "id": "a2fad185",
   "metadata": {
    "slideshow": {
     "slide_type": "subslide"
    }
   },
   "source": [
    "Vamos dar uma olhada no nosso dataset..."
   ]
  },
  {
   "cell_type": "code",
   "execution_count": null,
   "id": "ea794048",
   "metadata": {
    "slideshow": {
     "slide_type": "-"
    }
   },
   "outputs": [],
   "source": []
  },
  {
   "cell_type": "markdown",
   "id": "a7c841a9",
   "metadata": {
    "slideshow": {
     "slide_type": "subslide"
    }
   },
   "source": [
    "### Passo 1: Escolher um modelo"
   ]
  },
  {
   "cell_type": "code",
   "execution_count": null,
   "id": "7420ff10",
   "metadata": {
    "slideshow": {
     "slide_type": "-"
    }
   },
   "outputs": [],
   "source": []
  },
  {
   "cell_type": "markdown",
   "id": "82fa7be3",
   "metadata": {
    "slideshow": {
     "slide_type": "subslide"
    }
   },
   "source": [
    "### Passo 2: Inicializar modelo (hiperparâmetros)"
   ]
  },
  {
   "cell_type": "code",
   "execution_count": null,
   "id": "1e272f6a",
   "metadata": {
    "slideshow": {
     "slide_type": "-"
    }
   },
   "outputs": [],
   "source": []
  },
  {
   "cell_type": "markdown",
   "id": "c47ad008",
   "metadata": {
    "slideshow": {
     "slide_type": "subslide"
    }
   },
   "source": [
    "### Passo 3: Organizar os dados"
   ]
  },
  {
   "cell_type": "code",
   "execution_count": null,
   "id": "63eda372",
   "metadata": {
    "slideshow": {
     "slide_type": "-"
    }
   },
   "outputs": [],
   "source": []
  },
  {
   "cell_type": "code",
   "execution_count": null,
   "id": "d3028133",
   "metadata": {
    "slideshow": {
     "slide_type": "-"
    }
   },
   "outputs": [],
   "source": []
  },
  {
   "cell_type": "markdown",
   "id": "05ddc4fd",
   "metadata": {
    "slideshow": {
     "slide_type": "-"
    }
   },
   "source": [
    "Separamos os dados em um conjunto para treino e outro para validação:"
   ]
  },
  {
   "cell_type": "code",
   "execution_count": null,
   "id": "5c5825f9",
   "metadata": {
    "slideshow": {
     "slide_type": "-"
    }
   },
   "outputs": [],
   "source": []
  },
  {
   "cell_type": "markdown",
   "id": "71e2125a",
   "metadata": {
    "slideshow": {
     "slide_type": "subslide"
    }
   },
   "source": [
    "### Passo 4: Treinar o modelo (fit)"
   ]
  },
  {
   "cell_type": "code",
   "execution_count": null,
   "id": "0bd0978e",
   "metadata": {
    "slideshow": {
     "slide_type": "-"
    }
   },
   "outputs": [],
   "source": []
  },
  {
   "cell_type": "markdown",
   "id": "69fc6bbc",
   "metadata": {
    "slideshow": {
     "slide_type": "subslide"
    }
   },
   "source": [
    "### Passo 5: Prever saídas para entradas desconhecidas"
   ]
  },
  {
   "cell_type": "code",
   "execution_count": null,
   "id": "a5d4167e",
   "metadata": {},
   "outputs": [],
   "source": []
  },
  {
   "cell_type": "markdown",
   "id": "e53e1b3f",
   "metadata": {
    "slideshow": {
     "slide_type": "subslide"
    }
   },
   "source": [
    "### Passo 6: Visualização"
   ]
  },
  {
   "cell_type": "code",
   "execution_count": null,
   "id": "cc57b152",
   "metadata": {
    "slideshow": {
     "slide_type": "-"
    }
   },
   "outputs": [],
   "source": []
  },
  {
   "cell_type": "markdown",
   "id": "35568594",
   "metadata": {
    "slideshow": {
     "slide_type": "subslide"
    }
   },
   "source": [
    "### Passo 7: Avaliar o desempenho do modelo"
   ]
  },
  {
   "cell_type": "code",
   "execution_count": null,
   "id": "40f17614",
   "metadata": {
    "slideshow": {
     "slide_type": "-"
    }
   },
   "outputs": [],
   "source": []
  },
  {
   "cell_type": "markdown",
   "id": "94f30c43",
   "metadata": {
    "slideshow": {
     "slide_type": "subslide"
    }
   },
   "source": [
    "Os detalhes para cada classe individual podem ser observados na forma de um mini-relatorio:"
   ]
  },
  {
   "cell_type": "code",
   "execution_count": null,
   "id": "1ad69750",
   "metadata": {
    "slideshow": {
     "slide_type": "-"
    }
   },
   "outputs": [],
   "source": []
  },
  {
   "cell_type": "markdown",
   "id": "1861fe1d",
   "metadata": {
    "slideshow": {
     "slide_type": "subslide"
    }
   },
   "source": [
    "### Matrix de Confusão"
   ]
  },
  {
   "cell_type": "markdown",
   "id": "70b0b188",
   "metadata": {
    "slideshow": {
     "slide_type": "-"
    }
   },
   "source": [
    "Essa matriz representa o nímero de vezes que uma classe foi prevista quando outra era a a \"verdadeira\". "
   ]
  },
  {
   "cell_type": "markdown",
   "id": "eaa0e6d7",
   "metadata": {
    "slideshow": {
     "slide_type": "-"
    }
   },
   "source": [
    "Dessa forma, a diagonal representa os acertos e todos os elementos fora da diagonal podem ser usados para identificar os casos de falha do modelo!"
   ]
  },
  {
   "cell_type": "code",
   "execution_count": null,
   "id": "497d901f",
   "metadata": {},
   "outputs": [],
   "source": []
  },
  {
   "cell_type": "markdown",
   "id": "34289311",
   "metadata": {
    "slideshow": {
     "slide_type": "slide"
    }
   },
   "source": [
    "## Isomap"
   ]
  },
  {
   "cell_type": "markdown",
   "id": "db6dc26d",
   "metadata": {
    "slideshow": {
     "slide_type": "-"
    }
   },
   "source": [
    "Vamos visualizar os dados 64-dimensionais das imagens em 2 dimensões usando um método de redução de dimensionalidade."
   ]
  },
  {
   "cell_type": "markdown",
   "id": "d23282e1",
   "metadata": {
    "slideshow": {
     "slide_type": "-"
    }
   },
   "source": [
    "O `Isomap` é um método comum para fazer exatamente isso. Tais métodos permitem identificar a separabilidade das classes, de certa forma relacionada com os possiveis casos de falha."
   ]
  },
  {
   "cell_type": "code",
   "execution_count": null,
   "id": "f812a42c",
   "metadata": {
    "slideshow": {
     "slide_type": "-"
    }
   },
   "outputs": [],
   "source": []
  },
  {
   "cell_type": "markdown",
   "id": "8a36a1dd",
   "metadata": {
    "slideshow": {
     "slide_type": "subslide"
    }
   },
   "source": [
    "Vamos dar uma visualizada nos nossos dados..."
   ]
  },
  {
   "cell_type": "code",
   "execution_count": null,
   "id": "539a6be5",
   "metadata": {
    "slideshow": {
     "slide_type": "-"
    }
   },
   "outputs": [],
   "source": []
  },
  {
   "cell_type": "markdown",
   "id": "c0f1f630",
   "metadata": {
    "slideshow": {
     "slide_type": "subslide"
    }
   },
   "source": [
    "## Validação da forma errada"
   ]
  },
  {
   "cell_type": "markdown",
   "id": "e4cdace7",
   "metadata": {
    "slideshow": {
     "slide_type": "-"
    }
   },
   "source": [
    "Vamos mostrar o porquê da necessidade de treinar e validar em conjuntos de dados separados."
   ]
  },
  {
   "cell_type": "markdown",
   "id": "fc377a17",
   "metadata": {
    "slideshow": {
     "slide_type": "-"
    }
   },
   "source": [
    "O dataset `iris` consiste em medidas de tamanhos de petalas/sepalas de 3 espécies de flores."
   ]
  },
  {
   "cell_type": "code",
   "execution_count": null,
   "id": "9965725b",
   "metadata": {
    "slideshow": {
     "slide_type": "-"
    }
   },
   "outputs": [],
   "source": []
  },
  {
   "cell_type": "markdown",
   "id": "5fb4bf4d",
   "metadata": {
    "slideshow": {
     "slide_type": "subslide"
    }
   },
   "source": [
    "O método dos $k$-*nearest neighbors* compara uma amostra nova com as amostras conhecidas e retorna a classe média entre as $k$ amostras conhecidas mais parecidas."
   ]
  },
  {
   "cell_type": "code",
   "execution_count": null,
   "id": "c4d62faf",
   "metadata": {
    "slideshow": {
     "slide_type": "-"
    }
   },
   "outputs": [],
   "source": []
  },
  {
   "cell_type": "markdown",
   "id": "f4ddf8b0",
   "metadata": {
    "slideshow": {
     "slide_type": "subslide"
    }
   },
   "source": [
    "Um pouco de *insight* nas informações disponiveis:"
   ]
  },
  {
   "cell_type": "code",
   "execution_count": null,
   "id": "826c2305",
   "metadata": {
    "slideshow": {
     "slide_type": "-"
    }
   },
   "outputs": [],
   "source": []
  },
  {
   "cell_type": "markdown",
   "id": "94bca245",
   "metadata": {
    "slideshow": {
     "slide_type": "fragment"
    }
   },
   "source": [
    "Nosso modelo com `n_neighbors = 1` irá simplesmente retornar a classe do exemplo mais parecido que ele conheça."
   ]
  },
  {
   "cell_type": "code",
   "execution_count": null,
   "id": "5360aba5",
   "metadata": {
    "slideshow": {
     "slide_type": "-"
    }
   },
   "outputs": [],
   "source": []
  },
  {
   "cell_type": "markdown",
   "id": "4a72531d",
   "metadata": {
    "slideshow": {
     "slide_type": "subslide"
    }
   },
   "source": [
    "Treinamos em todos os nossos dados..."
   ]
  },
  {
   "cell_type": "code",
   "execution_count": null,
   "id": "582d7a76",
   "metadata": {
    "slideshow": {
     "slide_type": "-"
    }
   },
   "outputs": [],
   "source": []
  },
  {
   "cell_type": "markdown",
   "id": "b110a8e5",
   "metadata": {
    "slideshow": {
     "slide_type": "fragment"
    }
   },
   "source": [
    "... e prevemos também em todos os dados!"
   ]
  },
  {
   "cell_type": "code",
   "execution_count": null,
   "id": "4b76d815",
   "metadata": {
    "slideshow": {
     "slide_type": "-"
    }
   },
   "outputs": [],
   "source": []
  },
  {
   "cell_type": "markdown",
   "id": "3ca885fe",
   "metadata": {
    "slideshow": {
     "slide_type": "subslide"
    }
   },
   "source": [
    "Vamos verificar a precisão do nosso modelo:"
   ]
  },
  {
   "cell_type": "code",
   "execution_count": null,
   "id": "f078b8fa",
   "metadata": {
    "slideshow": {
     "slide_type": "-"
    }
   },
   "outputs": [],
   "source": []
  },
  {
   "cell_type": "markdown",
   "id": "f16781b1",
   "metadata": {
    "slideshow": {
     "slide_type": "fragment"
    }
   },
   "source": [
    "Uau! 100% de acerto!"
   ]
  },
  {
   "cell_type": "markdown",
   "id": "aa34f807",
   "metadata": {
    "slideshow": {
     "slide_type": "-"
    }
   },
   "source": [
    "Calma gafanhoto. Isso acontece porque o modelo \"decora\" o que ele já \"viu\", e provavelmente não vai generalizar tão bem quanto desejamos..."
   ]
  },
  {
   "cell_type": "markdown",
   "id": "0d4e0519",
   "metadata": {
    "slideshow": {
     "slide_type": "-"
    }
   },
   "source": [
    "Para evitar essas avaliações excessivamente otimistas, é de extrema importância que você **SEMPRE** separe o conjunto de treino do conjunto de teste!"
   ]
  },
  {
   "cell_type": "markdown",
   "id": "9ea34908",
   "metadata": {
    "slideshow": {
     "slide_type": "subslide"
    }
   },
   "source": [
    "## Validação da forma correta."
   ]
  },
  {
   "cell_type": "markdown",
   "id": "ff733bf5",
   "metadata": {
    "slideshow": {
     "slide_type": "-"
    }
   },
   "source": [
    "Vamos usar o `train_test_split` para obter uma estimativa mais realista do desempenho desse mesmo modelo"
   ]
  },
  {
   "cell_type": "code",
   "execution_count": null,
   "id": "a1ed3b2e",
   "metadata": {
    "slideshow": {
     "slide_type": "-"
    }
   },
   "outputs": [],
   "source": []
  },
  {
   "cell_type": "markdown",
   "id": "369f1c5d",
   "metadata": {
    "slideshow": {
     "slide_type": "subslide"
    }
   },
   "source": [
    "**Validação cruzada (*cross-validation*):** quando os dados são poucos, podemos alternar qual conjunto é usado no treino e qual é usado no teste."
   ]
  },
  {
   "cell_type": "code",
   "execution_count": null,
   "id": "f114ae05",
   "metadata": {
    "slideshow": {
     "slide_type": "-"
    }
   },
   "outputs": [],
   "source": []
  },
  {
   "cell_type": "markdown",
   "id": "4f2ab57a",
   "metadata": {
    "slideshow": {
     "slide_type": "fragment"
    }
   },
   "source": [
    "Essa tecnica permite ter dois *scores* distintos, e com isso podemos fazer uma média para ter uma estimativa mais precisa:"
   ]
  },
  {
   "cell_type": "code",
   "execution_count": null,
   "id": "91b63531",
   "metadata": {
    "slideshow": {
     "slide_type": "-"
    }
   },
   "outputs": [],
   "source": []
  },
  {
   "cell_type": "markdown",
   "id": "583ad66c",
   "metadata": {
    "slideshow": {
     "slide_type": "subslide"
    }
   },
   "source": [
    "Isso ja é convenientemente implementado pela função `cross_val_score`..."
   ]
  },
  {
   "cell_type": "code",
   "execution_count": null,
   "id": "e977d3f4",
   "metadata": {},
   "outputs": [],
   "source": []
  },
  {
   "cell_type": "markdown",
   "id": "baf0dc68",
   "metadata": {
    "slideshow": {
     "slide_type": "fragment"
    }
   },
   "source": [
    "Podemos especificar o numero de repartições que fazemos nos nossos dados através do argumento `cv`:"
   ]
  },
  {
   "cell_type": "code",
   "execution_count": null,
   "id": "e95c0836",
   "metadata": {
    "slideshow": {
     "slide_type": "-"
    }
   },
   "outputs": [],
   "source": []
  },
  {
   "cell_type": "markdown",
   "id": "abdc3e9f",
   "metadata": {
    "slideshow": {
     "slide_type": "fragment"
    }
   },
   "source": [
    "Ter uma media e uma incerteza associada são bons valores para reportar como desempenho em um projeto:"
   ]
  },
  {
   "cell_type": "code",
   "execution_count": null,
   "id": "28f125f3",
   "metadata": {
    "slideshow": {
     "slide_type": "-"
    }
   },
   "outputs": [],
   "source": []
  },
  {
   "cell_type": "markdown",
   "id": "f0a80558",
   "metadata": {
    "slideshow": {
     "slide_type": "slide"
    }
   },
   "source": [
    "## 2.3 Pipelines"
   ]
  },
  {
   "cell_type": "markdown",
   "id": "9832540d",
   "metadata": {
    "slideshow": {
     "slide_type": "-"
    }
   },
   "source": [
    "Vamos usar o dataset de preços de casas na California. "
   ]
  },
  {
   "cell_type": "code",
   "execution_count": null,
   "id": "da4c2a04",
   "metadata": {
    "slideshow": {
     "slide_type": "-"
    }
   },
   "outputs": [],
   "source": []
  },
  {
   "cell_type": "markdown",
   "id": "e234e207",
   "metadata": {
    "slideshow": {
     "slide_type": "fragment"
    }
   },
   "source": [
    "- Ao usar o argumento `return_X_y`, já recebemos `X` e `y` diretamente. \n",
    "- Ao usar o argumento `as_frame`, `X` e `y` se tornam objetos `Pandas` (DataFrames)."
   ]
  },
  {
   "cell_type": "markdown",
   "id": "88450d68",
   "metadata": {
    "slideshow": {
     "slide_type": "subslide"
    }
   },
   "source": [
    "Nossos dados consistem em 8 *features* (colunas), todos numéricos:"
   ]
  },
  {
   "cell_type": "code",
   "execution_count": null,
   "id": "c63337da",
   "metadata": {
    "slideshow": {
     "slide_type": "-"
    }
   },
   "outputs": [],
   "source": []
  },
  {
   "cell_type": "markdown",
   "id": "24068c33",
   "metadata": {
    "slideshow": {
     "slide_type": "fragment"
    }
   },
   "source": [
    "Como temos mais de 20 mil amostras, vamos usar uma versão reduzida com apenas 20% dos dados:"
   ]
  },
  {
   "cell_type": "code",
   "execution_count": null,
   "id": "f82f764a",
   "metadata": {
    "slideshow": {
     "slide_type": "-"
    }
   },
   "outputs": [],
   "source": []
  },
  {
   "cell_type": "markdown",
   "id": "bccbaa08",
   "metadata": {
    "slideshow": {
     "slide_type": "subslide"
    }
   },
   "source": [
    "Para ilustrar o uso de imputação de dados, vamos artificialmente inserir `NaN`s na nossa tabela. Para isso, escolhemos colocar um `NaN` em cada linha, em colunas escolhidas aleatoriamente."
   ]
  },
  {
   "cell_type": "code",
   "execution_count": null,
   "id": "337d73d1",
   "metadata": {
    "slideshow": {
     "slide_type": "-"
    }
   },
   "outputs": [],
   "source": []
  },
  {
   "cell_type": "markdown",
   "id": "8962bdf4",
   "metadata": {
    "slideshow": {
     "slide_type": "fragment"
    }
   },
   "source": [
    "Usamos o *fancy indexing* do Numpy para usar a lista de indices de linhas e colunas selecionados e atribuir o valor `NaN`:"
   ]
  },
  {
   "cell_type": "code",
   "execution_count": null,
   "id": "2f867444",
   "metadata": {
    "slideshow": {
     "slide_type": "-"
    }
   },
   "outputs": [],
   "source": []
  },
  {
   "cell_type": "code",
   "execution_count": null,
   "id": "2a45c6c0",
   "metadata": {
    "slideshow": {
     "slide_type": "-"
    }
   },
   "outputs": [],
   "source": []
  },
  {
   "cell_type": "markdown",
   "id": "cc0d0d3c",
   "metadata": {
    "slideshow": {
     "slide_type": "fragment"
    }
   },
   "source": [
    "Note que agora temos exatamente um `NaN` por linha em alguma coluna aleatória."
   ]
  },
  {
   "cell_type": "markdown",
   "id": "0ff0b74c",
   "metadata": {
    "slideshow": {
     "slide_type": "subslide"
    }
   },
   "source": [
    "Como o problema agora é de regressão, usamos o `Regressor` em vez do `Classifier`:"
   ]
  },
  {
   "cell_type": "code",
   "execution_count": null,
   "id": "4d25bbd0",
   "metadata": {
    "slideshow": {
     "slide_type": "-"
    }
   },
   "outputs": [],
   "source": []
  },
  {
   "cell_type": "markdown",
   "id": "91be03cc",
   "metadata": {
    "slideshow": {
     "slide_type": "fragment"
    }
   },
   "source": [
    "Além disso, vamos precisar de um *imputer* para preencher os `NaN`s em uma etapa de pre-processamento:"
   ]
  },
  {
   "cell_type": "code",
   "execution_count": null,
   "id": "2d29636a",
   "metadata": {
    "slideshow": {
     "slide_type": "-"
    }
   },
   "outputs": [],
   "source": []
  },
  {
   "cell_type": "markdown",
   "id": "3d250d87",
   "metadata": {
    "slideshow": {
     "slide_type": "subslide"
    }
   },
   "source": [
    "Para construir uma pipeline, temos duas possibilidades:"
   ]
  },
  {
   "cell_type": "code",
   "execution_count": null,
   "id": "2ddbb4d9",
   "metadata": {
    "slideshow": {
     "slide_type": "-"
    }
   },
   "outputs": [],
   "source": []
  },
  {
   "cell_type": "markdown",
   "id": "4c4e489a",
   "metadata": {
    "slideshow": {
     "slide_type": "fragment"
    }
   },
   "source": [
    "A função `make_pipeline` simplesmente recebe os passos em ordem:"
   ]
  },
  {
   "cell_type": "code",
   "execution_count": null,
   "id": "6d90581f",
   "metadata": {
    "slideshow": {
     "slide_type": "-"
    }
   },
   "outputs": [],
   "source": []
  },
  {
   "cell_type": "markdown",
   "id": "fd66f47d",
   "metadata": {
    "slideshow": {
     "slide_type": "fragment"
    }
   },
   "source": [
    "Por outro lado, um objeto `Pipeline` pode ser construído com nomes customizados para cada passo:"
   ]
  },
  {
   "cell_type": "code",
   "execution_count": null,
   "id": "e1891aa5",
   "metadata": {
    "slideshow": {
     "slide_type": "-"
    }
   },
   "outputs": [],
   "source": []
  },
  {
   "cell_type": "markdown",
   "id": "f01e5009",
   "metadata": {
    "slideshow": {
     "slide_type": "subslide"
    }
   },
   "source": [
    "Agora podemos usar nossa pipeline como se fosse um modelo comum, sem nos preocuparmos em executar o pre-processamento cada vez, isso se torna ainda mais util conforme sua pipeline se torna mais complexa. Além disso, como o problema é de regressão, em vez da `accuracy` usamos o erro absoluto médio (negativo) como *score* de validação."
   ]
  },
  {
   "cell_type": "code",
   "execution_count": null,
   "id": "7f383de7",
   "metadata": {
    "slideshow": {
     "slide_type": "-"
    }
   },
   "outputs": [],
   "source": []
  },
  {
   "cell_type": "markdown",
   "id": "16c58ccf",
   "metadata": {
    "slideshow": {
     "slide_type": "fragment"
    }
   },
   "source": [
    "Como nossos dados de preços estão em unidades de $\\$ 100.000,00$, multiplicamos por `100_000`, isso significa que nossa regressão acaba errando, em média, o preço de uma casa por algo em torno de $\\$ 55.000,00$."
   ]
  },
  {
   "cell_type": "code",
   "execution_count": null,
   "id": "d48388f1",
   "metadata": {
    "slideshow": {
     "slide_type": "-"
    }
   },
   "outputs": [],
   "source": []
  },
  {
   "cell_type": "markdown",
   "id": "e71e3b32",
   "metadata": {
    "slideshow": {
     "slide_type": "subslide"
    }
   },
   "source": [
    "Vamos calcular algumas previsões:"
   ]
  },
  {
   "cell_type": "code",
   "execution_count": null,
   "id": "0764f2cd",
   "metadata": {
    "slideshow": {
     "slide_type": "-"
    }
   },
   "outputs": [],
   "source": []
  },
  {
   "cell_type": "markdown",
   "id": "31a88d85",
   "metadata": {
    "slideshow": {
     "slide_type": "fragment"
    }
   },
   "source": [
    "Agora vamos dar uma visualizada:"
   ]
  },
  {
   "cell_type": "code",
   "execution_count": null,
   "id": "c11cb66c",
   "metadata": {
    "slideshow": {
     "slide_type": "-"
    }
   },
   "outputs": [],
   "source": []
  },
  {
   "cell_type": "markdown",
   "id": "40d367a7",
   "metadata": {
    "slideshow": {
     "slide_type": "subslide"
    }
   },
   "source": [
    "Vea que em geral, os pontos se concentram na reta 1:1 com uma certa dispersão. Além disso, existe uma fonte clara de erro para os precos acima de $\\$500.000,00$, isso se deve ao fato de nossos dados serem truncados! "
   ]
  },
  {
   "cell_type": "markdown",
   "id": "3876e2c0",
   "metadata": {
    "slideshow": {
     "slide_type": "-"
    }
   },
   "source": [
    "Dessa forma, todas as casas com valores maiores que  $\\$500.000,00$ tiveram seu preço truncado. Isso mostra a necessidade de conhecer a proveniencia e os vieses intrínsecos aos seus dados!"
   ]
  },
  {
   "cell_type": "markdown",
   "id": "b3f2a7c0",
   "metadata": {
    "slideshow": {
     "slide_type": "slide"
    }
   },
   "source": [
    "## 2.4 Série temporal"
   ]
  },
  {
   "cell_type": "markdown",
   "id": "eb5c9be6",
   "metadata": {
    "slideshow": {
     "slide_type": "-"
    }
   },
   "source": [
    "Vamos simular uma série temporal composta por duas oscilações bem definidas e um sinal de ruído:"
   ]
  },
  {
   "cell_type": "code",
   "execution_count": null,
   "id": "d0cb0a8b",
   "metadata": {},
   "outputs": [],
   "source": []
  },
  {
   "cell_type": "markdown",
   "id": "06307720",
   "metadata": {
    "slideshow": {
     "slide_type": "fragment"
    }
   },
   "source": [
    "Geramos 200 pontos na nossa curva entre 0 e 10 com nivel de ruido igual a 0.3:"
   ]
  },
  {
   "cell_type": "code",
   "execution_count": null,
   "id": "a0a2b255",
   "metadata": {
    "slideshow": {
     "slide_type": "-"
    }
   },
   "outputs": [],
   "source": []
  },
  {
   "cell_type": "markdown",
   "id": "2796f9b4",
   "metadata": {
    "slideshow": {
     "slide_type": "subslide"
    }
   },
   "source": [
    "Vamos visualizar nossa série temporal simulada:"
   ]
  },
  {
   "cell_type": "code",
   "execution_count": null,
   "id": "05f62790",
   "metadata": {
    "slideshow": {
     "slide_type": "-"
    }
   },
   "outputs": [],
   "source": []
  },
  {
   "cell_type": "markdown",
   "id": "66e9cfe1",
   "metadata": {
    "slideshow": {
     "slide_type": "subslide"
    }
   },
   "source": [
    "Implementamos os passos 1, 2, 3 e 4:"
   ]
  },
  {
   "cell_type": "code",
   "execution_count": null,
   "id": "e9186d71",
   "metadata": {
    "slideshow": {
     "slide_type": "-"
    }
   },
   "outputs": [],
   "source": []
  },
  {
   "cell_type": "markdown",
   "id": "a4a9d766",
   "metadata": {
    "slideshow": {
     "slide_type": "fragment"
    }
   },
   "source": [
    "Implementamos agora o passo 5:"
   ]
  },
  {
   "cell_type": "code",
   "execution_count": null,
   "id": "a249d12e",
   "metadata": {
    "slideshow": {
     "slide_type": "-"
    }
   },
   "outputs": [],
   "source": []
  },
  {
   "cell_type": "markdown",
   "id": "275a9392",
   "metadata": {
    "slideshow": {
     "slide_type": "subslide"
    }
   },
   "source": [
    "Vejamos agora o que temos em \"mãos\"..."
   ]
  },
  {
   "cell_type": "code",
   "execution_count": null,
   "id": "e9e21a21",
   "metadata": {
    "slideshow": {
     "slide_type": "-"
    }
   },
   "outputs": [],
   "source": []
  },
  {
   "cell_type": "markdown",
   "id": "7b37734e",
   "metadata": {
    "slideshow": {
     "slide_type": "subslide"
    }
   },
   "source": [
    "- Note que uma o método *random forest* não é útil para extrapolação. Entretanto, esse método captura as não-linearidades que um `LinearRegressor` por sua vez não seria capaz."
   ]
  },
  {
   "cell_type": "markdown",
   "id": "c6d9b900",
   "metadata": {
    "slideshow": {
     "slide_type": "-"
    }
   },
   "source": [
    "- Diante disso, experiência com métodos diferentes é de extrema importante para aprender qual é o método mais adequado para cada caso!"
   ]
  },
  {
   "cell_type": "markdown",
   "id": "7b259e7a",
   "metadata": {
    "slideshow": {
     "slide_type": "slide"
    }
   },
   "source": [
    "![image](https://c.tenor.com/hEOM8E4epvgAAAAC/hahaha-thats-all-folks.gif)"
   ]
  },
  {
   "cell_type": "markdown",
   "id": "0c45ae36",
   "metadata": {
    "slideshow": {
     "slide_type": "-"
    }
   },
   "source": [
    "---"
   ]
  },
  {
   "cell_type": "markdown",
   "id": "5c59e2cd",
   "metadata": {
    "slideshow": {
     "slide_type": "slide"
    }
   },
   "source": [
    "## Para se divertir!"
   ]
  },
  {
   "cell_type": "markdown",
   "id": "8724ec10",
   "metadata": {
    "slideshow": {
     "slide_type": "-"
    }
   },
   "source": [
    "- [Lista de problemas #01](https://github.com/GabrielWendell/Intro_ML/blob/main/Listas/Problemas1.ipynb)"
   ]
  },
  {
   "cell_type": "markdown",
   "id": "7238361a",
   "metadata": {
    "slideshow": {
     "slide_type": "-"
    }
   },
   "source": [
    "---"
   ]
  }
 ],
 "metadata": {
  "celltoolbar": "Slideshow",
  "kernelspec": {
   "display_name": "Python 3 (ipykernel)",
   "language": "python",
   "name": "python3"
  },
  "language_info": {
   "codemirror_mode": {
    "name": "ipython",
    "version": 3
   },
   "file_extension": ".py",
   "mimetype": "text/x-python",
   "name": "python",
   "nbconvert_exporter": "python",
   "pygments_lexer": "ipython3",
   "version": "3.9.8"
  }
 },
 "nbformat": 4,
 "nbformat_minor": 5
}
